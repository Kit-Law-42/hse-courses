{
 "cells": [
  {
   "cell_type": "markdown",
   "metadata": {},
   "source": [
    "## Pandas exercises\n",
    "#### The first part oftutorial is intended for windows users, which failed / not able to install the VM in the course \"big-data-integration-processing\" in coursera. This part will focus on how to load data with pySpark on windows, and focus on ever \n",
    "#### "
   ]
  },
  {
   "cell_type": "code",
   "execution_count": 1,
   "metadata": {},
   "outputs": [],
   "source": [
    "from pyspark import SparkConf, SparkContext, SQLContext\n",
    "# Create a spark configuration with 20 threads.\n",
    "# This code will run locally on master\n",
    "conf = (SparkConf ()\n",
    "        . setMaster(\"local[20]\")\n",
    "        . setAppName(\"sample app for reading streaming sources\")\n",
    "        . set(\"spark.executor.memory\", \"2g\"))\n",
    "\n",
    "sc = SparkContext(conf=conf)"
   ]
  },
  {
   "cell_type": "code",
   "execution_count": 2,
   "metadata": {},
   "outputs": [],
   "source": [
    "import os\n",
    "# absolute path to this file\n",
    "cwd = os.getcwd()\n",
    "sqlContext = SQLContext(sc)\n",
    "\n",
    "#df = sqlContext.read.format('com.databricks.spark.csv').options(header='true', inferschema='true').load('final-project/country-list.csv')\n",
    "country_lines = sc.textFile(os.path.join (cwd, \"big-data-3/final-project/country-list.csv\"))"
   ]
  },
  {
   "cell_type": "code",
   "execution_count": 3,
   "metadata": {},
   "outputs": [],
   "source": [
    "# Convert each line into a pair of words\n",
    "words = country_lines.map(lambda line: line.split(\",\"))\n",
    "#words = country_lines.flatMap(lambda line: line.split(\",\"))\n"
   ]
  },
  {
   "cell_type": "code",
   "execution_count": 4,
   "metadata": {},
   "outputs": [],
   "source": [
    "# Convert each pair of words into a tuple\n",
    "#Assign initial count value to each word. Next, we will create tuples for each word with an initial count of 1\n",
    "#country_tuples = words.map(lambda word : (word, 1))"
   ]
  },
  {
   "cell_type": "code",
   "execution_count": 5,
   "metadata": {},
   "outputs": [
    {
     "output_type": "stream",
     "name": "stdout",
     "text": "root\n |-- country: string (nullable = true)\n |-- code: string (nullable = true)\n\n"
    },
    {
     "output_type": "execute_result",
     "data": {
      "text/plain": "[Row(country='Afghanistan', code=' AFG'),\n Row(country='Albania', code=' ALB'),\n Row(country='Algeria', code=' ALG')]"
     },
     "metadata": {},
     "execution_count": 5
    }
   ],
   "source": [
    "# Create the DataFrame, look at schema and contents\n",
    "countryDF = sqlContext.createDataFrame(words, [\"country\", \"code\"])\n",
    "countryDF.printSchema()\n",
    "countryDF.take(3)"
   ]
  },
  {
   "cell_type": "code",
   "execution_count": 6,
   "metadata": {},
   "outputs": [],
   "source": [
    "# Read tweets CSV file into RDD of lines\n",
    "tweet_lines = sc.textFile(os.path.join (cwd, \"big-data-3/final-project/tweets.csv\"))\n"
   ]
  },
  {
   "cell_type": "code",
   "execution_count": 7,
   "metadata": {},
   "outputs": [],
   "source": [
    "# Clean the data: some tweets are empty. Remove the empty tweets using filter() \n",
    "#Method 1\n",
    "tweet_lines_clean = tweet_lines.filter(lambda row: row != '') "
   ]
  },
  {
   "cell_type": "code",
   "execution_count": 8,
   "metadata": {},
   "outputs": [
    {
     "output_type": "execute_result",
     "data": {
      "text/plain": "13391"
     },
     "metadata": {},
     "execution_count": 8
    }
   ],
   "source": [
    "tweet_lines_clean.count()"
   ]
  },
  {
   "cell_type": "code",
   "execution_count": 9,
   "metadata": {},
   "outputs": [],
   "source": [
    "# Perform WordCount on the cleaned tweet texts. (note: this is several lines.)\n",
    "tweet_words = tweet_lines_clean.flatMap(lambda line: line.split(\" \"))\n",
    "tweet_tuples = tweet_words.map(lambda word : (word, 1))\n",
    "tweet_counts = tweet_tuples.reduceByKey(lambda a,b : (a+b)).sortBy(lambda a: a[1], False)"
   ]
  },
  {
   "cell_type": "code",
   "execution_count": 24,
   "metadata": {},
   "outputs": [
    {
     "output_type": "stream",
     "name": "stdout",
     "text": "root\n |-- word: string (nullable = true)\n |-- count: long (nullable = true)\n\n"
    },
    {
     "output_type": "execute_result",
     "data": {
      "text/plain": "[Row(word='to', count=5808),\n Row(word='RT', count=4257),\n Row(word='the', count=4245),\n Row(word='when', count=3906),\n Row(word='FIFA', count=3339)]"
     },
     "metadata": {},
     "execution_count": 24
    }
   ],
   "source": [
    "# Create the DataFrame of tweet word count\n",
    "import pandas as pd\n",
    "tweetDF = sqlContext.createDataFrame(tweet_counts, [\"word\", \"count\"])\n",
    "#tweetDF[\"count\"] = pd.to_numeric(tweetDF[\"count\"])\n",
    "tweetDF.printSchema()\n",
    "tweetDF.take(5)"
   ]
  },
  {
   "cell_type": "code",
   "execution_count": 26,
   "metadata": {},
   "outputs": [
    {
     "output_type": "stream",
     "name": "stdout",
     "text": "root\n |-- word: string (nullable = true)\n |-- count: long (nullable = true)\n |-- country: string (nullable = true)\n |-- code: string (nullable = true)\n\n+-----------+-----+-----------+----+\n|       word|count|    country|code|\n+-----------+-----+-----------+----+\n|     Norway|   52|     Norway| NOR|\n|    Nigeria|   49|    Nigeria| NGA|\n|     France|   42|     France| FRA|\n|   Slovakia|   30|   Slovakia| SVK|\n|    England|   25|    England| ENG|\n|    Germany|   20|    Germany| GER|\n|      Wales|   19|      Wales| WAL|\n|     Russia|   15|     Russia| RUS|\n|     Brazil|   13|     Brazil| BRA|\n|Netherlands|   13|Netherlands| NED|\n|     Canada|   11|     Canada| CAN|\n|Switzerland|   10|Switzerland| SUI|\n|       Chad|    9|       Chad| CHA|\n|   Portugal|    8|   Portugal| POR|\n|      Spain|    8|      Spain| ESP|\n|     Guinea|    8|     Guinea| GUI|\n|     Jordan|    6|     Jordan| JOR|\n|       Iraq|    6|       Iraq| IRQ|\n|    Georgia|    5|    Georgia| GEO|\n|      Japan|    5|      Japan| JPN|\n+-----------+-----+-----------+----+\nonly showing top 20 rows\n\n"
    }
   ],
   "source": [
    "# Join the country and tweet data frames (on the appropriate column)\n",
    "join_table = tweetDF.join(countryDF, tweetDF.word == countryDF.country, how='inner').sort(desc(\"count\"))\n",
    "#tweetDF[\"count\"] = pd.to_numeric(tweetDF[\"count\"])\n",
    "join_table.printSchema()\n",
    "join_table.show()"
   ]
  },
  {
   "cell_type": "code",
   "execution_count": 12,
   "metadata": {},
   "outputs": [
    {
     "output_type": "execute_result",
     "data": {
      "text/plain": "44"
     },
     "metadata": {},
     "execution_count": 12
    }
   ],
   "source": [
    "# Question 1: number of distinct countries mentioned\n",
    "join_table.count()"
   ]
  },
  {
   "cell_type": "code",
   "execution_count": 19,
   "metadata": {},
   "outputs": [
    {
     "output_type": "execute_result",
     "data": {
      "text/plain": "DataFrame[summary: string, word: string, count: string, country: string, code: string]"
     },
     "metadata": {},
     "execution_count": 19
    }
   ],
   "source": [
    "# Question 2: number of countries mentioned in tweets.\n",
    "from pyspark.sql.functions import sum\n",
    "#join_table.rdd.map(lambda x: (1,x[1])).reduceByKey(lambda x,y: x + y).collect()[0][1]\n",
    "join_table.describe()"
   ]
  },
  {
   "cell_type": "code",
   "execution_count": 14,
   "metadata": {},
   "outputs": [
    {
     "output_type": "execute_result",
     "data": {
      "text/plain": "DataFrame[word: string, count: bigint, country: string, code: string]"
     },
     "metadata": {},
     "execution_count": 14
    }
   ],
   "source": [
    "# Table 1: top three countries and their counts.\n",
    "from pyspark.sql.functions import desc\n",
    "join_table.show()"
   ]
  },
  {
   "cell_type": "code",
   "execution_count": 15,
   "metadata": {},
   "outputs": [],
   "source": [
    "# Table 2: counts for Wales, Iceland, and Japan.\n"
   ]
  }
 ],
 "metadata": {
  "language_info": {
   "codemirror_mode": {
    "name": "ipython",
    "version": 3
   },
   "file_extension": ".py",
   "mimetype": "text/x-python",
   "name": "python",
   "nbconvert_exporter": "python",
   "pygments_lexer": "ipython3",
   "version": "3.6.6-final"
  },
  "orig_nbformat": 2,
  "kernelspec": {
   "name": "python36664bitalexlvirtualenvb9f0b0a3af2a4e06a89ee778b9503914",
   "display_name": "Python 3.6.6 64-bit ('alexl': virtualenv)"
  }
 },
 "nbformat": 4,
 "nbformat_minor": 2
}