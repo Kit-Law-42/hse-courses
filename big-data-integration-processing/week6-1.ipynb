{
 "cells": [
  {
   "cell_type": "markdown",
   "metadata": {},
   "source": [
    "## MongoDB  and pandas exercises\n",
    "#### The first part of tutorial is intended for windows users, which failed / not able to install the VM in the course \"big-data-integration-processing\" in coursera.\n",
    "#### The second part of tutorial are examples of quizzes\n",
    "\n",
    "1. Navigate to [MongoDB Download Center] and downad `.msi ` files\n",
    "2. run `.msi` files and install MongoDB on C drive. Installing on other drives may cause MongoDB to malfunction and `\\bin` folder not found.\n",
    "3. Go to `C:\\Program Files\\MongoDB\\Server\\4.2\\bin` and run `mongo.exe`. A MongoDB console will be opened\n",
    "4. copy `\\dump` folder from the course material `big-data-course-3.zip` in `\\bin` folder\n",
    "5. Run `mongorestore` in another windows console and database are restored.\n",
    "6. Type the following MongoDB commands for exercise.\n"
   ]
  },
  {
   "cell_type": "markdown",
   "metadata": {},
   "source": [
    "### Navigate through db.\n",
    "\n",
    "Show Databases and Collections.\n",
    "> `show dbs`\n",
    "\n",
    "Switch to database named sample.\n",
    "> `use sample`\n",
    "\n",
    "show collections(aka. tables) in this database\n",
    "> `show collections`\n",
    "\n",
    "### Simple functions.\n",
    "Show rows count.\n",
    "> `db.users.count()`\n",
    "\n",
    "Examine the contents of one of the documents\n",
    "> `db.users.findOne()`\n",
    "\n",
    "Find distinct values of a specific field.\n",
    "> `db.users.distinct(\"user_name\")`\n",
    "\n",
    "### Find with different parameters\n",
    "\n",
    "Find a user with username ActionSportsJax\n",
    "> `db.users.find({user_name: \"ActionSportsJax\"})`\n",
    "\n",
    "Pretty print it.\n",
    "> `db.users.find({user_name: \"ActionSportsJax\"}).pretty()`\n",
    "\n",
    "Find a user with username ActionSportsJax and Print only ID columns and tweetID columns.\n",
    "> `db.users.find({user_name: \"ActionSportsJax\"}, {tweet_ID :1})`\n",
    "\n",
    "Find a user with username ActionSportsJax and print his  tweet_ID only.\n",
    "> `db.users.find({user_name: \"ActionSportsJax\"}, {tweet_ID :1, _id: 0})`\n",
    "\n",
    "### Perform regular expression search\n",
    "\n",
    "Find all users which their tweets contains words 'FIFA'\n",
    "> `db.users.find({tweet_text : /FIFA/})`\n",
    "\n",
    "Count how many users are there.\n",
    "> `db.users.find({tweet_text : /FIFA/}).count()`\n",
    "\n",
    "### Search using text index.\n",
    "Create an index based on text.\n",
    "> `db.users.createIndex({\"tweet_text\" : \"text\"})`\n",
    "\n",
    "Search by index by exact word match.\n",
    "> `db.users.find({$text : {$search : \"FIFA\"}}).count()`\n",
    "\n",
    "Search by index containing \"FIFA\" and without \"Texas\"\n",
    "> `db.users.find({$text : {$search : \"FIFA - Texas\"}}).count()`\n",
    "\n",
    "### Filter operations\n",
    "Filter tweets with mentioned count greater than 6. \n",
    "> `db.users.find({tweet_mentioned_count: {$gt : 6}})`\n",
    "\n",
    "Filter tweets which have mentioned_count > followers count.\n",
    "> `db.users.find({$where : \"this.tweet_mentioned_count > this.tweet_followers_count\"}).count()`\n",
    "\n",
    "Filter tweets which contain text \"FIFA\" and mentioned more than 4 times\n",
    "> `db.users.find({$and: [{tweet_text : /FIFA/}, {tweet_mentioned_count : {$gt : 4}}]}).count()`"
   ]
  },
  {
   "cell_type": "markdown",
   "metadata": {},
   "source": [
    "## Week 6 queries\n",
    "- Query 1: How many tweets have location not null?\n",
    "- Query 2: How many people have more followers than friends?\n",
    "- Query 3: Return text of tweets which have the string \"http://\" ?\n",
    "- Query 4: Return all the tweets which contain text \"England\" but not \"UEFA\" ?\n",
    "- Query 5: Get all the tweets from the location \"Ireland\" and contains the string \"UEFA\"?"
   ]
  },
  {
   "cell_type": "markdown",
   "metadata": {},
   "source": [
    "#### Query 1:\n",
    "db.users.find({ 'user.Location' : { \\$exists: true, \\$ne: null } }); #6937"
   ]
  },
  {
   "cell_type": "markdown",
   "metadata": {},
   "source": [
    "#### Query 2:\n",
    "db.users.find({\\$where : \"this.tweet_followers_count > this.user.FriendsCount\"}).count() #5809"
   ]
  },
  {
   "cell_type": "markdown",
   "metadata": {},
   "source": [
    "#### Query 3:\n",
    "db.users.find({\\$text : {\\$search : \"http://\"}}, {tweet_text :1, _id: 0}) #48"
   ]
  },
  {
   "cell_type": "markdown",
   "metadata": {},
   "source": [
    "#### Query 4:\n",
    "#### Quote the words to use AND opearator of text search in MongoDB.\n",
    "\n",
    "see https://stackoverflow.com/questions/23985464/how-to-and-and-not-in-mongodb-text-search for examples\n",
    "\n",
    "db.users.find({\\$text : {\\$search : \"\\\"England\\\" \\\"EURO 2016\\\" -UEFA\"}}, {tweet_text :1, _id: 0}) \n"
   ]
  },
  {
   "cell_type": "markdown",
   "metadata": {},
   "source": [
    "#### Query 5:\n",
    "#### Remember to add quote `''` when accessing nested layer.\n",
    "\n",
    "db.users.find({$and: [{'tweet_text' : /UEFA/}, {'user.Location' : \"Ireland\"}]}, {'user.FriendsCount' :1, 'user_name' :2, _id: 0})"
   ]
  },
  {
   "cell_type": "markdown",
   "metadata": {},
   "source": [
    "### Export MongoDB to csv file\n",
    "1. Open a windows console in your MongoDB installed folder `C:\\Program Files\\MongoDB\\Server\\4.2\\bin`\n",
    "2. Type the command `mongoexport --db sample --collection users --type csv --fields \"tweet_text\" --out tweets.csv`"
   ]
  },
  {
   "cell_type": "code",
   "execution_count": null,
   "metadata": {},
   "outputs": [],
   "source": []
  }
 ],
 "metadata": {
  "language_info": {
   "codemirror_mode": {
    "name": "ipython",
    "version": 3
   },
   "file_extension": ".py",
   "mimetype": "text/x-python",
   "name": "python",
   "nbconvert_exporter": "python",
   "pygments_lexer": "ipython3",
   "version": "3.6.6-final"
  },
  "orig_nbformat": 2,
  "kernelspec": {
   "name": "python36664bitalexlvirtualenvb9f0b0a3af2a4e06a89ee778b9503914",
   "display_name": "Python 3.6.6 64-bit ('alexl': virtualenv)"
  }
 },
 "nbformat": 4,
 "nbformat_minor": 2
}