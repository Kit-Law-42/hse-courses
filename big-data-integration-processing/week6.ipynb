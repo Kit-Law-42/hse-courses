{
 "cells": [
  {
   "cell_type": "markdown",
   "metadata": {},
   "source": [
    "### MongoDB exercises\n",
    "#### This tutorial is intended for windows users, which failed / not able to install the VM in the course \"big-data-integration-processing\" in coursera.\n",
    "\n",
    "1. Navigate to [MongoDB Download Center] and downad `.msi ` files\n",
    "2. run `.msi` files and install MongoDB on C drive. Installing on other drives may cause MongoDB to malfunction and `\\bin` folder not found.\n",
    "3. Go to `C:\\Program Files\\MongoDB\\Server\\4.2\\bin` and run `mongo.exe`\n",
    "4. copy `\\dump` folder from the course material `big-data-course-3.zip` in `\\bin` folder\n",
    "5. Run mongorestore and database are restored in the following commands."
   ]
  }
 ],
 "metadata": {
  "language_info": {
   "codemirror_mode": {
    "name": "ipython",
    "version": 3
   },
   "file_extension": ".py",
   "mimetype": "text/x-python",
   "name": "python",
   "nbconvert_exporter": "python",
   "pygments_lexer": "ipython3",
   "version": 3
  },
  "orig_nbformat": 2
 },
 "nbformat": 4,
 "nbformat_minor": 2
}