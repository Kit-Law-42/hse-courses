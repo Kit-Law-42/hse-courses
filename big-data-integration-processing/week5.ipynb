{
 "cells": [
  {
   "cell_type": "markdown",
   "metadata": {},
   "source": [
    "## SparkSQL exercises.\n",
    "### These exercises are modified from spakr-sql/SparkSQL.ipynb to suit win10 environment without jdfc. All data will be loaded from csv directly.\n",
    " "
   ]
  },
  {
   "cell_type": "code",
   "execution_count": 14,
   "metadata": {},
   "outputs": [
    {
     "output_type": "error",
     "ename": "ValueError",
     "evalue": "Cannot run multiple SparkContexts at once; existing SparkContext(app=pyspark-shell, master=local) created by __init__ at <ipython-input-5-de748873d7e7>:4 ",
     "traceback": [
      "\u001b[1;31m---------------------------------------------------------------------------\u001b[0m",
      "\u001b[1;31mValueError\u001b[0m                                Traceback (most recent call last)",
      "\u001b[1;32m<ipython-input-14-5cf179a2b867>\u001b[0m in \u001b[0;36m<module>\u001b[1;34m\u001b[0m\n\u001b[0;32m      7\u001b[0m         . set(\"spark.executor.memory\", \"2g\"))\n\u001b[0;32m      8\u001b[0m \u001b[1;33m\u001b[0m\u001b[0m\n\u001b[1;32m----> 9\u001b[1;33m \u001b[0msc\u001b[0m \u001b[1;33m=\u001b[0m \u001b[0mSparkContext\u001b[0m\u001b[1;33m(\u001b[0m\u001b[0mconf\u001b[0m\u001b[1;33m=\u001b[0m\u001b[0mconf\u001b[0m\u001b[1;33m)\u001b[0m\u001b[1;33m\u001b[0m\u001b[0m\n\u001b[0m",
      "\u001b[1;32mD:\\Users\\alexl\\Anaconda3\\Lib\\site-packages\\pyspark\\context.py\u001b[0m in \u001b[0;36m__init__\u001b[1;34m(self, master, appName, sparkHome, pyFiles, environment, batchSize, serializer, conf, gateway, jsc, profiler_cls)\u001b[0m\n\u001b[0;32m    125\u001b[0m                 \" is not allowed as it is a security risk.\")\n\u001b[0;32m    126\u001b[0m \u001b[1;33m\u001b[0m\u001b[0m\n\u001b[1;32m--> 127\u001b[1;33m         \u001b[0mSparkContext\u001b[0m\u001b[1;33m.\u001b[0m\u001b[0m_ensure_initialized\u001b[0m\u001b[1;33m(\u001b[0m\u001b[0mself\u001b[0m\u001b[1;33m,\u001b[0m \u001b[0mgateway\u001b[0m\u001b[1;33m=\u001b[0m\u001b[0mgateway\u001b[0m\u001b[1;33m,\u001b[0m \u001b[0mconf\u001b[0m\u001b[1;33m=\u001b[0m\u001b[0mconf\u001b[0m\u001b[1;33m)\u001b[0m\u001b[1;33m\u001b[0m\u001b[0m\n\u001b[0m\u001b[0;32m    128\u001b[0m         \u001b[1;32mtry\u001b[0m\u001b[1;33m:\u001b[0m\u001b[1;33m\u001b[0m\u001b[0m\n\u001b[0;32m    129\u001b[0m             self._do_init(master, appName, sparkHome, pyFiles, environment, batchSize, serializer,\n",
      "\u001b[1;32mD:\\Users\\alexl\\Anaconda3\\Lib\\site-packages\\pyspark\\context.py\u001b[0m in \u001b[0;36m_ensure_initialized\u001b[1;34m(cls, instance, gateway, conf)\u001b[0m\n\u001b[0;32m    333\u001b[0m                         \u001b[1;34m\" created by %s at %s:%s \"\u001b[0m\u001b[1;33m\u001b[0m\u001b[0m\n\u001b[0;32m    334\u001b[0m                         % (currentAppName, currentMaster,\n\u001b[1;32m--> 335\u001b[1;33m                             callsite.function, callsite.file, callsite.linenum))\n\u001b[0m\u001b[0;32m    336\u001b[0m                 \u001b[1;32melse\u001b[0m\u001b[1;33m:\u001b[0m\u001b[1;33m\u001b[0m\u001b[0m\n\u001b[0;32m    337\u001b[0m                     \u001b[0mSparkContext\u001b[0m\u001b[1;33m.\u001b[0m\u001b[0m_active_spark_context\u001b[0m \u001b[1;33m=\u001b[0m \u001b[0minstance\u001b[0m\u001b[1;33m\u001b[0m\u001b[0m\n",
      "\u001b[1;31mValueError\u001b[0m: Cannot run multiple SparkContexts at once; existing SparkContext(app=pyspark-shell, master=local) created by __init__ at <ipython-input-5-de748873d7e7>:4 "
     ]
    }
   ],
   "source": [
    "\n",
    "from pyspark import SparkConf, SparkContext, SQLContext\n",
    "# Create a spark configuration with 20 threads.\n",
    "# This code will run locally on master\n",
    "conf = (SparkConf ()\n",
    "        . setMaster(\"local[20]\")\n",
    "        . setAppName(\"sample app for reading files\")\n",
    "        . set(\"spark.executor.memory\", \"2g\"))\n",
    "\n",
    "sc = SparkContext(conf=conf)"
   ]
  },
  {
   "cell_type": "code",
   "execution_count": 12,
   "metadata": {},
   "outputs": [
    {
     "output_type": "error",
     "ename": "AttributeError",
     "evalue": "'RDD' object has no attribute 'show'",
     "traceback": [
      "\u001b[1;31m---------------------------------------------------------------------------\u001b[0m",
      "\u001b[1;31mAttributeError\u001b[0m                            Traceback (most recent call last)",
      "\u001b[1;32m<ipython-input-12-b6f57107a0ac>\u001b[0m in \u001b[0;36m<module>\u001b[1;34m\u001b[0m\n\u001b[0;32m      1\u001b[0m \u001b[0mcsv_2_df\u001b[0m \u001b[1;33m=\u001b[0m \u001b[0msc\u001b[0m\u001b[1;33m.\u001b[0m\u001b[0mtextFile\u001b[0m\u001b[1;33m(\u001b[0m\u001b[1;34m\"big-data-3/gameclicks.csv\"\u001b[0m\u001b[1;33m)\u001b[0m\u001b[1;33m\u001b[0m\u001b[0m\n\u001b[0;32m      2\u001b[0m \u001b[1;31m#print it\u001b[0m\u001b[1;33m\u001b[0m\u001b[1;33m\u001b[0m\u001b[0m\n\u001b[1;32m----> 3\u001b[1;33m \u001b[0mcsv_2_df\u001b[0m\u001b[1;33m.\u001b[0m\u001b[0mshow\u001b[0m\u001b[1;33m(\u001b[0m\u001b[1;33m)\u001b[0m\u001b[1;33m\u001b[0m\u001b[0m\n\u001b[0m",
      "\u001b[1;31mAttributeError\u001b[0m: 'RDD' object has no attribute 'show'"
     ]
    }
   ],
   "source": [
    "# Method 1. Load the csv into RDD format.\n",
    "\n",
    "#csv_2_rdd = sc.textFile(\"big-data-3/gameclicks.csv\")\n"
   ]
  },
  {
   "cell_type": "code",
   "execution_count": 18,
   "metadata": {},
   "outputs": [
    {
     "output_type": "stream",
     "name": "stdout",
     "text": "+-------------------+-------+------+-------------+-----+------+---------+\n|          timestamp|clickId|userId|userSessionId|isHit|teamId|teamLevel|\n+-------------------+-------+------+-------------+-----+------+---------+\n|2016-05-26 15:06:55|    105|  1038|         5916|    0|    25|        1|\n|2016-05-26 15:07:09|    154|  1099|         5898|    0|    44|        1|\n|2016-05-26 15:07:14|    229|   899|         5757|    0|    71|        1|\n|2016-05-26 15:07:14|    322|  2197|         5854|    0|    99|        1|\n|2016-05-26 15:07:20|     22|  1362|         5739|    0|    13|        1|\n|2016-05-26 15:07:27|    107|  1071|         5939|    0|    27|        1|\n|2016-05-26 15:07:30|    289|  2359|         5764|    0|    85|        1|\n|2016-05-26 15:07:30|    301|  1243|         5900|    0|    86|        1|\n|2016-05-26 15:07:47|    274|  1628|         5896|    0|    82|        1|\n|2016-05-26 15:07:48|     66|   453|         5662|    0|    20|        1|\n|2016-05-26 15:07:49|    124|  2336|         5761|    0|    32|        1|\n|2016-05-26 15:07:53|    204|  1664|         5831|    0|    69|        1|\n|2016-05-26 15:07:58|    162|   243|         5943|    0|    54|        1|\n|2016-05-26 15:08:02|    308|  2333|         5701|    0|    90|        1|\n|2016-05-26 15:08:03|    160|   181|         5787|    0|    53|        1|\n|2016-05-26 15:08:04|    183|   212|         5756|    0|    63|        1|\n|2016-05-26 15:08:12|    314|  1142|         5871|    0|    93|        1|\n|2016-05-26 15:08:13|    171|  1085|         5882|    0|    61|        1|\n|2016-05-26 15:08:16|     67|  1215|         5905|    0|    20|        1|\n|2016-05-26 15:08:23|    332|  2306|         5783|    0|   100|        1|\n+-------------------+-------+------+-------------+-----+------+---------+\nonly showing top 20 rows\n\n"
    }
   ],
   "source": [
    "#Method 2. Load the csv into Spark dataframe.\n",
    "#print it\n",
    "sqlContext = SQLContext (sc)\n",
    "\n",
    "csv_2_df = sqlContext.read.load (\"big-data-3/game-clicks.csv\",\n",
    "                               format='com.databricks.spark.csv',\n",
    "                               header='true',\n",
    "                               inferSchema='true')\n",
    "\n",
    "csv_2_df.show()"
   ]
  },
  {
   "cell_type": "code",
   "execution_count": null,
   "metadata": {},
   "outputs": [],
   "source": []
  }
 ],
 "metadata": {
  "language_info": {
   "codemirror_mode": {
    "name": "ipython",
    "version": 3
   },
   "file_extension": ".py",
   "mimetype": "text/x-python",
   "name": "python",
   "nbconvert_exporter": "python",
   "pygments_lexer": "ipython3",
   "version": "3.6.6-final"
  },
  "orig_nbformat": 2,
  "kernelspec": {
   "name": "python36664bitalexlvirtualenvb9f0b0a3af2a4e06a89ee778b9503914",
   "display_name": "Python 3.6.6 64-bit ('alexl': virtualenv)"
  }
 },
 "nbformat": 4,
 "nbformat_minor": 2
}