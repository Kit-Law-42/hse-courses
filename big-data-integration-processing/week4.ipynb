{
 "cells": [
  {
   "cell_type": "code",
   "execution_count": 1,
   "metadata": {},
   "outputs": [],
   "source": [
    "import os\n",
    "# absolute path to this file\n",
    "cwd = os.getcwd()\n",
    "\n",
    "from pyspark import SparkConf, SparkContext, SQLContext\n",
    "# Create a spark configuration with 20 threads.\n",
    "# This code will run locally on master\n",
    "# conf = (SparkConf ()\n",
    "#         . setMaster(\"local[20]\")\n",
    "#         . setAppName(\"sample app for reading files\")\n",
    "#         . set(\"spark.executor.memory\", \"2g\"))\n",
    "\n"
   ]
  },
  {
   "cell_type": "code",
   "execution_count": 7,
   "metadata": {},
   "outputs": [
    {
     "output_type": "execute_result",
     "data": {
      "text/plain": "124456"
     },
     "metadata": {},
     "execution_count": 7
    }
   ],
   "source": [
    "sc = SparkContext(conf=conf)\n",
    "#get file from local paths instead of HDFS.\n",
    "#lines.sc.textFile(\"hdfs:/user/cloudera/words.txt\")\n",
    "lines = sc.textFile(os.path.join (cwd, \"big-data-3\\spark-wordcount\\words.txt\"))\n",
    "lines.count()"
   ]
  },
  {
   "cell_type": "code",
   "execution_count": 8,
   "metadata": {},
   "outputs": [],
   "source": [
    "#Split each line into words\n",
    "words = lines.flatMap(lambda line: line.split(\" \"))\n",
    "#Assign initial count value to each word. Next, we will create tuples for each word with an initial count of 1\n",
    "tuples = words.map(lambda word : (word, 1))"
   ]
  },
  {
   "cell_type": "code",
   "execution_count": 9,
   "metadata": {},
   "outputs": [],
   "source": [
    "#Sum all word count values. \n",
    "counts = tuples.reduceByKey(lambda a,b : (a+b))\n"
   ]
  },
  {
   "cell_type": "markdown",
   "metadata": {},
   "source": [
    "\n",
    "\n",
    "For those working with a larger dataset:\n",
    "\n",
    "- rdd.collect() should not be used in this case as it will collect all data as an Array in the driver, which is the easiest way to get out of memory.\n",
    "\n",
    "- rdd.coalesce(1).saveAsTextFile() should also not be used as the parallelism of upstream stages will be lost to be performed on a single node, where data will be stored from.\n",
    "\n",
    "- rdd.coalesce(1, shuffle = true).saveAsTextFile() is the best simple option as it will keep the processing of upstream tasks parallel and then only perform the shuffle to one node (rdd.repartition(1).saveAsTextFile() is an exact synonym).\n",
    "\n",
    "- rdd.saveAsSingleTextFile() as provided bellow additionally allows one to store the rdd in a single file with a specific name while keeping the parallelism properties of rdd.coalesce(1, shuffle = true).saveAsTextFile()."
   ]
  },
  {
   "cell_type": "code",
   "execution_count": 10,
   "metadata": {},
   "outputs": [],
   "source": [
    "#Write word counts to text file/HDFS.\n",
    "#----------------------------------\n",
    "# Method 1. Save file to local machine as a text file. Viable to small datasets only.\n",
    "# Collect RDD if we want to output by text file.\n",
    "arr = counts.collect()\n",
    "\n",
    "with open(os.path.join (cwd,\"big-data-3\\spark-wordcount\\count.txt\"), \"w\") as output:\n",
    "    output.write(str(arr))\n"
   ]
  },
  {
   "cell_type": "code",
   "execution_count": null,
   "metadata": {},
   "outputs": [],
   "source": [
    "# Method 2: save as HDFS structure to a directory. \n",
    "counts.coalesce(1, shuffle = True).saveAsTextFile(\"big-data-3/spark-wordcount/result\")"
   ]
  },
  {
   "cell_type": "code",
   "execution_count": null,
   "metadata": {},
   "outputs": [],
   "source": []
  }
 ],
 "metadata": {
  "language_info": {
   "codemirror_mode": {
    "name": "ipython",
    "version": 3
   },
   "file_extension": ".py",
   "mimetype": "text/x-python",
   "name": "python",
   "nbconvert_exporter": "python",
   "pygments_lexer": "ipython3",
   "version": "3.6.6-final"
  },
  "orig_nbformat": 2,
  "kernelspec": {
   "name": "python36664bitalexlvirtualenvb9f0b0a3af2a4e06a89ee778b9503914",
   "display_name": "Python 3.6.6 64-bit ('alexl': virtualenv)"
  }
 },
 "nbformat": 4,
 "nbformat_minor": 2
}