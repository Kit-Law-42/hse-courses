{
 "cells": [
  {
   "cell_type": "markdown",
   "metadata": {},
   "source": [
    "# Lectura de Información"
   ]
  },
  {
   "cell_type": "code",
   "execution_count": 1047,
   "metadata": {},
   "outputs": [],
   "source": [
    "import pandas as pd\n",
    "import numpy as np\n",
    "import os\n",
    "import matplotlib.pyplot as plt\n",
    "%matplotlib inline \n",
    "\n",
    "\n",
    "from sklearn.linear_model import LinearRegression\n",
    "import seaborn as sns\n"
   ]
  },
  {
   "cell_type": "markdown",
   "metadata": {},
   "source": [
    "## Lectura de los datos"
   ]
  },
  {
   "cell_type": "code",
   "execution_count": 1078,
   "metadata": {},
   "outputs": [],
   "source": [
    "\n",
    "DATA_FOLDER = 'C:/Users/cristian.soto/Desktop/Varios/Coursera'\n",
    "\n",
    "transactions    = pd.read_csv(os.path.join(DATA_FOLDER, 'sales_train.csv'))\n",
    "items           = pd.read_csv(os.path.join(DATA_FOLDER, 'items.csv'))\n",
    "item_categories = pd.read_csv(os.path.join(DATA_FOLDER, 'item_categories.csv'))\n",
    "shops           = pd.read_csv(os.path.join(DATA_FOLDER, 'shops.csv'))\n"
   ]
  },
  {
   "cell_type": "code",
   "execution_count": 1079,
   "metadata": {},
   "outputs": [],
   "source": [
    "transactions = transactions[transactions['item_cnt_day']>=0]"
   ]
  },
  {
   "cell_type": "markdown",
   "metadata": {},
   "source": [
    "## primera visualización de las tablas cargadas"
   ]
  },
  {
   "cell_type": "code",
   "execution_count": 1080,
   "metadata": {
    "scrolled": true
   },
   "outputs": [
    {
     "data": {
      "text/html": [
       "<div>\n",
       "<style scoped>\n",
       "    .dataframe tbody tr th:only-of-type {\n",
       "        vertical-align: middle;\n",
       "    }\n",
       "\n",
       "    .dataframe tbody tr th {\n",
       "        vertical-align: top;\n",
       "    }\n",
       "\n",
       "    .dataframe thead th {\n",
       "        text-align: right;\n",
       "    }\n",
       "</style>\n",
       "<table border=\"1\" class=\"dataframe\">\n",
       "  <thead>\n",
       "    <tr style=\"text-align: right;\">\n",
       "      <th></th>\n",
       "      <th>date</th>\n",
       "      <th>date_block_num</th>\n",
       "      <th>shop_id</th>\n",
       "      <th>item_id</th>\n",
       "      <th>item_price</th>\n",
       "      <th>item_cnt_day</th>\n",
       "    </tr>\n",
       "  </thead>\n",
       "  <tbody>\n",
       "    <tr>\n",
       "      <th>0</th>\n",
       "      <td>02.01.2013</td>\n",
       "      <td>0</td>\n",
       "      <td>59</td>\n",
       "      <td>22154</td>\n",
       "      <td>999.00</td>\n",
       "      <td>1.0</td>\n",
       "    </tr>\n",
       "    <tr>\n",
       "      <th>1</th>\n",
       "      <td>03.01.2013</td>\n",
       "      <td>0</td>\n",
       "      <td>25</td>\n",
       "      <td>2552</td>\n",
       "      <td>899.00</td>\n",
       "      <td>1.0</td>\n",
       "    </tr>\n",
       "    <tr>\n",
       "      <th>3</th>\n",
       "      <td>06.01.2013</td>\n",
       "      <td>0</td>\n",
       "      <td>25</td>\n",
       "      <td>2554</td>\n",
       "      <td>1709.05</td>\n",
       "      <td>1.0</td>\n",
       "    </tr>\n",
       "    <tr>\n",
       "      <th>4</th>\n",
       "      <td>15.01.2013</td>\n",
       "      <td>0</td>\n",
       "      <td>25</td>\n",
       "      <td>2555</td>\n",
       "      <td>1099.00</td>\n",
       "      <td>1.0</td>\n",
       "    </tr>\n",
       "    <tr>\n",
       "      <th>5</th>\n",
       "      <td>10.01.2013</td>\n",
       "      <td>0</td>\n",
       "      <td>25</td>\n",
       "      <td>2564</td>\n",
       "      <td>349.00</td>\n",
       "      <td>1.0</td>\n",
       "    </tr>\n",
       "  </tbody>\n",
       "</table>\n",
       "</div>"
      ],
      "text/plain": [
       "         date  date_block_num  shop_id  item_id  item_price  item_cnt_day\n",
       "0  02.01.2013               0       59    22154      999.00           1.0\n",
       "1  03.01.2013               0       25     2552      899.00           1.0\n",
       "3  06.01.2013               0       25     2554     1709.05           1.0\n",
       "4  15.01.2013               0       25     2555     1099.00           1.0\n",
       "5  10.01.2013               0       25     2564      349.00           1.0"
      ]
     },
     "execution_count": 1080,
     "metadata": {},
     "output_type": "execute_result"
    }
   ],
   "source": [
    "transactions.head()"
   ]
  },
  {
   "cell_type": "code",
   "execution_count": 1081,
   "metadata": {
    "scrolled": true
   },
   "outputs": [
    {
     "data": {
      "text/html": [
       "<div>\n",
       "<style scoped>\n",
       "    .dataframe tbody tr th:only-of-type {\n",
       "        vertical-align: middle;\n",
       "    }\n",
       "\n",
       "    .dataframe tbody tr th {\n",
       "        vertical-align: top;\n",
       "    }\n",
       "\n",
       "    .dataframe thead th {\n",
       "        text-align: right;\n",
       "    }\n",
       "</style>\n",
       "<table border=\"1\" class=\"dataframe\">\n",
       "  <thead>\n",
       "    <tr style=\"text-align: right;\">\n",
       "      <th></th>\n",
       "      <th>item_name</th>\n",
       "      <th>item_id</th>\n",
       "      <th>item_category_id</th>\n",
       "    </tr>\n",
       "  </thead>\n",
       "  <tbody>\n",
       "    <tr>\n",
       "      <th>0</th>\n",
       "      <td>! ВО ВЛАСТИ НАВАЖДЕНИЯ (ПЛАСТ.)         D</td>\n",
       "      <td>0</td>\n",
       "      <td>40</td>\n",
       "    </tr>\n",
       "    <tr>\n",
       "      <th>1</th>\n",
       "      <td>!ABBYY FineReader 12 Professional Edition Full...</td>\n",
       "      <td>1</td>\n",
       "      <td>76</td>\n",
       "    </tr>\n",
       "    <tr>\n",
       "      <th>2</th>\n",
       "      <td>***В ЛУЧАХ СЛАВЫ   (UNV)                    D</td>\n",
       "      <td>2</td>\n",
       "      <td>40</td>\n",
       "    </tr>\n",
       "    <tr>\n",
       "      <th>3</th>\n",
       "      <td>***ГОЛУБАЯ ВОЛНА  (Univ)                      D</td>\n",
       "      <td>3</td>\n",
       "      <td>40</td>\n",
       "    </tr>\n",
       "    <tr>\n",
       "      <th>4</th>\n",
       "      <td>***КОРОБКА (СТЕКЛО)                       D</td>\n",
       "      <td>4</td>\n",
       "      <td>40</td>\n",
       "    </tr>\n",
       "  </tbody>\n",
       "</table>\n",
       "</div>"
      ],
      "text/plain": [
       "                                           item_name  item_id  \\\n",
       "0          ! ВО ВЛАСТИ НАВАЖДЕНИЯ (ПЛАСТ.)         D        0   \n",
       "1  !ABBYY FineReader 12 Professional Edition Full...        1   \n",
       "2      ***В ЛУЧАХ СЛАВЫ   (UNV)                    D        2   \n",
       "3    ***ГОЛУБАЯ ВОЛНА  (Univ)                      D        3   \n",
       "4        ***КОРОБКА (СТЕКЛО)                       D        4   \n",
       "\n",
       "   item_category_id  \n",
       "0                40  \n",
       "1                76  \n",
       "2                40  \n",
       "3                40  \n",
       "4                40  "
      ]
     },
     "execution_count": 1081,
     "metadata": {},
     "output_type": "execute_result"
    }
   ],
   "source": [
    "items.head()"
   ]
  },
  {
   "cell_type": "code",
   "execution_count": 1082,
   "metadata": {
    "scrolled": true
   },
   "outputs": [
    {
     "data": {
      "text/html": [
       "<div>\n",
       "<style scoped>\n",
       "    .dataframe tbody tr th:only-of-type {\n",
       "        vertical-align: middle;\n",
       "    }\n",
       "\n",
       "    .dataframe tbody tr th {\n",
       "        vertical-align: top;\n",
       "    }\n",
       "\n",
       "    .dataframe thead th {\n",
       "        text-align: right;\n",
       "    }\n",
       "</style>\n",
       "<table border=\"1\" class=\"dataframe\">\n",
       "  <thead>\n",
       "    <tr style=\"text-align: right;\">\n",
       "      <th></th>\n",
       "      <th>item_category_name</th>\n",
       "      <th>item_category_id</th>\n",
       "    </tr>\n",
       "  </thead>\n",
       "  <tbody>\n",
       "    <tr>\n",
       "      <th>0</th>\n",
       "      <td>PC - Гарнитуры/Наушники</td>\n",
       "      <td>0</td>\n",
       "    </tr>\n",
       "    <tr>\n",
       "      <th>1</th>\n",
       "      <td>Аксессуары - PS2</td>\n",
       "      <td>1</td>\n",
       "    </tr>\n",
       "    <tr>\n",
       "      <th>2</th>\n",
       "      <td>Аксессуары - PS3</td>\n",
       "      <td>2</td>\n",
       "    </tr>\n",
       "    <tr>\n",
       "      <th>3</th>\n",
       "      <td>Аксессуары - PS4</td>\n",
       "      <td>3</td>\n",
       "    </tr>\n",
       "    <tr>\n",
       "      <th>4</th>\n",
       "      <td>Аксессуары - PSP</td>\n",
       "      <td>4</td>\n",
       "    </tr>\n",
       "  </tbody>\n",
       "</table>\n",
       "</div>"
      ],
      "text/plain": [
       "        item_category_name  item_category_id\n",
       "0  PC - Гарнитуры/Наушники                 0\n",
       "1         Аксессуары - PS2                 1\n",
       "2         Аксессуары - PS3                 2\n",
       "3         Аксессуары - PS4                 3\n",
       "4         Аксессуары - PSP                 4"
      ]
     },
     "execution_count": 1082,
     "metadata": {},
     "output_type": "execute_result"
    }
   ],
   "source": [
    "item_categories.head()"
   ]
  },
  {
   "cell_type": "code",
   "execution_count": 1083,
   "metadata": {
    "scrolled": true
   },
   "outputs": [
    {
     "data": {
      "text/html": [
       "<div>\n",
       "<style scoped>\n",
       "    .dataframe tbody tr th:only-of-type {\n",
       "        vertical-align: middle;\n",
       "    }\n",
       "\n",
       "    .dataframe tbody tr th {\n",
       "        vertical-align: top;\n",
       "    }\n",
       "\n",
       "    .dataframe thead th {\n",
       "        text-align: right;\n",
       "    }\n",
       "</style>\n",
       "<table border=\"1\" class=\"dataframe\">\n",
       "  <thead>\n",
       "    <tr style=\"text-align: right;\">\n",
       "      <th></th>\n",
       "      <th>shop_name</th>\n",
       "      <th>shop_id</th>\n",
       "    </tr>\n",
       "  </thead>\n",
       "  <tbody>\n",
       "    <tr>\n",
       "      <th>0</th>\n",
       "      <td>!Якутск Орджоникидзе, 56 фран</td>\n",
       "      <td>0</td>\n",
       "    </tr>\n",
       "    <tr>\n",
       "      <th>1</th>\n",
       "      <td>!Якутск ТЦ \"Центральный\" фран</td>\n",
       "      <td>1</td>\n",
       "    </tr>\n",
       "    <tr>\n",
       "      <th>2</th>\n",
       "      <td>Адыгея ТЦ \"Мега\"</td>\n",
       "      <td>2</td>\n",
       "    </tr>\n",
       "    <tr>\n",
       "      <th>3</th>\n",
       "      <td>Балашиха ТРК \"Октябрь-Киномир\"</td>\n",
       "      <td>3</td>\n",
       "    </tr>\n",
       "    <tr>\n",
       "      <th>4</th>\n",
       "      <td>Волжский ТЦ \"Волга Молл\"</td>\n",
       "      <td>4</td>\n",
       "    </tr>\n",
       "  </tbody>\n",
       "</table>\n",
       "</div>"
      ],
      "text/plain": [
       "                        shop_name  shop_id\n",
       "0   !Якутск Орджоникидзе, 56 фран        0\n",
       "1   !Якутск ТЦ \"Центральный\" фран        1\n",
       "2                Адыгея ТЦ \"Мега\"        2\n",
       "3  Балашиха ТРК \"Октябрь-Киномир\"        3\n",
       "4        Волжский ТЦ \"Волга Молл\"        4"
      ]
     },
     "execution_count": 1083,
     "metadata": {},
     "output_type": "execute_result"
    }
   ],
   "source": [
    "shops.head()"
   ]
  },
  {
   "cell_type": "markdown",
   "metadata": {},
   "source": [
    "## Unión de las bases que se consideran de mayor aporte"
   ]
  },
  {
   "cell_type": "code",
   "execution_count": 1084,
   "metadata": {
    "scrolled": true
   },
   "outputs": [
    {
     "data": {
      "text/html": [
       "<div>\n",
       "<style scoped>\n",
       "    .dataframe tbody tr th:only-of-type {\n",
       "        vertical-align: middle;\n",
       "    }\n",
       "\n",
       "    .dataframe tbody tr th {\n",
       "        vertical-align: top;\n",
       "    }\n",
       "\n",
       "    .dataframe thead th {\n",
       "        text-align: right;\n",
       "    }\n",
       "</style>\n",
       "<table border=\"1\" class=\"dataframe\">\n",
       "  <thead>\n",
       "    <tr style=\"text-align: right;\">\n",
       "      <th></th>\n",
       "      <th>date</th>\n",
       "      <th>date_block_num</th>\n",
       "      <th>shop_id</th>\n",
       "      <th>item_id</th>\n",
       "      <th>item_price</th>\n",
       "      <th>item_cnt_day</th>\n",
       "      <th>item_name</th>\n",
       "      <th>item_category_id</th>\n",
       "    </tr>\n",
       "  </thead>\n",
       "  <tbody>\n",
       "    <tr>\n",
       "      <th>0</th>\n",
       "      <td>02.01.2013</td>\n",
       "      <td>0</td>\n",
       "      <td>59</td>\n",
       "      <td>22154</td>\n",
       "      <td>999.00</td>\n",
       "      <td>1.0</td>\n",
       "      <td>ЯВЛЕНИЕ 2012 (BD)</td>\n",
       "      <td>37</td>\n",
       "    </tr>\n",
       "    <tr>\n",
       "      <th>1</th>\n",
       "      <td>03.01.2013</td>\n",
       "      <td>0</td>\n",
       "      <td>25</td>\n",
       "      <td>2552</td>\n",
       "      <td>899.00</td>\n",
       "      <td>1.0</td>\n",
       "      <td>DEEP PURPLE  The House Of Blue Light  LP</td>\n",
       "      <td>58</td>\n",
       "    </tr>\n",
       "    <tr>\n",
       "      <th>2</th>\n",
       "      <td>06.01.2013</td>\n",
       "      <td>0</td>\n",
       "      <td>25</td>\n",
       "      <td>2554</td>\n",
       "      <td>1709.05</td>\n",
       "      <td>1.0</td>\n",
       "      <td>DEEP PURPLE  Who Do You Think We Are  LP</td>\n",
       "      <td>58</td>\n",
       "    </tr>\n",
       "    <tr>\n",
       "      <th>3</th>\n",
       "      <td>15.01.2013</td>\n",
       "      <td>0</td>\n",
       "      <td>25</td>\n",
       "      <td>2555</td>\n",
       "      <td>1099.00</td>\n",
       "      <td>1.0</td>\n",
       "      <td>DEEP PURPLE 30 Very Best Of 2CD (Фирм.)</td>\n",
       "      <td>56</td>\n",
       "    </tr>\n",
       "    <tr>\n",
       "      <th>4</th>\n",
       "      <td>10.01.2013</td>\n",
       "      <td>0</td>\n",
       "      <td>25</td>\n",
       "      <td>2564</td>\n",
       "      <td>349.00</td>\n",
       "      <td>1.0</td>\n",
       "      <td>DEEP PURPLE Perihelion: Live In Concert DVD (К...</td>\n",
       "      <td>59</td>\n",
       "    </tr>\n",
       "  </tbody>\n",
       "</table>\n",
       "</div>"
      ],
      "text/plain": [
       "         date  date_block_num  shop_id  item_id  item_price  item_cnt_day  \\\n",
       "0  02.01.2013               0       59    22154      999.00           1.0   \n",
       "1  03.01.2013               0       25     2552      899.00           1.0   \n",
       "2  06.01.2013               0       25     2554     1709.05           1.0   \n",
       "3  15.01.2013               0       25     2555     1099.00           1.0   \n",
       "4  10.01.2013               0       25     2564      349.00           1.0   \n",
       "\n",
       "                                           item_name  item_category_id  \n",
       "0                                  ЯВЛЕНИЕ 2012 (BD)                37  \n",
       "1           DEEP PURPLE  The House Of Blue Light  LP                58  \n",
       "2           DEEP PURPLE  Who Do You Think We Are  LP                58  \n",
       "3            DEEP PURPLE 30 Very Best Of 2CD (Фирм.)                56  \n",
       "4  DEEP PURPLE Perihelion: Live In Concert DVD (К...                59  "
      ]
     },
     "execution_count": 1084,
     "metadata": {},
     "output_type": "execute_result"
    }
   ],
   "source": [
    "transactions = pd.merge(transactions, items, how='left', on='item_id')\n",
    "transactions.head()"
   ]
  },
  {
   "cell_type": "code",
   "execution_count": 1085,
   "metadata": {},
   "outputs": [
    {
     "name": "stdout",
     "output_type": "stream",
     "text": [
      "<class 'pandas.core.frame.DataFrame'>\n",
      "Int64Index: 2928493 entries, 0 to 2928492\n",
      "Data columns (total 8 columns):\n",
      "date                object\n",
      "date_block_num      int64\n",
      "shop_id             int64\n",
      "item_id             int64\n",
      "item_price          float64\n",
      "item_cnt_day        float64\n",
      "item_name           object\n",
      "item_category_id    int64\n",
      "dtypes: float64(2), int64(4), object(2)\n",
      "memory usage: 201.1+ MB\n"
     ]
    }
   ],
   "source": [
    "transactions.info()"
   ]
  },
  {
   "cell_type": "markdown",
   "metadata": {},
   "source": [
    "## Extracción de variables de fecha que se considran relevantes"
   ]
  },
  {
   "cell_type": "code",
   "execution_count": 1086,
   "metadata": {},
   "outputs": [],
   "source": [
    "transactions['date']= pd.to_datetime(transactions['date'], format='%d.%m.%Y')\n",
    "transactions['Ano']= transactions['date'].dt.year \n",
    "transactions['Mes']= (pd.to_datetime(transactions['date'], format='%Y.%m.%d', errors=\"coerce\").dt.month_name() )\n",
    "#transactions['Ano']=transactions['Ano'].astype(str, copy=True)"
   ]
  },
  {
   "cell_type": "code",
   "execution_count": 1087,
   "metadata": {},
   "outputs": [
    {
     "data": {
      "text/html": [
       "<div>\n",
       "<style scoped>\n",
       "    .dataframe tbody tr th:only-of-type {\n",
       "        vertical-align: middle;\n",
       "    }\n",
       "\n",
       "    .dataframe tbody tr th {\n",
       "        vertical-align: top;\n",
       "    }\n",
       "\n",
       "    .dataframe thead th {\n",
       "        text-align: right;\n",
       "    }\n",
       "</style>\n",
       "<table border=\"1\" class=\"dataframe\">\n",
       "  <thead>\n",
       "    <tr style=\"text-align: right;\">\n",
       "      <th></th>\n",
       "      <th>date_block_num</th>\n",
       "      <th>shop_id</th>\n",
       "      <th>item_id</th>\n",
       "      <th>item_price</th>\n",
       "      <th>item_cnt_day</th>\n",
       "      <th>item_category_id</th>\n",
       "      <th>Ano</th>\n",
       "    </tr>\n",
       "  </thead>\n",
       "  <tbody>\n",
       "    <tr>\n",
       "      <th>count</th>\n",
       "      <td>2.928493e+06</td>\n",
       "      <td>2.928493e+06</td>\n",
       "      <td>2.928493e+06</td>\n",
       "      <td>2.928493e+06</td>\n",
       "      <td>2.928493e+06</td>\n",
       "      <td>2.928493e+06</td>\n",
       "      <td>2.928493e+06</td>\n",
       "    </tr>\n",
       "    <tr>\n",
       "      <th>mean</th>\n",
       "      <td>1.456976e+01</td>\n",
       "      <td>3.300295e+01</td>\n",
       "      <td>1.020028e+04</td>\n",
       "      <td>8.894664e+02</td>\n",
       "      <td>1.248337e+00</td>\n",
       "      <td>4.001635e+01</td>\n",
       "      <td>2.013777e+03</td>\n",
       "    </tr>\n",
       "    <tr>\n",
       "      <th>std</th>\n",
       "      <td>9.422952e+00</td>\n",
       "      <td>1.622543e+01</td>\n",
       "      <td>6.324396e+03</td>\n",
       "      <td>1.727498e+03</td>\n",
       "      <td>2.619586e+00</td>\n",
       "      <td>1.709811e+01</td>\n",
       "      <td>7.684596e-01</td>\n",
       "    </tr>\n",
       "    <tr>\n",
       "      <th>min</th>\n",
       "      <td>0.000000e+00</td>\n",
       "      <td>0.000000e+00</td>\n",
       "      <td>0.000000e+00</td>\n",
       "      <td>-1.000000e+00</td>\n",
       "      <td>1.000000e+00</td>\n",
       "      <td>0.000000e+00</td>\n",
       "      <td>2.013000e+03</td>\n",
       "    </tr>\n",
       "    <tr>\n",
       "      <th>25%</th>\n",
       "      <td>7.000000e+00</td>\n",
       "      <td>2.200000e+01</td>\n",
       "      <td>4.477000e+03</td>\n",
       "      <td>2.490000e+02</td>\n",
       "      <td>1.000000e+00</td>\n",
       "      <td>2.800000e+01</td>\n",
       "      <td>2.013000e+03</td>\n",
       "    </tr>\n",
       "    <tr>\n",
       "      <th>50%</th>\n",
       "      <td>1.400000e+01</td>\n",
       "      <td>3.100000e+01</td>\n",
       "      <td>9.355000e+03</td>\n",
       "      <td>3.990000e+02</td>\n",
       "      <td>1.000000e+00</td>\n",
       "      <td>4.000000e+01</td>\n",
       "      <td>2.014000e+03</td>\n",
       "    </tr>\n",
       "    <tr>\n",
       "      <th>75%</th>\n",
       "      <td>2.300000e+01</td>\n",
       "      <td>4.700000e+01</td>\n",
       "      <td>1.569100e+04</td>\n",
       "      <td>9.990000e+02</td>\n",
       "      <td>1.000000e+00</td>\n",
       "      <td>5.500000e+01</td>\n",
       "      <td>2.014000e+03</td>\n",
       "    </tr>\n",
       "    <tr>\n",
       "      <th>max</th>\n",
       "      <td>3.300000e+01</td>\n",
       "      <td>5.900000e+01</td>\n",
       "      <td>2.216900e+04</td>\n",
       "      <td>3.079800e+05</td>\n",
       "      <td>2.169000e+03</td>\n",
       "      <td>8.300000e+01</td>\n",
       "      <td>2.015000e+03</td>\n",
       "    </tr>\n",
       "  </tbody>\n",
       "</table>\n",
       "</div>"
      ],
      "text/plain": [
       "       date_block_num       shop_id       item_id    item_price  item_cnt_day  \\\n",
       "count    2.928493e+06  2.928493e+06  2.928493e+06  2.928493e+06  2.928493e+06   \n",
       "mean     1.456976e+01  3.300295e+01  1.020028e+04  8.894664e+02  1.248337e+00   \n",
       "std      9.422952e+00  1.622543e+01  6.324396e+03  1.727498e+03  2.619586e+00   \n",
       "min      0.000000e+00  0.000000e+00  0.000000e+00 -1.000000e+00  1.000000e+00   \n",
       "25%      7.000000e+00  2.200000e+01  4.477000e+03  2.490000e+02  1.000000e+00   \n",
       "50%      1.400000e+01  3.100000e+01  9.355000e+03  3.990000e+02  1.000000e+00   \n",
       "75%      2.300000e+01  4.700000e+01  1.569100e+04  9.990000e+02  1.000000e+00   \n",
       "max      3.300000e+01  5.900000e+01  2.216900e+04  3.079800e+05  2.169000e+03   \n",
       "\n",
       "       item_category_id           Ano  \n",
       "count      2.928493e+06  2.928493e+06  \n",
       "mean       4.001635e+01  2.013777e+03  \n",
       "std        1.709811e+01  7.684596e-01  \n",
       "min        0.000000e+00  2.013000e+03  \n",
       "25%        2.800000e+01  2.013000e+03  \n",
       "50%        4.000000e+01  2.014000e+03  \n",
       "75%        5.500000e+01  2.014000e+03  \n",
       "max        8.300000e+01  2.015000e+03  "
      ]
     },
     "execution_count": 1087,
     "metadata": {},
     "output_type": "execute_result"
    }
   ],
   "source": [
    "transactions.describe()"
   ]
  },
  {
   "cell_type": "code",
   "execution_count": 1088,
   "metadata": {
    "scrolled": false
   },
   "outputs": [
    {
     "data": {
      "text/html": [
       "<div>\n",
       "<style scoped>\n",
       "    .dataframe tbody tr th:only-of-type {\n",
       "        vertical-align: middle;\n",
       "    }\n",
       "\n",
       "    .dataframe tbody tr th {\n",
       "        vertical-align: top;\n",
       "    }\n",
       "\n",
       "    .dataframe thead th {\n",
       "        text-align: right;\n",
       "    }\n",
       "</style>\n",
       "<table border=\"1\" class=\"dataframe\">\n",
       "  <thead>\n",
       "    <tr style=\"text-align: right;\">\n",
       "      <th></th>\n",
       "      <th>date</th>\n",
       "      <th>date_block_num</th>\n",
       "      <th>shop_id</th>\n",
       "      <th>item_id</th>\n",
       "      <th>item_price</th>\n",
       "      <th>item_cnt_day</th>\n",
       "      <th>item_name</th>\n",
       "      <th>item_category_id</th>\n",
       "      <th>Ano</th>\n",
       "      <th>Mes</th>\n",
       "    </tr>\n",
       "  </thead>\n",
       "  <tbody>\n",
       "    <tr>\n",
       "      <th>0</th>\n",
       "      <td>False</td>\n",
       "      <td>False</td>\n",
       "      <td>False</td>\n",
       "      <td>False</td>\n",
       "      <td>False</td>\n",
       "      <td>False</td>\n",
       "      <td>False</td>\n",
       "      <td>False</td>\n",
       "      <td>False</td>\n",
       "      <td>False</td>\n",
       "    </tr>\n",
       "    <tr>\n",
       "      <th>1</th>\n",
       "      <td>False</td>\n",
       "      <td>False</td>\n",
       "      <td>False</td>\n",
       "      <td>False</td>\n",
       "      <td>False</td>\n",
       "      <td>False</td>\n",
       "      <td>False</td>\n",
       "      <td>False</td>\n",
       "      <td>False</td>\n",
       "      <td>False</td>\n",
       "    </tr>\n",
       "    <tr>\n",
       "      <th>2</th>\n",
       "      <td>False</td>\n",
       "      <td>False</td>\n",
       "      <td>False</td>\n",
       "      <td>False</td>\n",
       "      <td>False</td>\n",
       "      <td>False</td>\n",
       "      <td>False</td>\n",
       "      <td>False</td>\n",
       "      <td>False</td>\n",
       "      <td>False</td>\n",
       "    </tr>\n",
       "    <tr>\n",
       "      <th>3</th>\n",
       "      <td>False</td>\n",
       "      <td>False</td>\n",
       "      <td>False</td>\n",
       "      <td>False</td>\n",
       "      <td>False</td>\n",
       "      <td>False</td>\n",
       "      <td>False</td>\n",
       "      <td>False</td>\n",
       "      <td>False</td>\n",
       "      <td>False</td>\n",
       "    </tr>\n",
       "    <tr>\n",
       "      <th>4</th>\n",
       "      <td>False</td>\n",
       "      <td>False</td>\n",
       "      <td>False</td>\n",
       "      <td>False</td>\n",
       "      <td>False</td>\n",
       "      <td>False</td>\n",
       "      <td>False</td>\n",
       "      <td>False</td>\n",
       "      <td>False</td>\n",
       "      <td>False</td>\n",
       "    </tr>\n",
       "  </tbody>\n",
       "</table>\n",
       "</div>"
      ],
      "text/plain": [
       "    date  date_block_num  shop_id  item_id  item_price  item_cnt_day  \\\n",
       "0  False           False    False    False       False         False   \n",
       "1  False           False    False    False       False         False   \n",
       "2  False           False    False    False       False         False   \n",
       "3  False           False    False    False       False         False   \n",
       "4  False           False    False    False       False         False   \n",
       "\n",
       "   item_name  item_category_id    Ano    Mes  \n",
       "0      False             False  False  False  \n",
       "1      False             False  False  False  \n",
       "2      False             False  False  False  \n",
       "3      False             False  False  False  \n",
       "4      False             False  False  False  "
      ]
     },
     "execution_count": 1088,
     "metadata": {},
     "output_type": "execute_result"
    }
   ],
   "source": [
    "missing_data = transactions.isnull()\n",
    "missing_data.head(5)"
   ]
  },
  {
   "cell_type": "code",
   "execution_count": 1089,
   "metadata": {
    "scrolled": true
   },
   "outputs": [
    {
     "name": "stdout",
     "output_type": "stream",
     "text": [
      "date\n",
      "False    2928493\n",
      "Name: date, dtype: int64\n",
      "\n",
      "date_block_num\n",
      "False    2928493\n",
      "Name: date_block_num, dtype: int64\n",
      "\n",
      "shop_id\n",
      "False    2928493\n",
      "Name: shop_id, dtype: int64\n",
      "\n",
      "item_id\n",
      "False    2928493\n",
      "Name: item_id, dtype: int64\n",
      "\n",
      "item_price\n",
      "False    2928493\n",
      "Name: item_price, dtype: int64\n",
      "\n",
      "item_cnt_day\n",
      "False    2928493\n",
      "Name: item_cnt_day, dtype: int64\n",
      "\n",
      "item_name\n",
      "False    2928493\n",
      "Name: item_name, dtype: int64\n",
      "\n",
      "item_category_id\n",
      "False    2928493\n",
      "Name: item_category_id, dtype: int64\n",
      "\n",
      "Ano\n",
      "False    2928493\n",
      "Name: Ano, dtype: int64\n",
      "\n",
      "Mes\n",
      "False    2928493\n",
      "Name: Mes, dtype: int64\n",
      "\n"
     ]
    }
   ],
   "source": [
    "for column in missing_data.columns.values.tolist():\n",
    "    print(column)\n",
    "    print (missing_data[column].value_counts())\n",
    "    print(\"\")   "
   ]
  },
  {
   "cell_type": "code",
   "execution_count": 1090,
   "metadata": {
    "scrolled": true
   },
   "outputs": [],
   "source": [
    " Cant_Mes = transactions.groupby('Mes')['item_cnt_day'].sum()"
   ]
  },
  {
   "cell_type": "markdown",
   "metadata": {},
   "source": [
    "## Analisis del comportamiento de la cantidad de ventas"
   ]
  },
  {
   "cell_type": "code",
   "execution_count": 1091,
   "metadata": {},
   "outputs": [],
   "source": [
    "transactions.set_index('date',inplace=True)"
   ]
  },
  {
   "cell_type": "code",
   "execution_count": 1092,
   "metadata": {
    "scrolled": true
   },
   "outputs": [
    {
     "data": {
      "text/plain": [
       "<matplotlib.axes._subplots.AxesSubplot at 0x2e2c039ccc0>"
      ]
     },
     "execution_count": 1092,
     "metadata": {},
     "output_type": "execute_result"
    },
    {
     "data": {
      "image/png": "[encoded data removed]",
      "text/plain": [
       "<Figure size 432x288 with 1 Axes>"
      ]
     },
     "metadata": {
      "needs_background": "light"
     },
     "output_type": "display_data"
    }
   ],
   "source": [
    "transactions.groupby(pd.Grouper(freq='M'))['item_cnt_day'].sum().plot()"
   ]
  },
  {
   "cell_type": "code",
   "execution_count": 1093,
   "metadata": {},
   "outputs": [],
   "source": [
    "transactions.reset_index(inplace=True)"
   ]
  },
  {
   "cell_type": "code",
   "execution_count": 1094,
   "metadata": {
    "scrolled": false
   },
   "outputs": [
    {
     "data": {
      "text/plain": [
       "<matplotlib.axes._subplots.AxesSubplot at 0x2e1eda5cc88>"
      ]
     },
     "execution_count": 1094,
     "metadata": {},
     "output_type": "execute_result"
    },
    {
     "data": {
      "image/png": "[encoded data removed]",
      "text/plain": [
       "<Figure size 432x288 with 1 Axes>"
      ]
     },
     "metadata": {
      "needs_background": "light"
     },
     "output_type": "display_data"
    }
   ],
   "source": [
    "Cant_Mes.plot(kind='bar')"
   ]
  },
  {
   "cell_type": "code",
   "execution_count": 1095,
   "metadata": {
    "scrolled": true
   },
   "outputs": [],
   "source": [
    "#plt.plot(transactions['Mes'], transactions['item_cnt_day'])\n",
    "\n",
    " Cant_Ano=transactions.groupby('Ano')['item_cnt_day'].sum()"
   ]
  },
  {
   "cell_type": "code",
   "execution_count": 1096,
   "metadata": {
    "scrolled": true
   },
   "outputs": [
    {
     "data": {
      "text/plain": [
       "<matplotlib.axes._subplots.AxesSubplot at 0x2e1edae2ef0>"
      ]
     },
     "execution_count": 1096,
     "metadata": {},
     "output_type": "execute_result"
    },
    {
     "data": {
      "image/png": "[encoded data removed]",
      "text/plain": [
       "<Figure size 432x288 with 1 Axes>"
      ]
     },
     "metadata": {
      "needs_background": "light"
     },
     "output_type": "display_data"
    }
   ],
   "source": [
    "Cant_Ano.plot(kind='bar')"
   ]
  },
  {
   "cell_type": "code",
   "execution_count": 1097,
   "metadata": {},
   "outputs": [
    {
     "data": {
      "text/plain": [
       "<seaborn.axisgrid.FacetGrid at 0x2e2333ce4a8>"
      ]
     },
     "execution_count": 1097,
     "metadata": {},
     "output_type": "execute_result"
    },
    {
     "data": {
      "image/png": "[encoded data removed]",
      "text/plain": [
       "<Figure size 648x216 with 3 Axes>"
      ]
     },
     "metadata": {
      "needs_background": "light"
     },
     "output_type": "display_data"
    }
   ],
   "source": [
    "Cant_ano_mes=transactions.groupby(['Ano','Mes']).agg({'item_cnt_day':'sum'}).rename(columns={'item_cnt_day':'count'}).reset_index()\n",
    "g = sns.FacetGrid(Cant_ano_mes, col=\"Ano\")\n",
    "g.map(sns.barplot, \"Mes\",'count', color=\"r\")"
   ]
  },
  {
   "cell_type": "code",
   "execution_count": 1098,
   "metadata": {
    "scrolled": true
   },
   "outputs": [
    {
     "data": {
      "text/plain": [
       "<matplotlib.axes._subplots.AxesSubplot at 0x2e1eda383c8>"
      ]
     },
     "execution_count": 1098,
     "metadata": {},
     "output_type": "execute_result"
    },
    {
     "data": {
      "image/png": "[encoded data removed]",
      "text/plain": [
       "<Figure size 432x288 with 1 Axes>"
      ]
     },
     "metadata": {
      "needs_background": "light"
     },
     "output_type": "display_data"
    }
   ],
   "source": [
    "sns.boxplot(x=\"Ano\", y=\"item_cnt_day\", data=transactions)"
   ]
  },
  {
   "cell_type": "code",
   "execution_count": 1099,
   "metadata": {
    "scrolled": true
   },
   "outputs": [
    {
     "data": {
      "text/plain": [
       "<matplotlib.axes._subplots.AxesSubplot at 0x2e1ede7f518>"
      ]
     },
     "execution_count": 1099,
     "metadata": {},
     "output_type": "execute_result"
    },
    {
     "data": {
      "image/png": "[encoded data removed]",
      "text/plain": [
       "<Figure size 432x288 with 1 Axes>"
      ]
     },
     "metadata": {
      "needs_background": "light"
     },
     "output_type": "display_data"
    }
   ],
   "source": [
    "sns.boxplot(x=\"Mes\", y=\"item_cnt_day\", data=transactions)"
   ]
  },
  {
   "cell_type": "markdown",
   "metadata": {},
   "source": [
    "## Se evidencia un cambio del comportamiento de las cantidades vendidas dependiendo de la temporada y el año"
   ]
  },
  {
   "cell_type": "code",
   "execution_count": 1100,
   "metadata": {},
   "outputs": [
    {
     "data": {
      "text/html": [
       "<div>\n",
       "<style scoped>\n",
       "    .dataframe tbody tr th:only-of-type {\n",
       "        vertical-align: middle;\n",
       "    }\n",
       "\n",
       "    .dataframe tbody tr th {\n",
       "        vertical-align: top;\n",
       "    }\n",
       "\n",
       "    .dataframe thead th {\n",
       "        text-align: right;\n",
       "    }\n",
       "</style>\n",
       "<table border=\"1\" class=\"dataframe\">\n",
       "  <thead>\n",
       "    <tr style=\"text-align: right;\">\n",
       "      <th></th>\n",
       "      <th>item_cnt_day</th>\n",
       "      <th>item_price</th>\n",
       "    </tr>\n",
       "  </thead>\n",
       "  <tbody>\n",
       "    <tr>\n",
       "      <th>item_cnt_day</th>\n",
       "      <td>1.000000</td>\n",
       "      <td>0.011937</td>\n",
       "    </tr>\n",
       "    <tr>\n",
       "      <th>item_price</th>\n",
       "      <td>0.011937</td>\n",
       "      <td>1.000000</td>\n",
       "    </tr>\n",
       "  </tbody>\n",
       "</table>\n",
       "</div>"
      ],
      "text/plain": [
       "              item_cnt_day  item_price\n",
       "item_cnt_day      1.000000    0.011937\n",
       "item_price        0.011937    1.000000"
      ]
     },
     "execution_count": 1100,
     "metadata": {},
     "output_type": "execute_result"
    }
   ],
   "source": [
    "transactions[['item_cnt_day', 'item_price']].corr()"
   ]
  },
  {
   "cell_type": "code",
   "execution_count": 1101,
   "metadata": {},
   "outputs": [],
   "source": [
    "transactions['Mes_num'] = transactions['date'].dt.weekday"
   ]
  },
  {
   "cell_type": "code",
   "execution_count": 1102,
   "metadata": {
    "scrolled": false
   },
   "outputs": [
    {
     "data": {
      "text/html": [
       "<div>\n",
       "<style scoped>\n",
       "    .dataframe tbody tr th:only-of-type {\n",
       "        vertical-align: middle;\n",
       "    }\n",
       "\n",
       "    .dataframe tbody tr th {\n",
       "        vertical-align: top;\n",
       "    }\n",
       "\n",
       "    .dataframe thead th {\n",
       "        text-align: right;\n",
       "    }\n",
       "</style>\n",
       "<table border=\"1\" class=\"dataframe\">\n",
       "  <thead>\n",
       "    <tr style=\"text-align: right;\">\n",
       "      <th></th>\n",
       "      <th>date</th>\n",
       "      <th>date_block_num</th>\n",
       "      <th>shop_id</th>\n",
       "      <th>item_id</th>\n",
       "      <th>item_price</th>\n",
       "      <th>item_cnt_day</th>\n",
       "      <th>item_name</th>\n",
       "      <th>item_category_id</th>\n",
       "      <th>Ano</th>\n",
       "      <th>Mes</th>\n",
       "      <th>Mes_num</th>\n",
       "    </tr>\n",
       "  </thead>\n",
       "  <tbody>\n",
       "    <tr>\n",
       "      <th>0</th>\n",
       "      <td>2013-01-02</td>\n",
       "      <td>0</td>\n",
       "      <td>59</td>\n",
       "      <td>22154</td>\n",
       "      <td>999.00</td>\n",
       "      <td>1.0</td>\n",
       "      <td>ЯВЛЕНИЕ 2012 (BD)</td>\n",
       "      <td>37</td>\n",
       "      <td>2013</td>\n",
       "      <td>January</td>\n",
       "      <td>2</td>\n",
       "    </tr>\n",
       "    <tr>\n",
       "      <th>1</th>\n",
       "      <td>2013-01-03</td>\n",
       "      <td>0</td>\n",
       "      <td>25</td>\n",
       "      <td>2552</td>\n",
       "      <td>899.00</td>\n",
       "      <td>1.0</td>\n",
       "      <td>DEEP PURPLE  The House Of Blue Light  LP</td>\n",
       "      <td>58</td>\n",
       "      <td>2013</td>\n",
       "      <td>January</td>\n",
       "      <td>3</td>\n",
       "    </tr>\n",
       "    <tr>\n",
       "      <th>2</th>\n",
       "      <td>2013-01-06</td>\n",
       "      <td>0</td>\n",
       "      <td>25</td>\n",
       "      <td>2554</td>\n",
       "      <td>1709.05</td>\n",
       "      <td>1.0</td>\n",
       "      <td>DEEP PURPLE  Who Do You Think We Are  LP</td>\n",
       "      <td>58</td>\n",
       "      <td>2013</td>\n",
       "      <td>January</td>\n",
       "      <td>6</td>\n",
       "    </tr>\n",
       "    <tr>\n",
       "      <th>3</th>\n",
       "      <td>2013-01-15</td>\n",
       "      <td>0</td>\n",
       "      <td>25</td>\n",
       "      <td>2555</td>\n",
       "      <td>1099.00</td>\n",
       "      <td>1.0</td>\n",
       "      <td>DEEP PURPLE 30 Very Best Of 2CD (Фирм.)</td>\n",
       "      <td>56</td>\n",
       "      <td>2013</td>\n",
       "      <td>January</td>\n",
       "      <td>1</td>\n",
       "    </tr>\n",
       "    <tr>\n",
       "      <th>4</th>\n",
       "      <td>2013-01-10</td>\n",
       "      <td>0</td>\n",
       "      <td>25</td>\n",
       "      <td>2564</td>\n",
       "      <td>349.00</td>\n",
       "      <td>1.0</td>\n",
       "      <td>DEEP PURPLE Perihelion: Live In Concert DVD (К...</td>\n",
       "      <td>59</td>\n",
       "      <td>2013</td>\n",
       "      <td>January</td>\n",
       "      <td>3</td>\n",
       "    </tr>\n",
       "  </tbody>\n",
       "</table>\n",
       "</div>"
      ],
      "text/plain": [
       "        date  date_block_num  shop_id  item_id  item_price  item_cnt_day  \\\n",
       "0 2013-01-02               0       59    22154      999.00           1.0   \n",
       "1 2013-01-03               0       25     2552      899.00           1.0   \n",
       "2 2013-01-06               0       25     2554     1709.05           1.0   \n",
       "3 2013-01-15               0       25     2555     1099.00           1.0   \n",
       "4 2013-01-10               0       25     2564      349.00           1.0   \n",
       "\n",
       "                                           item_name  item_category_id   Ano  \\\n",
       "0                                  ЯВЛЕНИЕ 2012 (BD)                37  2013   \n",
       "1           DEEP PURPLE  The House Of Blue Light  LP                58  2013   \n",
       "2           DEEP PURPLE  Who Do You Think We Are  LP                58  2013   \n",
       "3            DEEP PURPLE 30 Very Best Of 2CD (Фирм.)                56  2013   \n",
       "4  DEEP PURPLE Perihelion: Live In Concert DVD (К...                59  2013   \n",
       "\n",
       "       Mes  Mes_num  \n",
       "0  January        2  \n",
       "1  January        3  \n",
       "2  January        6  \n",
       "3  January        1  \n",
       "4  January        3  "
      ]
     },
     "execution_count": 1102,
     "metadata": {},
     "output_type": "execute_result"
    }
   ],
   "source": [
    "transactions.head()"
   ]
  },
  {
   "cell_type": "code",
   "execution_count": 1103,
   "metadata": {},
   "outputs": [],
   "source": [
    "transactions['ganancias'] = transactions['item_price']*transactions['item_cnt_day']"
   ]
  },
  {
   "cell_type": "code",
   "execution_count": 1104,
   "metadata": {
    "scrolled": true
   },
   "outputs": [
    {
     "data": {
      "text/html": [
       "<div>\n",
       "<style scoped>\n",
       "    .dataframe tbody tr th:only-of-type {\n",
       "        vertical-align: middle;\n",
       "    }\n",
       "\n",
       "    .dataframe tbody tr th {\n",
       "        vertical-align: top;\n",
       "    }\n",
       "\n",
       "    .dataframe thead th {\n",
       "        text-align: right;\n",
       "    }\n",
       "</style>\n",
       "<table border=\"1\" class=\"dataframe\">\n",
       "  <thead>\n",
       "    <tr style=\"text-align: right;\">\n",
       "      <th></th>\n",
       "      <th>cantidadmes</th>\n",
       "      <th>ganancias_mod</th>\n",
       "    </tr>\n",
       "    <tr>\n",
       "      <th>date_block_num</th>\n",
       "      <th></th>\n",
       "      <th></th>\n",
       "    </tr>\n",
       "  </thead>\n",
       "  <tbody>\n",
       "    <tr>\n",
       "      <th>0</th>\n",
       "      <td>131850.0</td>\n",
       "      <td>9.239909e+07</td>\n",
       "    </tr>\n",
       "    <tr>\n",
       "      <th>1</th>\n",
       "      <td>128382.0</td>\n",
       "      <td>9.096449e+07</td>\n",
       "    </tr>\n",
       "    <tr>\n",
       "      <th>2</th>\n",
       "      <td>147438.0</td>\n",
       "      <td>1.052654e+08</td>\n",
       "    </tr>\n",
       "    <tr>\n",
       "      <th>3</th>\n",
       "      <td>107439.0</td>\n",
       "      <td>6.945713e+07</td>\n",
       "    </tr>\n",
       "    <tr>\n",
       "      <th>4</th>\n",
       "      <td>107148.0</td>\n",
       "      <td>6.525317e+07</td>\n",
       "    </tr>\n",
       "    <tr>\n",
       "      <th>5</th>\n",
       "      <td>125583.0</td>\n",
       "      <td>7.976249e+07</td>\n",
       "    </tr>\n",
       "    <tr>\n",
       "      <th>6</th>\n",
       "      <td>117165.0</td>\n",
       "      <td>6.953452e+07</td>\n",
       "    </tr>\n",
       "    <tr>\n",
       "      <th>7</th>\n",
       "      <td>125586.0</td>\n",
       "      <td>7.458699e+07</td>\n",
       "    </tr>\n",
       "    <tr>\n",
       "      <th>8</th>\n",
       "      <td>133551.0</td>\n",
       "      <td>1.193180e+08</td>\n",
       "    </tr>\n",
       "    <tr>\n",
       "      <th>9</th>\n",
       "      <td>127815.0</td>\n",
       "      <td>1.075958e+08</td>\n",
       "    </tr>\n",
       "    <tr>\n",
       "      <th>10</th>\n",
       "      <td>130270.0</td>\n",
       "      <td>1.389676e+08</td>\n",
       "    </tr>\n",
       "    <tr>\n",
       "      <th>11</th>\n",
       "      <td>183670.0</td>\n",
       "      <td>2.080388e+08</td>\n",
       "    </tr>\n",
       "    <tr>\n",
       "      <th>12</th>\n",
       "      <td>117243.0</td>\n",
       "      <td>9.878444e+07</td>\n",
       "    </tr>\n",
       "    <tr>\n",
       "      <th>13</th>\n",
       "      <td>109975.0</td>\n",
       "      <td>1.078481e+08</td>\n",
       "    </tr>\n",
       "    <tr>\n",
       "      <th>14</th>\n",
       "      <td>115501.0</td>\n",
       "      <td>1.095066e+08</td>\n",
       "    </tr>\n",
       "    <tr>\n",
       "      <th>15</th>\n",
       "      <td>96744.0</td>\n",
       "      <td>8.093179e+07</td>\n",
       "    </tr>\n",
       "    <tr>\n",
       "      <th>16</th>\n",
       "      <td>97938.0</td>\n",
       "      <td>9.144211e+07</td>\n",
       "    </tr>\n",
       "    <tr>\n",
       "      <th>17</th>\n",
       "      <td>97623.0</td>\n",
       "      <td>8.292134e+07</td>\n",
       "    </tr>\n",
       "    <tr>\n",
       "      <th>18</th>\n",
       "      <td>91505.0</td>\n",
       "      <td>7.681544e+07</td>\n",
       "    </tr>\n",
       "    <tr>\n",
       "      <th>19</th>\n",
       "      <td>102910.0</td>\n",
       "      <td>8.986228e+07</td>\n",
       "    </tr>\n",
       "    <tr>\n",
       "      <th>20</th>\n",
       "      <td>99427.0</td>\n",
       "      <td>1.150637e+08</td>\n",
       "    </tr>\n",
       "    <tr>\n",
       "      <th>21</th>\n",
       "      <td>107623.0</td>\n",
       "      <td>1.128208e+08</td>\n",
       "    </tr>\n",
       "    <tr>\n",
       "      <th>22</th>\n",
       "      <td>118050.0</td>\n",
       "      <td>1.524134e+08</td>\n",
       "    </tr>\n",
       "    <tr>\n",
       "      <th>23</th>\n",
       "      <td>169055.0</td>\n",
       "      <td>2.326154e+08</td>\n",
       "    </tr>\n",
       "    <tr>\n",
       "      <th>24</th>\n",
       "      <td>111299.0</td>\n",
       "      <td>1.194534e+08</td>\n",
       "    </tr>\n",
       "    <tr>\n",
       "      <th>25</th>\n",
       "      <td>84419.0</td>\n",
       "      <td>8.695968e+07</td>\n",
       "    </tr>\n",
       "    <tr>\n",
       "      <th>26</th>\n",
       "      <td>82233.0</td>\n",
       "      <td>8.687705e+07</td>\n",
       "    </tr>\n",
       "    <tr>\n",
       "      <th>27</th>\n",
       "      <td>77948.0</td>\n",
       "      <td>9.049895e+07</td>\n",
       "    </tr>\n",
       "    <tr>\n",
       "      <th>28</th>\n",
       "      <td>72435.0</td>\n",
       "      <td>8.883494e+07</td>\n",
       "    </tr>\n",
       "    <tr>\n",
       "      <th>29</th>\n",
       "      <td>64237.0</td>\n",
       "      <td>6.563130e+07</td>\n",
       "    </tr>\n",
       "    <tr>\n",
       "      <th>30</th>\n",
       "      <td>63316.0</td>\n",
       "      <td>5.968569e+07</td>\n",
       "    </tr>\n",
       "    <tr>\n",
       "      <th>31</th>\n",
       "      <td>66196.0</td>\n",
       "      <td>6.193087e+07</td>\n",
       "    </tr>\n",
       "    <tr>\n",
       "      <th>32</th>\n",
       "      <td>72989.0</td>\n",
       "      <td>9.318504e+07</td>\n",
       "    </tr>\n",
       "    <tr>\n",
       "      <th>33</th>\n",
       "      <td>71184.0</td>\n",
       "      <td>8.463016e+07</td>\n",
       "    </tr>\n",
       "  </tbody>\n",
       "</table>\n",
       "</div>"
      ],
      "text/plain": [
       "                cantidadmes  ganancias_mod\n",
       "date_block_num                            \n",
       "0                  131850.0   9.239909e+07\n",
       "1                  128382.0   9.096449e+07\n",
       "2                  147438.0   1.052654e+08\n",
       "3                  107439.0   6.945713e+07\n",
       "4                  107148.0   6.525317e+07\n",
       "5                  125583.0   7.976249e+07\n",
       "6                  117165.0   6.953452e+07\n",
       "7                  125586.0   7.458699e+07\n",
       "8                  133551.0   1.193180e+08\n",
       "9                  127815.0   1.075958e+08\n",
       "10                 130270.0   1.389676e+08\n",
       "11                 183670.0   2.080388e+08\n",
       "12                 117243.0   9.878444e+07\n",
       "13                 109975.0   1.078481e+08\n",
       "14                 115501.0   1.095066e+08\n",
       "15                  96744.0   8.093179e+07\n",
       "16                  97938.0   9.144211e+07\n",
       "17                  97623.0   8.292134e+07\n",
       "18                  91505.0   7.681544e+07\n",
       "19                 102910.0   8.986228e+07\n",
       "20                  99427.0   1.150637e+08\n",
       "21                 107623.0   1.128208e+08\n",
       "22                 118050.0   1.524134e+08\n",
       "23                 169055.0   2.326154e+08\n",
       "24                 111299.0   1.194534e+08\n",
       "25                  84419.0   8.695968e+07\n",
       "26                  82233.0   8.687705e+07\n",
       "27                  77948.0   9.049895e+07\n",
       "28                  72435.0   8.883494e+07\n",
       "29                  64237.0   6.563130e+07\n",
       "30                  63316.0   5.968569e+07\n",
       "31                  66196.0   6.193087e+07\n",
       "32                  72989.0   9.318504e+07\n",
       "33                  71184.0   8.463016e+07"
      ]
     },
     "execution_count": 1104,
     "metadata": {},
     "output_type": "execute_result"
    }
   ],
   "source": [
    "cantidad_mes = transactions.groupby(['date_block_num']).agg({'item_cnt_day':'sum','ganancias':'sum'}).rename(columns={'item_cnt_day':'cantidadmes','ganancias':'ganancias_mod'})\n",
    "cantidad_mes"
   ]
  },
  {
   "cell_type": "code",
   "execution_count": 1105,
   "metadata": {},
   "outputs": [
    {
     "data": {
      "text/html": [
       "<div>\n",
       "<style scoped>\n",
       "    .dataframe tbody tr th:only-of-type {\n",
       "        vertical-align: middle;\n",
       "    }\n",
       "\n",
       "    .dataframe tbody tr th {\n",
       "        vertical-align: top;\n",
       "    }\n",
       "\n",
       "    .dataframe thead th {\n",
       "        text-align: right;\n",
       "    }\n",
       "</style>\n",
       "<table border=\"1\" class=\"dataframe\">\n",
       "  <thead>\n",
       "    <tr style=\"text-align: right;\">\n",
       "      <th></th>\n",
       "      <th>cantidadmes</th>\n",
       "      <th>ganancias_mod</th>\n",
       "      <th>diferencia</th>\n",
       "    </tr>\n",
       "    <tr>\n",
       "      <th>date_block_num</th>\n",
       "      <th></th>\n",
       "      <th></th>\n",
       "      <th></th>\n",
       "    </tr>\n",
       "  </thead>\n",
       "  <tbody>\n",
       "    <tr>\n",
       "      <th>0</th>\n",
       "      <td>131850.0</td>\n",
       "      <td>9.239909e+07</td>\n",
       "      <td>0.0</td>\n",
       "    </tr>\n",
       "    <tr>\n",
       "      <th>1</th>\n",
       "      <td>128382.0</td>\n",
       "      <td>9.096449e+07</td>\n",
       "      <td>-3468.0</td>\n",
       "    </tr>\n",
       "    <tr>\n",
       "      <th>2</th>\n",
       "      <td>147438.0</td>\n",
       "      <td>1.052654e+08</td>\n",
       "      <td>19056.0</td>\n",
       "    </tr>\n",
       "    <tr>\n",
       "      <th>3</th>\n",
       "      <td>107439.0</td>\n",
       "      <td>6.945713e+07</td>\n",
       "      <td>-39999.0</td>\n",
       "    </tr>\n",
       "    <tr>\n",
       "      <th>4</th>\n",
       "      <td>107148.0</td>\n",
       "      <td>6.525317e+07</td>\n",
       "      <td>-291.0</td>\n",
       "    </tr>\n",
       "    <tr>\n",
       "      <th>5</th>\n",
       "      <td>125583.0</td>\n",
       "      <td>7.976249e+07</td>\n",
       "      <td>18435.0</td>\n",
       "    </tr>\n",
       "    <tr>\n",
       "      <th>6</th>\n",
       "      <td>117165.0</td>\n",
       "      <td>6.953452e+07</td>\n",
       "      <td>-8418.0</td>\n",
       "    </tr>\n",
       "    <tr>\n",
       "      <th>7</th>\n",
       "      <td>125586.0</td>\n",
       "      <td>7.458699e+07</td>\n",
       "      <td>8421.0</td>\n",
       "    </tr>\n",
       "    <tr>\n",
       "      <th>8</th>\n",
       "      <td>133551.0</td>\n",
       "      <td>1.193180e+08</td>\n",
       "      <td>7965.0</td>\n",
       "    </tr>\n",
       "    <tr>\n",
       "      <th>9</th>\n",
       "      <td>127815.0</td>\n",
       "      <td>1.075958e+08</td>\n",
       "      <td>-5736.0</td>\n",
       "    </tr>\n",
       "    <tr>\n",
       "      <th>10</th>\n",
       "      <td>130270.0</td>\n",
       "      <td>1.389676e+08</td>\n",
       "      <td>2455.0</td>\n",
       "    </tr>\n",
       "    <tr>\n",
       "      <th>11</th>\n",
       "      <td>183670.0</td>\n",
       "      <td>2.080388e+08</td>\n",
       "      <td>53400.0</td>\n",
       "    </tr>\n",
       "    <tr>\n",
       "      <th>12</th>\n",
       "      <td>117243.0</td>\n",
       "      <td>9.878444e+07</td>\n",
       "      <td>-66427.0</td>\n",
       "    </tr>\n",
       "    <tr>\n",
       "      <th>13</th>\n",
       "      <td>109975.0</td>\n",
       "      <td>1.078481e+08</td>\n",
       "      <td>-7268.0</td>\n",
       "    </tr>\n",
       "    <tr>\n",
       "      <th>14</th>\n",
       "      <td>115501.0</td>\n",
       "      <td>1.095066e+08</td>\n",
       "      <td>5526.0</td>\n",
       "    </tr>\n",
       "    <tr>\n",
       "      <th>15</th>\n",
       "      <td>96744.0</td>\n",
       "      <td>8.093179e+07</td>\n",
       "      <td>-18757.0</td>\n",
       "    </tr>\n",
       "    <tr>\n",
       "      <th>16</th>\n",
       "      <td>97938.0</td>\n",
       "      <td>9.144211e+07</td>\n",
       "      <td>1194.0</td>\n",
       "    </tr>\n",
       "    <tr>\n",
       "      <th>17</th>\n",
       "      <td>97623.0</td>\n",
       "      <td>8.292134e+07</td>\n",
       "      <td>-315.0</td>\n",
       "    </tr>\n",
       "    <tr>\n",
       "      <th>18</th>\n",
       "      <td>91505.0</td>\n",
       "      <td>7.681544e+07</td>\n",
       "      <td>-6118.0</td>\n",
       "    </tr>\n",
       "    <tr>\n",
       "      <th>19</th>\n",
       "      <td>102910.0</td>\n",
       "      <td>8.986228e+07</td>\n",
       "      <td>11405.0</td>\n",
       "    </tr>\n",
       "    <tr>\n",
       "      <th>20</th>\n",
       "      <td>99427.0</td>\n",
       "      <td>1.150637e+08</td>\n",
       "      <td>-3483.0</td>\n",
       "    </tr>\n",
       "    <tr>\n",
       "      <th>21</th>\n",
       "      <td>107623.0</td>\n",
       "      <td>1.128208e+08</td>\n",
       "      <td>8196.0</td>\n",
       "    </tr>\n",
       "    <tr>\n",
       "      <th>22</th>\n",
       "      <td>118050.0</td>\n",
       "      <td>1.524134e+08</td>\n",
       "      <td>10427.0</td>\n",
       "    </tr>\n",
       "    <tr>\n",
       "      <th>23</th>\n",
       "      <td>169055.0</td>\n",
       "      <td>2.326154e+08</td>\n",
       "      <td>51005.0</td>\n",
       "    </tr>\n",
       "    <tr>\n",
       "      <th>24</th>\n",
       "      <td>111299.0</td>\n",
       "      <td>1.194534e+08</td>\n",
       "      <td>-57756.0</td>\n",
       "    </tr>\n",
       "    <tr>\n",
       "      <th>25</th>\n",
       "      <td>84419.0</td>\n",
       "      <td>8.695968e+07</td>\n",
       "      <td>-26880.0</td>\n",
       "    </tr>\n",
       "    <tr>\n",
       "      <th>26</th>\n",
       "      <td>82233.0</td>\n",
       "      <td>8.687705e+07</td>\n",
       "      <td>-2186.0</td>\n",
       "    </tr>\n",
       "    <tr>\n",
       "      <th>27</th>\n",
       "      <td>77948.0</td>\n",
       "      <td>9.049895e+07</td>\n",
       "      <td>-4285.0</td>\n",
       "    </tr>\n",
       "    <tr>\n",
       "      <th>28</th>\n",
       "      <td>72435.0</td>\n",
       "      <td>8.883494e+07</td>\n",
       "      <td>-5513.0</td>\n",
       "    </tr>\n",
       "    <tr>\n",
       "      <th>29</th>\n",
       "      <td>64237.0</td>\n",
       "      <td>6.563130e+07</td>\n",
       "      <td>-8198.0</td>\n",
       "    </tr>\n",
       "    <tr>\n",
       "      <th>30</th>\n",
       "      <td>63316.0</td>\n",
       "      <td>5.968569e+07</td>\n",
       "      <td>-921.0</td>\n",
       "    </tr>\n",
       "    <tr>\n",
       "      <th>31</th>\n",
       "      <td>66196.0</td>\n",
       "      <td>6.193087e+07</td>\n",
       "      <td>2880.0</td>\n",
       "    </tr>\n",
       "    <tr>\n",
       "      <th>32</th>\n",
       "      <td>72989.0</td>\n",
       "      <td>9.318504e+07</td>\n",
       "      <td>6793.0</td>\n",
       "    </tr>\n",
       "    <tr>\n",
       "      <th>33</th>\n",
       "      <td>71184.0</td>\n",
       "      <td>8.463016e+07</td>\n",
       "      <td>-1805.0</td>\n",
       "    </tr>\n",
       "  </tbody>\n",
       "</table>\n",
       "</div>"
      ],
      "text/plain": [
       "                cantidadmes  ganancias_mod  diferencia\n",
       "date_block_num                                        \n",
       "0                  131850.0   9.239909e+07         0.0\n",
       "1                  128382.0   9.096449e+07     -3468.0\n",
       "2                  147438.0   1.052654e+08     19056.0\n",
       "3                  107439.0   6.945713e+07    -39999.0\n",
       "4                  107148.0   6.525317e+07      -291.0\n",
       "5                  125583.0   7.976249e+07     18435.0\n",
       "6                  117165.0   6.953452e+07     -8418.0\n",
       "7                  125586.0   7.458699e+07      8421.0\n",
       "8                  133551.0   1.193180e+08      7965.0\n",
       "9                  127815.0   1.075958e+08     -5736.0\n",
       "10                 130270.0   1.389676e+08      2455.0\n",
       "11                 183670.0   2.080388e+08     53400.0\n",
       "12                 117243.0   9.878444e+07    -66427.0\n",
       "13                 109975.0   1.078481e+08     -7268.0\n",
       "14                 115501.0   1.095066e+08      5526.0\n",
       "15                  96744.0   8.093179e+07    -18757.0\n",
       "16                  97938.0   9.144211e+07      1194.0\n",
       "17                  97623.0   8.292134e+07      -315.0\n",
       "18                  91505.0   7.681544e+07     -6118.0\n",
       "19                 102910.0   8.986228e+07     11405.0\n",
       "20                  99427.0   1.150637e+08     -3483.0\n",
       "21                 107623.0   1.128208e+08      8196.0\n",
       "22                 118050.0   1.524134e+08     10427.0\n",
       "23                 169055.0   2.326154e+08     51005.0\n",
       "24                 111299.0   1.194534e+08    -57756.0\n",
       "25                  84419.0   8.695968e+07    -26880.0\n",
       "26                  82233.0   8.687705e+07     -2186.0\n",
       "27                  77948.0   9.049895e+07     -4285.0\n",
       "28                  72435.0   8.883494e+07     -5513.0\n",
       "29                  64237.0   6.563130e+07     -8198.0\n",
       "30                  63316.0   5.968569e+07      -921.0\n",
       "31                  66196.0   6.193087e+07      2880.0\n",
       "32                  72989.0   9.318504e+07      6793.0\n",
       "33                  71184.0   8.463016e+07     -1805.0"
      ]
     },
     "execution_count": 1105,
     "metadata": {},
     "output_type": "execute_result"
    }
   ],
   "source": [
    "cantidad_mes['diferencia']=cantidad_mes['cantidadmes'].diff()\n",
    "cantidad_mes.fillna(0, inplace=True)\n",
    "cantidad_mes"
   ]
  },
  {
   "cell_type": "code",
   "execution_count": 1106,
   "metadata": {},
   "outputs": [],
   "source": [
    "transactions = pd.merge(transactions, cantidad_mes, how='left', on='date_block_num')"
   ]
  },
  {
   "cell_type": "code",
   "execution_count": 1107,
   "metadata": {},
   "outputs": [
    {
     "name": "stdout",
     "output_type": "stream",
     "text": [
      "<class 'pandas.core.frame.DataFrame'>\n",
      "Int64Index: 2928493 entries, 0 to 2928492\n",
      "Data columns (total 15 columns):\n",
      "date                datetime64[ns]\n",
      "date_block_num      int64\n",
      "shop_id             int64\n",
      "item_id             int64\n",
      "item_price          float64\n",
      "item_cnt_day        float64\n",
      "item_name           object\n",
      "item_category_id    int64\n",
      "Ano                 int64\n",
      "Mes                 object\n",
      "Mes_num             int64\n",
      "ganancias           float64\n",
      "cantidadmes         float64\n",
      "ganancias_mod       float64\n",
      "diferencia          float64\n",
      "dtypes: datetime64[ns](1), float64(6), int64(6), object(2)\n",
      "memory usage: 357.5+ MB\n"
     ]
    }
   ],
   "source": [
    "transactions.info()"
   ]
  },
  {
   "cell_type": "markdown",
   "metadata": {},
   "source": [
    "## Primero modelo para poder predecir la cantidad de items vendidos por mes\n"
   ]
  },
  {
   "cell_type": "code",
   "execution_count": 1269,
   "metadata": {},
   "outputs": [],
   "source": [
    "X = transactions[['date_block_num','shop_id','item_id','item_price','item_category_id','Ano', 'Mes_num', 'ganancias_mod','diferencia' ]]\n",
    "Y = transactions['item_cnt_day']"
   ]
  },
  {
   "cell_type": "code",
   "execution_count": 1270,
   "metadata": {},
   "outputs": [],
   "source": [
    "from sklearn.model_selection import train_test_split"
   ]
  },
  {
   "cell_type": "markdown",
   "metadata": {},
   "source": [
    "## División de los datos de entrenamiento y prueba"
   ]
  },
  {
   "cell_type": "code",
   "execution_count": 1271,
   "metadata": {},
   "outputs": [
    {
     "name": "stdout",
     "output_type": "stream",
     "text": [
      "tamaño de muestra de test : 585699\n",
      "number of training samples: 2342794\n"
     ]
    }
   ],
   "source": [
    "x_train, x_test, y_train, y_test = train_test_split(X, Y, test_size=0.20, random_state=1)\n",
    "\n",
    "print(\"tamaño de muestra de test :\", x_test.shape[0])\n",
    "print(\"number of training samples:\",x_train.shape[0])\n"
   ]
  },
  {
   "cell_type": "markdown",
   "metadata": {},
   "source": [
    "## por ley de parsimonia probando el modelo mas sencillo (modelo de regresión múltuple)"
   ]
  },
  {
   "cell_type": "code",
   "execution_count": 1272,
   "metadata": {},
   "outputs": [
    {
     "data": {
      "text/plain": [
       "LinearRegression(copy_X=True, fit_intercept=True, n_jobs=None, normalize=False)"
      ]
     },
     "execution_count": 1272,
     "metadata": {},
     "output_type": "execute_result"
    }
   ],
   "source": [
    "lm = LinearRegression()\n",
    "lm.fit(x_train, y_train)"
   ]
  },
  {
   "cell_type": "markdown",
   "metadata": {},
   "source": [
    "## Metricas para evaluar el modelo de regresion multiple"
   ]
  },
  {
   "cell_type": "markdown",
   "metadata": {},
   "source": [
    "### R^2"
   ]
  },
  {
   "cell_type": "code",
   "execution_count": 1112,
   "metadata": {},
   "outputs": [
    {
     "data": {
      "text/plain": [
       "0.0015487944698113765"
      ]
     },
     "execution_count": 1112,
     "metadata": {},
     "output_type": "execute_result"
    }
   ],
   "source": [
    "lm.score(x_test, y_test)"
   ]
  },
  {
   "cell_type": "markdown",
   "metadata": {},
   "source": [
    "### MSE - RMSE"
   ]
  },
  {
   "cell_type": "code",
   "execution_count": 30,
   "metadata": {},
   "outputs": [],
   "source": [
    "from sklearn.metrics import mean_squared_error"
   ]
  },
  {
   "cell_type": "code",
   "execution_count": 32,
   "metadata": {
    "scrolled": true
   },
   "outputs": [
    {
     "name": "stdout",
     "output_type": "stream",
     "text": [
      "MSE:  12.699179250835975\n",
      "RMSE 3.563590780495984\n"
     ]
    }
   ],
   "source": [
    "Yhat=lm.predict(x_test)\n",
    "mse = mean_squared_error(y_test, Yhat)\n",
    "print('MSE: ', mse)\n",
    "print('RMSE', np.sqrt(mean_squared_error(y_test, Yhat)) )"
   ]
  },
  {
   "cell_type": "markdown",
   "metadata": {},
   "source": [
    "## Seleccion de variables usando el metodo Lasso"
   ]
  },
  {
   "cell_type": "code",
   "execution_count": 1130,
   "metadata": {},
   "outputs": [],
   "source": [
    "#from sklearn.model_selection import cross_val_score\n",
    "#import statsmodels.api as sm\n",
    "#from sklearn.feature_selection import RFE\n",
    "from sklearn.linear_model import RidgeCV, LassoCV, Ridge, Lasso"
   ]
  },
  {
   "cell_type": "code",
   "execution_count": 1131,
   "metadata": {},
   "outputs": [
    {
     "name": "stdout",
     "output_type": "stream",
     "text": [
      "Best alpha using built-in LassoCV: 148605.763358\n",
      "Best score using built-in LassoCV: 0.000207\n"
     ]
    }
   ],
   "source": [
    "reg = LassoCV()\n",
    "reg.fit(X, Y)\n",
    "print(\"Best alpha using built-in LassoCV: %f\" % reg.alpha_)\n",
    "print(\"Best score using built-in LassoCV: %f\" %reg.score(X,Y))\n",
    "coef = pd.Series(reg.coef_, index = X.columns)\n",
    "\n"
   ]
  },
  {
   "cell_type": "code",
   "execution_count": 1132,
   "metadata": {
    "scrolled": true
   },
   "outputs": [
    {
     "name": "stdout",
     "output_type": "stream",
     "text": [
      "Lasso picked 1 variables and eliminated the other 8 variables\n"
     ]
    }
   ],
   "source": [
    "print(\"Lasso picked \" + str(sum(coef != 0)) + \" variables and eliminated the other \" +  str(sum(coef == 0)) + \" variables\")"
   ]
  },
  {
   "cell_type": "markdown",
   "metadata": {},
   "source": [
    "## Segun el método Lasso para selección de variables solo se deben tener en cuenta las variables item_category_id, item_price y item_id"
   ]
  },
  {
   "cell_type": "code",
   "execution_count": 1133,
   "metadata": {
    "scrolled": true
   },
   "outputs": [
    {
     "data": {
      "text/plain": [
       "Text(0.5,1,'Feature importance using Lasso Model')"
      ]
     },
     "execution_count": 1133,
     "metadata": {},
     "output_type": "execute_result"
    },
    {
     "data": {
      "image/png": "[encoded data removed]",
      "text/plain": [
       "<Figure size 576x720 with 1 Axes>"
      ]
     },
     "metadata": {
      "needs_background": "light"
     },
     "output_type": "display_data"
    }
   ],
   "source": [
    "#https://towardsdatascience.com/feature-selection-with-pandas-e3690ad8504b\n",
    "imp_coef = coef.sort_values()\n",
    "import matplotlib\n",
    "matplotlib.rcParams['figure.figsize'] = (8.0, 10.0)\n",
    "imp_coef.plot(kind = \"barh\")\n",
    "plt.title(\"Feature importance using Lasso Model\")"
   ]
  },
  {
   "cell_type": "code",
   "execution_count": 1348,
   "metadata": {},
   "outputs": [],
   "source": [
    "X_train = transactions[transactions.date_block_num < 33].drop(['item_cnt_day'], axis=1)\n",
    "Y_train = transactions[transactions.date_block_num < 33]['item_cnt_day']\n",
    "X_valid = transactions[transactions.date_block_num == 33].drop(['item_cnt_day'], axis=1)\n",
    "Y_valid = transactions[transactions.date_block_num == 33]['item_cnt_day']"
   ]
  },
  {
   "cell_type": "code",
   "execution_count": 1349,
   "metadata": {},
   "outputs": [],
   "source": [
    "x_train_2 = X_train[['date_block_num','shop_id','item_id','item_price','item_category_id','Ano', 'Mes_num', 'ganancias_mod','diferencia' ]]\n",
    "y_train_2 = Y_train\n",
    "\n",
    "\n",
    "x_test_2 = X_valid[['date_block_num','shop_id','item_id','item_price','item_category_id','Ano', 'Mes_num', 'ganancias_mod','diferencia' ]]\n",
    "y_test_2= Y_valid\n",
    "\n",
    "\n"
   ]
  },
  {
   "cell_type": "code",
   "execution_count": 991,
   "metadata": {
    "scrolled": true
   },
   "outputs": [
    {
     "name": "stdout",
     "output_type": "stream",
     "text": [
      "tamaño de muestra de test : 293585\n",
      "number of training samples: 2642264\n"
     ]
    }
   ],
   "source": [
    "x_train_2, x_test_2, y_train_2, y_test_2 = train_test_split(X_2, Y_2, test_size=0.10, random_state=1)\n",
    "\n",
    "print(\"tamaño de muestra de test :\", x_test_2.shape[0])\n",
    "print(\"number of training samples:\",x_train_2.shape[0])\n"
   ]
  },
  {
   "cell_type": "code",
   "execution_count": 504,
   "metadata": {},
   "outputs": [
    {
     "name": "stdout",
     "output_type": "stream",
     "text": [
      "<class 'pandas.core.frame.DataFrame'>\n",
      "Int64Index: 2348679 entries, 1912632 to 128037\n",
      "Data columns (total 5 columns):\n",
      "item_id             int64\n",
      "item_price          float64\n",
      "item_category_id    object\n",
      "shop_id             int64\n",
      "date_block_num      object\n",
      "dtypes: float64(1), int64(2), object(2)\n",
      "memory usage: 107.5+ MB\n"
     ]
    }
   ],
   "source": [
    "x_train_2.info()"
   ]
  },
  {
   "cell_type": "code",
   "execution_count": 1211,
   "metadata": {},
   "outputs": [
    {
     "data": {
      "text/plain": [
       "LinearRegression(copy_X=True, fit_intercept=True, n_jobs=None, normalize=False)"
      ]
     },
     "execution_count": 1211,
     "metadata": {},
     "output_type": "execute_result"
    }
   ],
   "source": [
    "lm = LinearRegression()\n",
    "lm.fit(X_2, Y_2)"
   ]
  },
  {
   "cell_type": "code",
   "execution_count": 49,
   "metadata": {},
   "outputs": [
    {
     "name": "stdout",
     "output_type": "stream",
     "text": [
      "MSE:  12.702144786373966\n",
      "RMSE 3.5640068443219866\n",
      "R2 0.00027144697392267325\n"
     ]
    }
   ],
   "source": [
    "R2 = lm.score(x_test_2, y_test_2)\n",
    "Yhat=lm.predict(x_test_2)\n",
    "mse = mean_squared_error(y_test_2, Yhat)\n",
    "print('MSE: ', mse)\n",
    "print('RMSE', np.sqrt(mean_squared_error(y_test_2, Yhat)) )\n",
    "print('R2',R2 )"
   ]
  },
  {
   "cell_type": "markdown",
   "metadata": {},
   "source": [
    "## Al no tener buenos resultados con los modelos de regresión multiple se procede a modelar con un modelo de regresion Random Forest"
   ]
  },
  {
   "cell_type": "markdown",
   "metadata": {},
   "source": [
    "## Regresión Random Forest"
   ]
  },
  {
   "cell_type": "code",
   "execution_count": 1183,
   "metadata": {},
   "outputs": [],
   "source": [
    "from sklearn.ensemble import RandomForestRegressor\n"
   ]
  },
  {
   "cell_type": "code",
   "execution_count": 1282,
   "metadata": {},
   "outputs": [
    {
     "data": {
      "text/plain": [
       "array([1.        , 1.09      , 1.17145238, ..., 1.        , 1.01      ,\n",
       "       1.        ])"
      ]
     },
     "execution_count": 1282,
     "metadata": {},
     "output_type": "execute_result"
    }
   ],
   "source": [
    "#https://www.feedingthemachine.cl/random-forest-en-regresion-para-machine-learning/\n",
    "model = RandomForestRegressor().fit(x_train,y_train)\n",
    "pred = model.predict(x_train)\n",
    "pred\n"
   ]
  },
  {
   "cell_type": "code",
   "execution_count": 509,
   "metadata": {},
   "outputs": [],
   "source": [
    "from sklearn import metrics"
   ]
  },
  {
   "cell_type": "code",
   "execution_count": 1369,
   "metadata": {
    "scrolled": false
   },
   "outputs": [
    {
     "name": "stdout",
     "output_type": "stream",
     "text": [
      "MSE 1.5946993290521867\n",
      "MAE 0.14124515284282832\n",
      "RMSE 1.2628140516529687\n",
      "R2 0.788676196637794\n"
     ]
    }
   ],
   "source": [
    "print('MSE', metrics.mean_squared_error(y_train,pred))\n",
    "print('MAE', metrics.mean_absolute_error(y_train,pred))\n",
    "print('RMSE', np.sqrt(metrics.mean_squared_error(y_train,pred)))\n",
    "print('R2', model.score(x_train,y_train))"
   ]
  },
  {
   "cell_type": "code",
   "execution_count": 1283,
   "metadata": {},
   "outputs": [
    {
     "name": "stdout",
     "output_type": "stream",
     "text": [
      "Wall time: 25.7 s\n"
     ]
    },
    {
     "data": {
      "text/plain": [
       "array([1.06  , 1.02  , 1.    , ..., 1.22  , 1.2725, 1.    ])"
      ]
     },
     "execution_count": 1283,
     "metadata": {},
     "output_type": "execute_result"
    }
   ],
   "source": [
    "%%time\n",
    "pred_test = model.predict(x_test)\n",
    "pred_test"
   ]
  },
  {
   "cell_type": "code",
   "execution_count": 126,
   "metadata": {},
   "outputs": [
    {
     "data": {
      "text/plain": [
       "(587170,)"
      ]
     },
     "execution_count": 126,
     "metadata": {},
     "output_type": "execute_result"
    }
   ],
   "source": [
    "pred_test.shape"
   ]
  },
  {
   "cell_type": "code",
   "execution_count": 127,
   "metadata": {},
   "outputs": [
    {
     "data": {
      "text/plain": [
       "(587170, 7)"
      ]
     },
     "execution_count": 127,
     "metadata": {},
     "output_type": "execute_result"
    }
   ],
   "source": [
    "x_test.shape"
   ]
  },
  {
   "cell_type": "code",
   "execution_count": null,
   "metadata": {},
   "outputs": [],
   "source": []
  },
  {
   "cell_type": "code",
   "execution_count": 237,
   "metadata": {},
   "outputs": [
    {
     "name": "stdout",
     "output_type": "stream",
     "text": [
      "MSE 3.5610169202550677\n",
      "MAE 0.2891762897577438\n",
      "RMSE 1.8870656904980991\n",
      "R2 0.1369717495065601\n",
      "Wall time: 22.9 s\n"
     ]
    }
   ],
   "source": [
    "%%time\n",
    "print('MSE', metrics.mean_squared_error(y_test,pred_test))\n",
    "print('MAE', metrics.mean_absolute_error(y_test,pred_test))\n",
    "print('RMSE', np.sqrt(metrics.mean_squared_error(y_test,pred_test)))\n",
    "print('R2', model.score(x_test,y_test))"
   ]
  },
  {
   "cell_type": "markdown",
   "metadata": {},
   "source": [
    "## Random Forest con otro conjunto de variables depurado"
   ]
  },
  {
   "cell_type": "code",
   "execution_count": 1219,
   "metadata": {
    "scrolled": true
   },
   "outputs": [
    {
     "name": "stdout",
     "output_type": "stream",
     "text": [
      "Wall time: 6min 11s\n"
     ]
    }
   ],
   "source": [
    "%%time\n",
    "model_2 = RandomForestRegressor().fit(X_2,Y_2)\n",
    "\n"
   ]
  },
  {
   "cell_type": "code",
   "execution_count": 1284,
   "metadata": {},
   "outputs": [
    {
     "data": {
      "text/plain": [
       "array([131850., 131850., 131850., ...,  72989.,  72989.,  72989.])"
      ]
     },
     "execution_count": 1284,
     "metadata": {},
     "output_type": "execute_result"
    }
   ],
   "source": [
    "pred_2 = model_2.predict(X_2)\n",
    "pred_2"
   ]
  },
  {
   "cell_type": "code",
   "execution_count": null,
   "metadata": {},
   "outputs": [],
   "source": []
  },
  {
   "cell_type": "code",
   "execution_count": 512,
   "metadata": {},
   "outputs": [],
   "source": [
    "pred_2_test = model_2.predict(x_test_2)\n"
   ]
  },
  {
   "cell_type": "code",
   "execution_count": 335,
   "metadata": {},
   "outputs": [
    {
     "data": {
      "text/plain": [
       "(585699,)"
      ]
     },
     "execution_count": 335,
     "metadata": {},
     "output_type": "execute_result"
    }
   ],
   "source": [
    "pred_2_test.shape"
   ]
  },
  {
   "cell_type": "code",
   "execution_count": 139,
   "metadata": {},
   "outputs": [
    {
     "data": {
      "text/html": [
       "<div>\n",
       "<style scoped>\n",
       "    .dataframe tbody tr th:only-of-type {\n",
       "        vertical-align: middle;\n",
       "    }\n",
       "\n",
       "    .dataframe tbody tr th {\n",
       "        vertical-align: top;\n",
       "    }\n",
       "\n",
       "    .dataframe thead th {\n",
       "        text-align: right;\n",
       "    }\n",
       "</style>\n",
       "<table border=\"1\" class=\"dataframe\">\n",
       "  <thead>\n",
       "    <tr style=\"text-align: right;\">\n",
       "      <th></th>\n",
       "      <th>item_id</th>\n",
       "      <th>item_price</th>\n",
       "      <th>item_category_id</th>\n",
       "      <th>shop_id</th>\n",
       "    </tr>\n",
       "  </thead>\n",
       "  <tbody>\n",
       "    <tr>\n",
       "      <th>651498</th>\n",
       "      <td>11691</td>\n",
       "      <td>149.0</td>\n",
       "      <td>40</td>\n",
       "      <td>37</td>\n",
       "    </tr>\n",
       "    <tr>\n",
       "      <th>460637</th>\n",
       "      <td>4302</td>\n",
       "      <td>649.0</td>\n",
       "      <td>56</td>\n",
       "      <td>25</td>\n",
       "    </tr>\n",
       "    <tr>\n",
       "      <th>1696749</th>\n",
       "      <td>1306</td>\n",
       "      <td>299.0</td>\n",
       "      <td>55</td>\n",
       "      <td>47</td>\n",
       "    </tr>\n",
       "    <tr>\n",
       "      <th>1081839</th>\n",
       "      <td>11645</td>\n",
       "      <td>149.0</td>\n",
       "      <td>37</td>\n",
       "      <td>18</td>\n",
       "    </tr>\n",
       "    <tr>\n",
       "      <th>1865398</th>\n",
       "      <td>19050</td>\n",
       "      <td>549.0</td>\n",
       "      <td>55</td>\n",
       "      <td>21</td>\n",
       "    </tr>\n",
       "  </tbody>\n",
       "</table>\n",
       "</div>"
      ],
      "text/plain": [
       "         item_id  item_price  item_category_id  shop_id\n",
       "651498     11691       149.0                40       37\n",
       "460637      4302       649.0                56       25\n",
       "1696749     1306       299.0                55       47\n",
       "1081839    11645       149.0                37       18\n",
       "1865398    19050       549.0                55       21"
      ]
     },
     "execution_count": 139,
     "metadata": {},
     "output_type": "execute_result"
    }
   ],
   "source": [
    "x_test_2.head()"
   ]
  },
  {
   "cell_type": "markdown",
   "metadata": {},
   "source": [
    "## Metricas de mi modelo final"
   ]
  },
  {
   "cell_type": "code",
   "execution_count": 513,
   "metadata": {
    "scrolled": true
   },
   "outputs": [
    {
     "name": "stdout",
     "output_type": "stream",
     "text": [
      "MSE 1.873510966080804\n",
      "MAE 0.20281810087781935\n",
      "RMSE 1.3687625674604065\n",
      "R2 0.6528262692396808\n"
     ]
    }
   ],
   "source": [
    "print('MSE', metrics.mean_squared_error(y_train_2,pred_2))\n",
    "print('MAE', metrics.mean_absolute_error(y_train_2,pred_2))\n",
    "print('RMSE', np.sqrt(metrics.mean_squared_error(y_train_2,pred_2)))\n",
    "print('R2', model_2.score(x_train_2,y_train_2))"
   ]
  },
  {
   "cell_type": "code",
   "execution_count": 337,
   "metadata": {
    "scrolled": true
   },
   "outputs": [
    {
     "name": "stdout",
     "output_type": "stream",
     "text": [
      "MSE 3.0606721790743476\n",
      "MAE 0.2894702736857942\n",
      "RMSE 1.7494776875040012\n",
      "R2 0.25823251751039766\n",
      "Wall time: 1min 54s\n"
     ]
    }
   ],
   "source": [
    "%%time\n",
    "print('MSE', metrics.mean_squared_error(y_test_2,pred_2_test))\n",
    "print('MAE', metrics.mean_absolute_error(y_test_2,pred_2_test))\n",
    "print('RMSE', np.sqrt(metrics.mean_squared_error(y_test_2,pred_2_test)))\n",
    "print('R2', model_2.score(x_test_2,y_test_2))"
   ]
  },
  {
   "cell_type": "code",
   "execution_count": 472,
   "metadata": {},
   "outputs": [],
   "source": [
    "from xgboost import XGBRegressor"
   ]
  },
  {
   "cell_type": "code",
   "execution_count": null,
   "metadata": {},
   "outputs": [],
   "source": [
    "model_3 = XGBRegressor(\n",
    "    max_depth=8,\n",
    "    n_estimators=1000,\n",
    "    min_child_weight=300, \n",
    "    colsample_bytree=0.8, \n",
    "    subsample=0.8, \n",
    "    eta=0.3,    \n",
    "    seed=42)"
   ]
  },
  {
   "cell_type": "code",
   "execution_count": 1350,
   "metadata": {
    "scrolled": false
   },
   "outputs": [
    {
     "name": "stdout",
     "output_type": "stream",
     "text": [
      "[0]\tvalidation_0-rmse:2.23287\tvalidation_1-rmse:9.79016\n",
      "Multiple eval metrics have been passed: 'validation_1-rmse' will be used for early stopping.\n",
      "\n",
      "Will train until validation_1-rmse hasn't improved in 10 rounds.\n",
      "[1]\tvalidation_0-rmse:2.14696\tvalidation_1-rmse:9.78006\n",
      "[2]\tvalidation_0-rmse:2.09752\tvalidation_1-rmse:9.77318\n",
      "[3]\tvalidation_0-rmse:2.06083\tvalidation_1-rmse:9.77026\n",
      "[4]\tvalidation_0-rmse:2.02102\tvalidation_1-rmse:9.76840\n",
      "[5]\tvalidation_0-rmse:2.00710\tvalidation_1-rmse:9.76580\n",
      "[6]\tvalidation_0-rmse:1.99950\tvalidation_1-rmse:9.76489\n",
      "[7]\tvalidation_0-rmse:1.98622\tvalidation_1-rmse:9.76537\n",
      "[8]\tvalidation_0-rmse:1.97741\tvalidation_1-rmse:9.76499\n",
      "[9]\tvalidation_0-rmse:1.96612\tvalidation_1-rmse:9.76121\n",
      "[10]\tvalidation_0-rmse:1.94415\tvalidation_1-rmse:9.76119\n",
      "[11]\tvalidation_0-rmse:1.94142\tvalidation_1-rmse:9.76089\n",
      "[12]\tvalidation_0-rmse:1.93567\tvalidation_1-rmse:9.75500\n",
      "[13]\tvalidation_0-rmse:1.92073\tvalidation_1-rmse:9.75492\n",
      "[14]\tvalidation_0-rmse:1.91113\tvalidation_1-rmse:9.75470\n",
      "[15]\tvalidation_0-rmse:1.90967\tvalidation_1-rmse:9.75487\n",
      "[16]\tvalidation_0-rmse:1.90380\tvalidation_1-rmse:9.75529\n",
      "[17]\tvalidation_0-rmse:1.89143\tvalidation_1-rmse:9.75497\n",
      "[18]\tvalidation_0-rmse:1.88835\tvalidation_1-rmse:9.75519\n",
      "[19]\tvalidation_0-rmse:1.88517\tvalidation_1-rmse:9.75163\n",
      "[20]\tvalidation_0-rmse:1.87971\tvalidation_1-rmse:9.75160\n",
      "[21]\tvalidation_0-rmse:1.86870\tvalidation_1-rmse:9.75202\n",
      "[22]\tvalidation_0-rmse:1.86462\tvalidation_1-rmse:9.75199\n",
      "[23]\tvalidation_0-rmse:1.86322\tvalidation_1-rmse:9.75213\n",
      "[24]\tvalidation_0-rmse:1.84861\tvalidation_1-rmse:9.75218\n",
      "[25]\tvalidation_0-rmse:1.84646\tvalidation_1-rmse:9.75229\n",
      "[26]\tvalidation_0-rmse:1.84081\tvalidation_1-rmse:9.51598\n",
      "[27]\tvalidation_0-rmse:1.84039\tvalidation_1-rmse:9.51600\n",
      "[28]\tvalidation_0-rmse:1.83680\tvalidation_1-rmse:9.51564\n",
      "[29]\tvalidation_0-rmse:1.83205\tvalidation_1-rmse:9.51640\n",
      "[30]\tvalidation_0-rmse:1.82817\tvalidation_1-rmse:9.51641\n",
      "[31]\tvalidation_0-rmse:1.82685\tvalidation_1-rmse:9.51745\n",
      "[32]\tvalidation_0-rmse:1.82597\tvalidation_1-rmse:9.51755\n",
      "[33]\tvalidation_0-rmse:1.82058\tvalidation_1-rmse:9.51739\n",
      "[34]\tvalidation_0-rmse:1.81923\tvalidation_1-rmse:9.51734\n",
      "[35]\tvalidation_0-rmse:1.81642\tvalidation_1-rmse:9.51729\n",
      "[36]\tvalidation_0-rmse:1.81347\tvalidation_1-rmse:9.51722\n",
      "[37]\tvalidation_0-rmse:1.80836\tvalidation_1-rmse:9.51714\n",
      "[38]\tvalidation_0-rmse:1.80439\tvalidation_1-rmse:9.51712\n",
      "Stopping. Best iteration:\n",
      "[28]\tvalidation_0-rmse:1.83680\tvalidation_1-rmse:9.51564\n",
      "\n"
     ]
    },
    {
     "data": {
      "text/plain": [
       "XGBRegressor(base_score=0.5, booster='gbtree', colsample_bylevel=1,\n",
       "             colsample_bynode=1, colsample_bytree=1, gamma=0, gpu_id=-1,\n",
       "             importance_type='gain', interaction_constraints='',\n",
       "             learning_rate=0.300000012, max_delta_step=0, max_depth=6,\n",
       "             min_child_weight=1, missing=nan, monotone_constraints='()',\n",
       "             n_estimators=100, n_jobs=0, num_parallel_tree=1,\n",
       "             objective='reg:squarederror', random_state=0, reg_alpha=0,\n",
       "             reg_lambda=1, scale_pos_weight=1, subsample=1, tree_method='exact',\n",
       "             validate_parameters=1, verbosity=None)"
      ]
     },
     "execution_count": 1350,
     "metadata": {},
     "output_type": "execute_result"
    }
   ],
   "source": [
    "model_3 = XGBRegressor()\n",
    "\n",
    "model_3.fit(\n",
    "    x_train_2, \n",
    "    y_train_2, \n",
    "    eval_metric=\"rmse\", \n",
    "    eval_set=[(x_train_2, y_train_2), (x_test_2, y_test_2)], \n",
    "    verbose=True, \n",
    "    early_stopping_rounds = 10)"
   ]
  },
  {
   "cell_type": "code",
   "execution_count": 1367,
   "metadata": {},
   "outputs": [],
   "source": [
    "pred_3 = model_3.predict(x_train_2).clip(0,5)"
   ]
  },
  {
   "cell_type": "code",
   "execution_count": 1368,
   "metadata": {},
   "outputs": [
    {
     "name": "stdout",
     "output_type": "stream",
     "text": [
      "MSE 4.7188492009326435\n",
      "MAE 0.34253087725308595\n",
      "RMSE 0.5852613751590703\n",
      "R2 0.35237434092094855\n"
     ]
    }
   ],
   "source": [
    "print('MSE', metrics.mean_squared_error(y_train_2,pred_3))\n",
    "print('MAE', metrics.mean_absolute_error(y_train_2,pred_3))\n",
    "print('RMSE', np.sqrt(metrics.mean_absolute_error(y_train_2,pred_3)))\n",
    "print('R2', model_3.score(x_train_2,y_train_2))"
   ]
  },
  {
   "cell_type": "markdown",
   "metadata": {},
   "source": [
    "## Carga de base de datos a predecir"
   ]
  },
  {
   "cell_type": "code",
   "execution_count": 1333,
   "metadata": {
    "scrolled": true
   },
   "outputs": [],
   "source": [
    "test   = pd.read_csv(os.path.join(DATA_FOLDER, 'test.csv'))\n",
    "transactions_orig   = pd.read_csv(os.path.join(DATA_FOLDER, 'sales_train.csv'))"
   ]
  },
  {
   "cell_type": "code",
   "execution_count": 1334,
   "metadata": {
    "scrolled": false
   },
   "outputs": [],
   "source": [
    "test_1 = pd.merge(test, items, how='left', on='item_id')\n"
   ]
  },
  {
   "cell_type": "code",
   "execution_count": 1335,
   "metadata": {},
   "outputs": [],
   "source": [
    "transactions_orig = transactions_orig.groupby(['item_id','shop_id']).agg({'item_price':'min'})\n"
   ]
  },
  {
   "cell_type": "code",
   "execution_count": 1336,
   "metadata": {},
   "outputs": [],
   "source": [
    "test_2 = pd.merge(test_1, transactions_orig, how=\"left\", left_on=['item_id','shop_id'], right_on=['item_id','shop_id'])\n",
    "test_2.fillna(0, inplace=True)"
   ]
  },
  {
   "cell_type": "code",
   "execution_count": 1337,
   "metadata": {},
   "outputs": [
    {
     "data": {
      "text/html": [
       "<div>\n",
       "<style scoped>\n",
       "    .dataframe tbody tr th:only-of-type {\n",
       "        vertical-align: middle;\n",
       "    }\n",
       "\n",
       "    .dataframe tbody tr th {\n",
       "        vertical-align: top;\n",
       "    }\n",
       "\n",
       "    .dataframe thead th {\n",
       "        text-align: right;\n",
       "    }\n",
       "</style>\n",
       "<table border=\"1\" class=\"dataframe\">\n",
       "  <thead>\n",
       "    <tr style=\"text-align: right;\">\n",
       "      <th></th>\n",
       "      <th>date_block_num</th>\n",
       "      <th>shop_id</th>\n",
       "      <th>item_id</th>\n",
       "      <th>item_price</th>\n",
       "      <th>item_category_id</th>\n",
       "      <th>Ano</th>\n",
       "      <th>Mes_num</th>\n",
       "      <th>ganancias_mod</th>\n",
       "      <th>diferencia</th>\n",
       "    </tr>\n",
       "  </thead>\n",
       "  <tbody>\n",
       "    <tr>\n",
       "      <th>2875102</th>\n",
       "      <td>32</td>\n",
       "      <td>25</td>\n",
       "      <td>21022</td>\n",
       "      <td>1799.0</td>\n",
       "      <td>61</td>\n",
       "      <td>2015</td>\n",
       "      <td>6</td>\n",
       "      <td>9.318504e+07</td>\n",
       "      <td>6793.0</td>\n",
       "    </tr>\n",
       "    <tr>\n",
       "      <th>2875103</th>\n",
       "      <td>32</td>\n",
       "      <td>25</td>\n",
       "      <td>21105</td>\n",
       "      <td>1799.0</td>\n",
       "      <td>61</td>\n",
       "      <td>2015</td>\n",
       "      <td>5</td>\n",
       "      <td>9.318504e+07</td>\n",
       "      <td>6793.0</td>\n",
       "    </tr>\n",
       "    <tr>\n",
       "      <th>2875104</th>\n",
       "      <td>32</td>\n",
       "      <td>25</td>\n",
       "      <td>21088</td>\n",
       "      <td>1299.0</td>\n",
       "      <td>61</td>\n",
       "      <td>2015</td>\n",
       "      <td>2</td>\n",
       "      <td>9.318504e+07</td>\n",
       "      <td>6793.0</td>\n",
       "    </tr>\n",
       "    <tr>\n",
       "      <th>2875105</th>\n",
       "      <td>32</td>\n",
       "      <td>25</td>\n",
       "      <td>20990</td>\n",
       "      <td>1299.0</td>\n",
       "      <td>61</td>\n",
       "      <td>2015</td>\n",
       "      <td>1</td>\n",
       "      <td>9.318504e+07</td>\n",
       "      <td>6793.0</td>\n",
       "    </tr>\n",
       "    <tr>\n",
       "      <th>2875106</th>\n",
       "      <td>32</td>\n",
       "      <td>25</td>\n",
       "      <td>20303</td>\n",
       "      <td>399.0</td>\n",
       "      <td>40</td>\n",
       "      <td>2015</td>\n",
       "      <td>4</td>\n",
       "      <td>9.318504e+07</td>\n",
       "      <td>6793.0</td>\n",
       "    </tr>\n",
       "  </tbody>\n",
       "</table>\n",
       "</div>"
      ],
      "text/plain": [
       "         date_block_num  shop_id  item_id  item_price  item_category_id   Ano  \\\n",
       "2875102              32       25    21022      1799.0                61  2015   \n",
       "2875103              32       25    21105      1799.0                61  2015   \n",
       "2875104              32       25    21088      1299.0                61  2015   \n",
       "2875105              32       25    20990      1299.0                61  2015   \n",
       "2875106              32       25    20303       399.0                40  2015   \n",
       "\n",
       "         Mes_num  ganancias_mod  diferencia  \n",
       "2875102        6   9.318504e+07      6793.0  \n",
       "2875103        5   9.318504e+07      6793.0  \n",
       "2875104        2   9.318504e+07      6793.0  \n",
       "2875105        1   9.318504e+07      6793.0  \n",
       "2875106        4   9.318504e+07      6793.0  "
      ]
     },
     "execution_count": 1337,
     "metadata": {},
     "output_type": "execute_result"
    }
   ],
   "source": [
    "x_train_2.tail()"
   ]
  },
  {
   "cell_type": "code",
   "execution_count": 1351,
   "metadata": {
    "scrolled": false
   },
   "outputs": [
    {
     "name": "stderr",
     "output_type": "stream",
     "text": [
      "C:\\Users\\cristian.soto\\.conda\\envs\\Libranza\\lib\\site-packages\\ipykernel_launcher.py:3: SettingWithCopyWarning: \n",
      "A value is trying to be set on a copy of a slice from a DataFrame.\n",
      "Try using .loc[row_indexer,col_indexer] = value instead\n",
      "\n",
      "See the caveats in the documentation: http://pandas.pydata.org/pandas-docs/stable/user_guide/indexing.html#returning-a-view-versus-a-copy\n",
      "  This is separate from the ipykernel package so we can avoid doing imports until\n"
     ]
    },
    {
     "data": {
      "text/html": [
       "<div>\n",
       "<style scoped>\n",
       "    .dataframe tbody tr th:only-of-type {\n",
       "        vertical-align: middle;\n",
       "    }\n",
       "\n",
       "    .dataframe tbody tr th {\n",
       "        vertical-align: top;\n",
       "    }\n",
       "\n",
       "    .dataframe thead th {\n",
       "        text-align: right;\n",
       "    }\n",
       "</style>\n",
       "<table border=\"1\" class=\"dataframe\">\n",
       "  <thead>\n",
       "    <tr style=\"text-align: right;\">\n",
       "      <th></th>\n",
       "      <th>date_block_num</th>\n",
       "      <th>shop_id</th>\n",
       "      <th>item_id</th>\n",
       "      <th>item_price</th>\n",
       "      <th>item_category_id</th>\n",
       "      <th>Ano</th>\n",
       "      <th>Mes_num</th>\n",
       "      <th>ganancias_mod</th>\n",
       "      <th>diferencia</th>\n",
       "    </tr>\n",
       "  </thead>\n",
       "  <tbody>\n",
       "    <tr>\n",
       "      <th>0</th>\n",
       "      <td>34</td>\n",
       "      <td>5</td>\n",
       "      <td>5037</td>\n",
       "      <td>749.0</td>\n",
       "      <td>19</td>\n",
       "      <td>2013</td>\n",
       "      <td>11</td>\n",
       "      <td>84630164</td>\n",
       "      <td>-1805</td>\n",
       "    </tr>\n",
       "    <tr>\n",
       "      <th>1</th>\n",
       "      <td>34</td>\n",
       "      <td>5</td>\n",
       "      <td>5320</td>\n",
       "      <td>0.0</td>\n",
       "      <td>55</td>\n",
       "      <td>2013</td>\n",
       "      <td>11</td>\n",
       "      <td>84630164</td>\n",
       "      <td>-1805</td>\n",
       "    </tr>\n",
       "    <tr>\n",
       "      <th>2</th>\n",
       "      <td>34</td>\n",
       "      <td>5</td>\n",
       "      <td>5233</td>\n",
       "      <td>599.0</td>\n",
       "      <td>19</td>\n",
       "      <td>2013</td>\n",
       "      <td>11</td>\n",
       "      <td>84630164</td>\n",
       "      <td>-1805</td>\n",
       "    </tr>\n",
       "    <tr>\n",
       "      <th>3</th>\n",
       "      <td>34</td>\n",
       "      <td>5</td>\n",
       "      <td>5232</td>\n",
       "      <td>599.0</td>\n",
       "      <td>23</td>\n",
       "      <td>2013</td>\n",
       "      <td>11</td>\n",
       "      <td>84630164</td>\n",
       "      <td>-1805</td>\n",
       "    </tr>\n",
       "    <tr>\n",
       "      <th>4</th>\n",
       "      <td>34</td>\n",
       "      <td>5</td>\n",
       "      <td>5268</td>\n",
       "      <td>0.0</td>\n",
       "      <td>20</td>\n",
       "      <td>2013</td>\n",
       "      <td>11</td>\n",
       "      <td>84630164</td>\n",
       "      <td>-1805</td>\n",
       "    </tr>\n",
       "  </tbody>\n",
       "</table>\n",
       "</div>"
      ],
      "text/plain": [
       "   date_block_num  shop_id  item_id  item_price  item_category_id   Ano  \\\n",
       "0              34        5     5037       749.0                19  2013   \n",
       "1              34        5     5320         0.0                55  2013   \n",
       "2              34        5     5233       599.0                19  2013   \n",
       "3              34        5     5232       599.0                23  2013   \n",
       "4              34        5     5268         0.0                20  2013   \n",
       "\n",
       "   Mes_num  ganancias_mod  diferencia  \n",
       "0       11       84630164       -1805  \n",
       "1       11       84630164       -1805  \n",
       "2       11       84630164       -1805  \n",
       "3       11       84630164       -1805  \n",
       "4       11       84630164       -1805  "
      ]
     },
     "execution_count": 1351,
     "metadata": {},
     "output_type": "execute_result"
    }
   ],
   "source": [
    "test_final = test_2[['item_id','item_price','item_category_id','shop_id']]\n",
    "#test_final['item_price']=round(test_final['item_price'])\n",
    "test_final['date_block_num']= 34\n",
    "test_final['Mes_num'] = 11\n",
    "test_final['Ano'] = 2013\n",
    "test_final['diferencia'] = -1805\n",
    "test_final['ganancias_mod'] = 84630164\n",
    "\n",
    "test_final= test_final[['date_block_num','shop_id','item_id','item_price','item_category_id','Ano','Mes_num','ganancias_mod','diferencia']]\n",
    "test_final.head()"
   ]
  },
  {
   "cell_type": "code",
   "execution_count": 1359,
   "metadata": {
    "scrolled": false
   },
   "outputs": [
    {
     "name": "stdout",
     "output_type": "stream",
     "text": [
      "Wall time: 136 ms\n"
     ]
    }
   ],
   "source": [
    "%%time\n",
    "pred_final = model_3.predict(test_final).clip(0,5)"
   ]
  },
  {
   "cell_type": "code",
   "execution_count": 1360,
   "metadata": {},
   "outputs": [
    {
     "data": {
      "text/plain": [
       "array([1.107591  , 0.8825331 , 1.107591  , ..., 0.99604744, 1.2447588 ,\n",
       "       1.074224  ], dtype=float32)"
      ]
     },
     "execution_count": 1360,
     "metadata": {},
     "output_type": "execute_result"
    }
   ],
   "source": [
    "pred_final"
   ]
  },
  {
   "cell_type": "code",
   "execution_count": 1361,
   "metadata": {},
   "outputs": [],
   "source": [
    "import math"
   ]
  },
  {
   "cell_type": "code",
   "execution_count": 1362,
   "metadata": {
    "scrolled": true
   },
   "outputs": [],
   "source": [
    "pred_final = pd.DataFrame(pred_final).rename(columns={0:'item_cnt_month'})\n"
   ]
  },
  {
   "cell_type": "code",
   "execution_count": 1363,
   "metadata": {},
   "outputs": [],
   "source": [
    "pred_final['item_cnt_month'] = pred_final['item_cnt_month'].apply(lambda x: math.floor(x))"
   ]
  },
  {
   "cell_type": "code",
   "execution_count": 1364,
   "metadata": {
    "scrolled": true
   },
   "outputs": [],
   "source": [
    "pred_final=pred_final.reset_index().rename(columns={'index':'ID'})"
   ]
  },
  {
   "cell_type": "code",
   "execution_count": 1370,
   "metadata": {
    "scrolled": true
   },
   "outputs": [],
   "source": [
    "Prediccion_Final= pd.merge(test_final, pred_final,left_index=True, right_index=True)\n"
   ]
  },
  {
   "cell_type": "code",
   "execution_count": 1326,
   "metadata": {
    "scrolled": true
   },
   "outputs": [],
   "source": [
    "Prediccion_Final = Prediccion_Final[['ID','item_cnt_month']]\n"
   ]
  },
  {
   "cell_type": "code",
   "execution_count": 1268,
   "metadata": {},
   "outputs": [],
   "source": [
    "pred_final.to_csv('mi_prediccion.csv', index=False)\n"
   ]
  },
  {
   "cell_type": "code",
   "execution_count": null,
   "metadata": {},
   "outputs": [],
   "source": []
  }
 ],
 "metadata": {
  "hw_version": "1.0.0",
  "kernelspec": {
   "display_name": "Python 3",
   "language": "python",
   "name": "python3"
  },
  "language_info": {
   "codemirror_mode": {
    "name": "ipython",
    "version": 3
   },
   "file_extension": ".py",
   "mimetype": "text/x-python",
   "name": "python",
   "nbconvert_exporter": "python",
   "pygments_lexer": "ipython3",
   "version": "3.6.10"
  }
 },
 "nbformat": 4,
 "nbformat_minor": 2
}
