{
 "cells": [
  {
   "cell_type": "code",
   "execution_count": 25,
   "metadata": {},
   "outputs": [],
   "source": [
    "# import library\n",
    "import matplotlib.pyplot as plt\n",
    "import numpy as np\n",
    "import scipy.optimize as opt\n",
    "import sklearn.linear_model\n",
    "import sklearn.model_selection\n",
    "import pandas as pd\n",
    "import seaborn as sns"
   ]
  },
  {
   "cell_type": "code",
   "execution_count": 26,
   "metadata": {
    "tags": []
   },
   "outputs": [
    {
     "output_type": "stream",
     "name": "stdout",
     "text": "Wine quality : There are 5699 rows and 15 columns\n"
    }
   ],
   "source": [
    "# \n",
    "pd_data = pd.read_csv(\"Extra/metacritic_games.csv\", parse_dates=['release_date'])\n",
    "nRow, nCol = pd_data.shape\n",
    "print(f'Wine quality : There are {nRow} rows and {nCol} columns')"
   ]
  },
  {
   "cell_type": "code",
   "execution_count": 27,
   "metadata": {},
   "outputs": [
    {
     "output_type": "execute_result",
     "data": {
      "text/plain": "                                      game platform              developer  \\\n0                                 Portal 2       PC         Valve Software   \n1              The Elder Scrolls V: Skyrim       PC  Bethesda Game Studios   \n2  The Legend of Zelda: Ocarina of Time 3D      3DS                 GREZZO   \n3                      Batman: Arkham City       PC     Rocksteady Studios   \n4                      Super Mario 3D Land      3DS               Nintendo   \n\n              genre         number_players rating release_date  \\\n0            Action                    NaN   E10+   2011-04-18   \n1      Role-Playing  No Online Multiplayer      M   2011-11-10   \n2     Miscellaneous  No Online Multiplayer   E10+   2011-06-19   \n3  Action Adventure                    NaN      T   2011-11-21   \n4            Action  No Online Multiplayer      E   2011-11-13   \n\n   positive_critics  neutral_critics  negative_critics  positive_users  \\\n0                51                1                 0            1700   \n1                32                0                 0            1616   \n2                84                1                 0             283   \n3                27                0                 0             240   \n4                81                1                 0             251   \n\n   neutral_users  negative_users  metascore  user_score  \n0            107              19         95          90  \n1            322             451         94          82  \n2             20               5         94          90  \n3             34              27         91          87  \n4             39              11         90          84  ",
      "text/html": "<div>\n<style scoped>\n    .dataframe tbody tr th:only-of-type {\n        vertical-align: middle;\n    }\n\n    .dataframe tbody tr th {\n        vertical-align: top;\n    }\n\n    .dataframe thead th {\n        text-align: right;\n    }\n</style>\n<table border=\"1\" class=\"dataframe\">\n  <thead>\n    <tr style=\"text-align: right;\">\n      <th></th>\n      <th>game</th>\n      <th>platform</th>\n      <th>developer</th>\n      <th>genre</th>\n      <th>number_players</th>\n      <th>rating</th>\n      <th>release_date</th>\n      <th>positive_critics</th>\n      <th>neutral_critics</th>\n      <th>negative_critics</th>\n      <th>positive_users</th>\n      <th>neutral_users</th>\n      <th>negative_users</th>\n      <th>metascore</th>\n      <th>user_score</th>\n    </tr>\n  </thead>\n  <tbody>\n    <tr>\n      <th>0</th>\n      <td>Portal 2</td>\n      <td>PC</td>\n      <td>Valve Software</td>\n      <td>Action</td>\n      <td>NaN</td>\n      <td>E10+</td>\n      <td>2011-04-18</td>\n      <td>51</td>\n      <td>1</td>\n      <td>0</td>\n      <td>1700</td>\n      <td>107</td>\n      <td>19</td>\n      <td>95</td>\n      <td>90</td>\n    </tr>\n    <tr>\n      <th>1</th>\n      <td>The Elder Scrolls V: Skyrim</td>\n      <td>PC</td>\n      <td>Bethesda Game Studios</td>\n      <td>Role-Playing</td>\n      <td>No Online Multiplayer</td>\n      <td>M</td>\n      <td>2011-11-10</td>\n      <td>32</td>\n      <td>0</td>\n      <td>0</td>\n      <td>1616</td>\n      <td>322</td>\n      <td>451</td>\n      <td>94</td>\n      <td>82</td>\n    </tr>\n    <tr>\n      <th>2</th>\n      <td>The Legend of Zelda: Ocarina of Time 3D</td>\n      <td>3DS</td>\n      <td>GREZZO</td>\n      <td>Miscellaneous</td>\n      <td>No Online Multiplayer</td>\n      <td>E10+</td>\n      <td>2011-06-19</td>\n      <td>84</td>\n      <td>1</td>\n      <td>0</td>\n      <td>283</td>\n      <td>20</td>\n      <td>5</td>\n      <td>94</td>\n      <td>90</td>\n    </tr>\n    <tr>\n      <th>3</th>\n      <td>Batman: Arkham City</td>\n      <td>PC</td>\n      <td>Rocksteady Studios</td>\n      <td>Action Adventure</td>\n      <td>NaN</td>\n      <td>T</td>\n      <td>2011-11-21</td>\n      <td>27</td>\n      <td>0</td>\n      <td>0</td>\n      <td>240</td>\n      <td>34</td>\n      <td>27</td>\n      <td>91</td>\n      <td>87</td>\n    </tr>\n    <tr>\n      <th>4</th>\n      <td>Super Mario 3D Land</td>\n      <td>3DS</td>\n      <td>Nintendo</td>\n      <td>Action</td>\n      <td>No Online Multiplayer</td>\n      <td>E</td>\n      <td>2011-11-13</td>\n      <td>81</td>\n      <td>1</td>\n      <td>0</td>\n      <td>251</td>\n      <td>39</td>\n      <td>11</td>\n      <td>90</td>\n      <td>84</td>\n    </tr>\n  </tbody>\n</table>\n</div>"
     },
     "metadata": {},
     "execution_count": 27
    }
   ],
   "source": [
    "pd_data.head(5)"
   ]
  },
  {
   "cell_type": "code",
   "execution_count": 28,
   "metadata": {},
   "outputs": [
    {
     "output_type": "execute_result",
     "data": {
      "text/plain": "game                        object\nplatform                    object\ndeveloper                   object\ngenre                       object\nnumber_players              object\nrating                      object\nrelease_date        datetime64[ns]\npositive_critics             int64\nneutral_critics              int64\nnegative_critics             int64\npositive_users               int64\nneutral_users                int64\nnegative_users               int64\nmetascore                    int64\nuser_score                   int64\ndtype: object"
     },
     "metadata": {},
     "execution_count": 28
    }
   ],
   "source": [
    "pd_data.dtypes"
   ]
  },
  {
   "cell_type": "code",
   "execution_count": 29,
   "metadata": {},
   "outputs": [],
   "source": [
    "pd_data = pd_data[pd_data[\"rating\"].notnull()]"
   ]
  },
  {
   "cell_type": "code",
   "execution_count": 30,
   "metadata": {},
   "outputs": [
    {
     "output_type": "execute_result",
     "data": {
      "text/plain": "(4433, 15)"
     },
     "metadata": {},
     "execution_count": 30
    }
   ],
   "source": [
    "pd_data.shape"
   ]
  },
  {
   "cell_type": "code",
   "execution_count": 31,
   "metadata": {},
   "outputs": [],
   "source": [
    "pd_data[\"all_ctitics\"] = pd_data[\"positive_critics\"] + pd_data[\"neutral_critics\"] + pd_data[\"negative_critics\"]"
   ]
  },
  {
   "cell_type": "code",
   "execution_count": 32,
   "metadata": {},
   "outputs": [],
   "source": [
    "pd_data = pd_data[pd_data[\"all_ctitics\"] >20]"
   ]
  },
  {
   "cell_type": "code",
   "execution_count": 33,
   "metadata": {},
   "outputs": [
    {
     "output_type": "execute_result",
     "data": {
      "text/plain": "(1826, 16)"
     },
     "metadata": {},
     "execution_count": 33
    }
   ],
   "source": [
    "pd_data.shape"
   ]
  },
  {
   "cell_type": "code",
   "execution_count": 34,
   "metadata": {},
   "outputs": [],
   "source": [
    "Elder_scrolls = pd_data[pd_data[\"game\"].str.contains(\"The Elder Scrolls\")]"
   ]
  },
  {
   "cell_type": "code",
   "execution_count": 35,
   "metadata": {},
   "outputs": [
    {
     "output_type": "execute_result",
     "data": {
      "text/plain": "(8, 16)"
     },
     "metadata": {},
     "execution_count": 35
    }
   ],
   "source": [
    "Elder_scrolls.shape #8 games"
   ]
  },
  {
   "cell_type": "code",
   "execution_count": 44,
   "metadata": {},
   "outputs": [],
   "source": [
    "pd_date = pd_data.groupby(pd_data[\"release_date\"].dt.year)[\"negative_critics\"].count()"
   ]
  },
  {
   "cell_type": "code",
   "execution_count": 45,
   "metadata": {},
   "outputs": [
    {
     "output_type": "execute_result",
     "data": {
      "text/plain": "release_date\n2011    106\n2012    148\n2013    146\n2014    229\n2015    274\n2016    287\n2017    303\n2018    281\n2019     52\nName: negative_critics, dtype: int64"
     },
     "metadata": {},
     "execution_count": 45
    }
   ],
   "source": [
    "pd_date #303"
   ]
  },
  {
   "cell_type": "code",
   "execution_count": 47,
   "metadata": {},
   "outputs": [],
   "source": [
    "pd_genre = pd_data.groupby(pd_data[\"genre\"])[\"genre\"].count()"
   ]
  },
  {
   "cell_type": "code",
   "execution_count": 48,
   "metadata": {},
   "outputs": [
    {
     "output_type": "execute_result",
     "data": {
      "text/plain": "genre\n2D                                2\nAction                          537\nAction Adventure                271\nAction RPG                       19\nAdventure                        68\nArcade                            4\nBreeding/Constructing             1\nCard Battle                       1\nCity Building                     1\nConsole-style RPG                 2\nDriving                          28\nEdutainment                       1\nFantasy                          33\nFighting                          1\nFirst-Person                      6\nGT / Street                       3\nGeneral                          77\nHistoric                          8\nHorror                           16\nJapanese-Style                    2\nMassively Multiplayer Online      2\nMiscellaneous                    98\nModern                           23\nMusic                             1\nOther                             1\nPC-style RPG                      3\nParty                             2\nPlatformer                       12\nPuzzle                           20\nRacing                           53\nRole-Playing                    244\nSci-Fi                           29\nScrolling                         1\nShooter                          17\nSim                               2\nSimulation                       32\nSports                           90\nStrategy                        106\nThird-Person                      2\nTraditional                       4\nTycoon                            2\nVirtual Life                      1\nName: genre, dtype: int64"
     },
     "metadata": {},
     "execution_count": 48
    }
   ],
   "source": [
    "pd_genre"
   ]
  },
  {
   "cell_type": "code",
   "execution_count": null,
   "metadata": {},
   "outputs": [],
   "source": []
  }
 ],
 "metadata": {
  "language_info": {
   "codemirror_mode": {
    "name": "ipython",
    "version": 3
   },
   "file_extension": ".py",
   "mimetype": "text/x-python",
   "name": "python",
   "nbconvert_exporter": "python",
   "pygments_lexer": "ipython3",
   "version": "3.6.6-final"
  },
  "orig_nbformat": 2,
  "kernelspec": {
   "name": "python36664bitalexlvirtualenvb9f0b0a3af2a4e06a89ee778b9503914",
   "display_name": "Python 3.6.6 64-bit ('alexl': virtualenv)"
  }
 },
 "nbformat": 4,
 "nbformat_minor": 2
}