{
 "cells": [
  {
   "cell_type": "code",
   "execution_count": null,
   "metadata": {},
   "outputs": [],
   "source": [
    "3.1. Print 5 nodes with maximum degree centrality, vizualize your graph with color or size as the function of degree <br>\\n\",\n",
    "    \"3.2. Print 5 nodes with maximum betweenness centrality, vizualize your graph with color or size as the function of degree <br>\\n\",\n",
    "    \"3.3. Print 5 nodes with maximum eigenvector centrality, vizualize your graph with color or size as the function of degree <br>\\n\",\n",
    "    \"3.4 Print histogram with centralities distribution of your graph"
   ]
  },
  {
   "cell_type": "code",
   "execution_count": null,
   "metadata": {},
   "outputs": [],
   "source": [
    "import urllib\n",
    "import networkx as nx\n",
    "import matplotlib.pyplot as plt\n",
    "import numpy as np\n",
    "%matplotlib inline\n",
    "\n",
    "url = \"https://dl.dropboxusercontent.com/s/8eo1sjfhu5spb0f/vk.tsv?dl=1\"\n",
    "with urllib.request.urlopen(url) as f:\n",
    "    data = f.read().decode('utf-8')\n",
    "with open('vk.adjlist', 'w') as f:\n",
    "    f.write(data) \n",
    "    \n",
    "G = nx.read_adjlist('vk.adjlist')\n",
    "coord = nx.spring_layout(G, k = 0.15)"
   ]
  },
  {
   "cell_type": "code",
   "execution_count": null,
   "metadata": {},
   "outputs": [],
   "source": [
    "k = dict (G.degree ())\n",
    "k2 = {key: value for key, value in k.items() if value > 15 and value < 250}\n",
    "G = G.subgraph(list(k2.keys()))"
   ]
  },
  {
   "cell_type": "code",
   "execution_count": null,
   "metadata": {},
   "outputs": [],
   "source": [
    "# take only giant connected component for the further analysis: \n",
    "Gc = max(nx.connected_component_subgraphs(G), key=len)\n",
    "print(\"Number of nodes -\", len(Gc.nodes()))\n",
    "print(\"Number of edges -\", len(Gc.edges()))"
   ]
  },
  {
   "cell_type": "code",
   "execution_count": null,
   "metadata": {},
   "outputs": [],
   "source": [
    "plt.figure(figsize=(20,14))\n",
    "degree_centr = nx.degree_centrality(Gc)\n",
    "node_colors = list(degree_centr.values())\n",
    "\n",
    "nodes = nx.draw_networkx_nodes(Gc, pos = coord, \n",
    "                               node_color=node_colors,\n",
    "                               node_size = 550,\n",
    "                               nodelist=list(degree_centr.keys()),\n",
    "                               cmap = 'jet',\n",
    "                               with_labels = False)\n",
    "edges = nx.draw_networkx_edges(Gc, pos = coord, width = .2)\n",
    "plt.xlim([-.95, .9])\n",
    "plt.ylim([-.5, .6])\n",
    "plt.colorbar(nodes, shrink=.4, pad=.0005, aspect=20)\n",
    "plt.title('Degree centrality', fontsize = 16)\n",
    "plt.axis(\"off\")\n",
    "\n",
    "top_nodes = sorted(degree_centr, key = degree_centr.get)[-3:]"
   ]
  },
  {
   "cell_type": "code",
   "execution_count": null,
   "metadata": {},
   "outputs": [],
   "source": []
  },
  {
   "cell_type": "code",
   "execution_count": null,
   "metadata": {},
   "outputs": [],
   "source": []
  }
 ],
 "metadata": {
  "kernelspec": {
   "display_name": "Python 3",
   "language": "python",
   "name": "python3"
  },
  "language_info": {
   "codemirror_mode": {
    "name": "ipython",
    "version": 3
   },
   "file_extension": ".py",
   "mimetype": "text/x-python",
   "name": "python",
   "nbconvert_exporter": "python",
   "pygments_lexer": "ipython3",
   "version": "3.7.3"
  }
 },
 "nbformat": 4,
 "nbformat_minor": 2
}
