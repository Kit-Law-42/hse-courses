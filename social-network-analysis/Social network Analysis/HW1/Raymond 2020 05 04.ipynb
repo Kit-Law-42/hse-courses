{
 "cells": [
  {
   "cell_type": "code",
   "execution_count": 2,
   "metadata": {},
   "outputs": [],
   "source": [
    "import requests\n",
    "import urllib\n",
    "from itertools import combinations\n",
    "import time\n",
    "import numpy as np\n",
    "import pandas as pd\n",
    "import scipy as sp\n",
    "from scipy import spatial\n",
    "import networkx as nx\n",
    "from pymongo import MongoClient\n",
    "import random\n",
    "from tqdm.notebook import tqdm\n",
    "# import igraph\n",
    "# from community import best_partition  #modularity, \n",
    "import matplotlib.pyplot as plt\n",
    "import seaborn as sns\n",
    "\n",
    "plt.style.use('ggplot')\n",
    "%matplotlib inline"
   ]
  },
  {
   "cell_type": "code",
   "execution_count": 3,
   "metadata": {},
   "outputs": [],
   "source": [
    "url = \"https://dl.dropboxusercontent.com/s/8eo1sjfhu5spb0f/vk.tsv?dl=1\"\n",
    "with urllib.request.urlopen(url) as f:\n",
    "    data = f.read().decode('utf-8')\n",
    "with open('vk_2.tsv', 'w') as f:\n",
    "    f.write(data) \n",
    "\n"
   ]
  },
  {
   "cell_type": "code",
   "execution_count": 8,
   "metadata": {},
   "outputs": [
    {
     "name": "stdout",
     "output_type": "stream",
     "text": [
      "['0', 'VK_4766099', 'VK_97803804', 'Никита Кузнецов\\n']\n"
     ]
    }
   ],
   "source": [
    "G_small = nx.Graph()\n",
    "with open (\"vk_2.tsv\", 'r') as fp:\n",
    "    line = fp.readline()\n",
    "    while(line):\n",
    "        line = fp.readline().split('\\t')\n",
    "        print(line)\n",
    "        break"
   ]
  },
  {
   "cell_type": "markdown",
   "metadata": {},
   "source": [
    "load the graph by reading the file line by line"
   ]
  },
  {
   "cell_type": "code",
   "execution_count": null,
   "metadata": {},
   "outputs": [],
   "source": [
    "G_small = nx.Graph()\n",
    "with open (\"vk_2.tsv\", 'r') as fp:\n",
    "    line = fp.readline()\n",
    "    while(line):\n",
    "        line = fp.readline().split('\\t')\n",
    "        try:\n",
    "            if line[2] not in G_small.nodes():\n",
    "                G_small.add_node(line[2], attr_dict = {'Name':line[3]})\n",
    "        except:\n",
    "            pass\n",
    "with open (\"vk_2.tsv\", 'r') as fp:\n",
    "    line = fp.readline()\n",
    "    while(line):\n",
    "        line = fp.readline().split('\\t')\n",
    "        try:\n",
    "            if line[1] in G_small.nodes():\n",
    "                if (line[2], line[1]) not in G_small.edges() and (line[1], line[2]) not in G_small.edges():\n",
    "                    G_small.add_edge(line[2], line[1])   \n",
    "        except:\n",
    "            pass"
   ]
  },
  {
   "cell_type": "code",
   "execution_count": null,
   "metadata": {},
   "outputs": [],
   "source": [
    "print('Number of vertices:', G.number_of_nodes())\n",
    "print('Number of edges:', G.number_of_edges())\n",
    "print('Number of connected components', nx.number_connected_components(G))\n",
    "\n",
    "degrees_dictionary = dict(G.degree())\n",
    "degrees = np.array(list(dict(G.degree()).values()))\n",
    "\n",
    "# show node degrees\n",
    "plt.xlabel('Degree')\n",
    "plt.ylabel('Number')\n",
    "plt.hist(degrees, 100)\n",
    "plt.show()"
   ]
  },
  {
   "cell_type": "markdown",
   "metadata": {},
   "source": [
    "alternative way to load the graph using pandas"
   ]
  },
  {
   "cell_type": "code",
   "execution_count": null,
   "metadata": {},
   "outputs": [],
   "source": [
    "df_2795 = pd.read_csv(\"vk_2.tsv\", '\\t')\n"
   ]
  },
  {
   "cell_type": "code",
   "execution_count": null,
   "metadata": {},
   "outputs": [],
   "source": [
    "G_small = nx.Graph()\n",
    "count = 0\n",
    "\n",
    "node_set = set()\n",
    "pbar = tqdm(total=len(df_2795), desc='nodes')\n",
    "for index, row in df_2795.iterrows():\n",
    "    if row[\"ID\"] not in G_small.nodes():\n",
    "        G_small.add_node(row[\"ID\"], attr_dict = {'Name':row[\"Name\"]})\n",
    "    pbar.update(1)\n",
    "pbar = tqdm(total=len(df_2795), desc='edges')\n",
    "for index, row in df_2795.iterrows():\n",
    "    if (row[\"ID\"], row[\"Friends\"]) not in G_small.edges() and (row[\"Friends\"], row[\"ID\"]) not in G_small.edges():\n",
    "        G_small.add_edge(row[\"ID\"], row[\"Friends\"])    \n",
    "    pbar.update(1)"
   ]
  },
  {
   "cell_type": "markdown",
   "metadata": {},
   "source": [
    "save existing subgraph to adjlist"
   ]
  },
  {
   "cell_type": "code",
   "execution_count": null,
   "metadata": {},
   "outputs": [],
   "source": [
    "#fh=open(\"vk_2.adjlist\",'wb')\n",
    "#nx.write_adjlist(G_small, fh)"
   ]
  }
 ],
 "metadata": {
  "kernelspec": {
   "display_name": "Python 3",
   "language": "python",
   "name": "python3"
  },
  "language_info": {
   "codemirror_mode": {
    "name": "ipython",
    "version": 3
   },
   "file_extension": ".py",
   "mimetype": "text/x-python",
   "name": "python",
   "nbconvert_exporter": "python",
   "pygments_lexer": "ipython3",
   "version": "3.7.3"
  }
 },
 "nbformat": 4,
 "nbformat_minor": 2
}
