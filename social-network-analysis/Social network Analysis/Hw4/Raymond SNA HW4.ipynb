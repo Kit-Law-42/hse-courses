{
 "cells": [
  {
   "cell_type": "markdown",
   "metadata": {},
   "source": [
    "# <center>Network Science</center>"
   ]
  },
  {
   "cell_type": "markdown",
   "metadata": {},
   "source": [
    "Home Assignment #4: Network Embeddings"
   ]
  },
  {
   "cell_type": "markdown",
   "metadata": {},
   "source": [
    "#### <hr /> General Information"
   ]
  },
  {
   "cell_type": "markdown",
   "metadata": {},
   "source": [
    "**Due Date:** 15.06.2020 21:00 <br>\n",
    "**Late submission policy: No late submission!** <br>\n",
    "\n",
    "\n",
    "Please send your reports to <iakarpov@hse.ru> with message subject of the following structure: <br>\n",
    "**[HSE SNA Magolego 2020] *{LastName}* *{First Name}* HW_4*\n",
    "\n",
    "Support your computations with figures and comments. <br>\n",
    "If you are using IPython Notebook you may use this file as a starting point of your report."
   ]
  },
  {
   "cell_type": "markdown",
   "metadata": {},
   "source": [
    "## Problems"
   ]
  },
  {
   "cell_type": "markdown",
   "metadata": {},
   "source": [
    "### Task 1. Generating N2V Embedding\n",
    "Use any existing network from our [classes](https://dl.dropboxusercontent.com/s/8eo1sjfhu5spb0f/vk.tsv?dl=1) or your couse project. <br>\n",
    "Use `cores` method if your initial network is too big. <br>"
   ]
  },
  {
   "cell_type": "code",
   "execution_count": 20,
   "metadata": {},
   "outputs": [],
   "source": [
    "import scipy.sparse as sp\n",
    "import pandas as pd\n",
    "import urllib\n",
    "import networkx as nx\n",
    "import matplotlib.pyplot as plt\n",
    "import numpy as np\n",
    "%matplotlib inline\n",
    "from sklearn.metrics import roc_auc_score\n",
    "from sklearn.metrics import average_precision_score\n",
    "\n",
    "import warnings; warnings.simplefilter('ignore')\n",
    "g = nx.read_adjlist('VK.data')"
   ]
  },
  {
   "cell_type": "code",
   "execution_count": 21,
   "metadata": {},
   "outputs": [
    {
     "name": "stdout",
     "output_type": "stream",
     "text": [
      "338\n",
      "2113\n"
     ]
    }
   ],
   "source": [
    "core_subgraph = nx.k_core(g, k=20) #k - core level\n",
    "print(core_subgraph.number_of_nodes())\n",
    "print(g.number_of_nodes())\n",
    "G = core_subgraph"
   ]
  },
  {
   "cell_type": "code",
   "execution_count": 22,
   "metadata": {},
   "outputs": [
    {
     "name": "stdout",
     "output_type": "stream",
     "text": [
      "2053\n"
     ]
    },
    {
     "data": {
      "text/html": [
       "<div>\n",
       "<style scoped>\n",
       "    .dataframe tbody tr th:only-of-type {\n",
       "        vertical-align: middle;\n",
       "    }\n",
       "\n",
       "    .dataframe tbody tr th {\n",
       "        vertical-align: top;\n",
       "    }\n",
       "\n",
       "    .dataframe thead th {\n",
       "        text-align: right;\n",
       "    }\n",
       "</style>\n",
       "<table border=\"1\" class=\"dataframe\">\n",
       "  <thead>\n",
       "    <tr style=\"text-align: right;\">\n",
       "      <th></th>\n",
       "      <th>ID</th>\n",
       "      <th>neighbourID</th>\n",
       "      <th>edge_weight</th>\n",
       "    </tr>\n",
       "  </thead>\n",
       "  <tbody>\n",
       "    <tr>\n",
       "      <th>862</th>\n",
       "      <td>VK_33071282</td>\n",
       "      <td>VK_19846711</td>\n",
       "      <td>VK_36455975</td>\n",
       "    </tr>\n",
       "    <tr>\n",
       "      <th>1308</th>\n",
       "      <td>VK_96120811</td>\n",
       "      <td>VK_14666092</td>\n",
       "      <td>VK_21716878</td>\n",
       "    </tr>\n",
       "    <tr>\n",
       "      <th>1237</th>\n",
       "      <td>VK_17905974</td>\n",
       "      <td>VK_31150912</td>\n",
       "      <td>VK_110248399</td>\n",
       "    </tr>\n",
       "    <tr>\n",
       "      <th>1627</th>\n",
       "      <td>VK_377960025</td>\n",
       "      <td>VK_380906462</td>\n",
       "      <td>VK_400978758</td>\n",
       "    </tr>\n",
       "    <tr>\n",
       "      <th>1218</th>\n",
       "      <td>VK_16500601</td>\n",
       "      <td>VK_20290087</td>\n",
       "      <td>VK_308917697</td>\n",
       "    </tr>\n",
       "  </tbody>\n",
       "</table>\n",
       "</div>"
      ],
      "text/plain": [
       "                ID   neighbourID   edge_weight\n",
       "862    VK_33071282   VK_19846711   VK_36455975\n",
       "1308   VK_96120811   VK_14666092   VK_21716878\n",
       "1237   VK_17905974   VK_31150912  VK_110248399\n",
       "1627  VK_377960025  VK_380906462  VK_400978758\n",
       "1218   VK_16500601   VK_20290087  VK_308917697"
      ]
     },
     "execution_count": 22,
     "metadata": {},
     "output_type": "execute_result"
    }
   ],
   "source": [
    "file_path = \"VK.data\"\n",
    "df = pd.read_csv(file_path, header=None, decimal=\",\", delimiter=\" \", names=['ID', 'neighbourID', 'edge_weight'])[1:]\n",
    "print(len(df))\n",
    "df.sample(5)"
   ]
  },
  {
   "cell_type": "code",
   "execution_count": 23,
   "metadata": {},
   "outputs": [],
   "source": [
    "import node2vec\n",
    "from node2vec import Node2Vec\n",
    "from gensim.models import Word2Vec"
   ]
  },
  {
   "cell_type": "code",
   "execution_count": 24,
   "metadata": {},
   "outputs": [
    {
     "name": "stdout",
     "output_type": "stream",
     "text": [
      "Graph is created!!\n",
      "Number of nodes: 2,113\n",
      "Number of edges: 25,737\n"
     ]
    }
   ],
   "source": [
    "g = nx.read_adjlist('VK.data')\n",
    "\n",
    "print(\"Graph is created!!\")    \n",
    "print(\"Number of nodes: {:,d}\".format(len(g.nodes())))\n",
    "print(\"Number of edges: {:,d}\".format(g.size()))"
   ]
  },
  {
   "cell_type": "code",
   "execution_count": 25,
   "metadata": {},
   "outputs": [],
   "source": [
    "np.random.seed(0) \n",
    "adj_sparse = nx.to_scipy_sparse_matrix(g)"
   ]
  },
  {
   "cell_type": "code",
   "execution_count": 26,
   "metadata": {},
   "outputs": [],
   "source": [
    "g_train = nx.from_scipy_sparse_matrix(adj_sparse) "
   ]
  },
  {
   "cell_type": "code",
   "execution_count": 27,
   "metadata": {},
   "outputs": [
    {
     "name": "stdout",
     "output_type": "stream",
     "text": [
      "Total nodes: 2113\n",
      "Total edges: 25737\n"
     ]
    }
   ],
   "source": [
    "print(\"Total nodes:\", adj_sparse.shape[0])\n",
    "print(\"Total edges:\", int(adj_sparse.nnz/2)) "
   ]
  },
  {
   "cell_type": "markdown",
   "metadata": {},
   "source": [
    "1.1. Train Node2Vec model with **two** different p and q parameters"
   ]
  },
  {
   "cell_type": "code",
   "execution_count": 28,
   "metadata": {},
   "outputs": [],
   "source": [
    "# node2vec settings\n",
    "# NOTE: When p = q = 1, this is equivalent to DeepWalk\n",
    "\n",
    "P = 1 # Return hyperparameter\n",
    "Q = 1 # In-out hyperparameter\n",
    "WINDOW_SIZE = 10 # Context size for optimization\n",
    "NUM_WALKS = 10 # Number of walks per source\n",
    "WALK_LENGTH = 80 # Length of walk per source\n",
    "DIMENSIONS = 128 # Embedding dimension\n",
    "DIRECTED = False # Graph directed/undirected\n",
    "WORKERS = 8 # Num. parallel workers\n",
    "ITER = 1 # SGD epochs"
   ]
  },
  {
   "cell_type": "code",
   "execution_count": 29,
   "metadata": {},
   "outputs": [
    {
     "name": "stderr",
     "output_type": "stream",
     "text": [
      "Computing transition probabilities: 100%|██████████| 2113/2113 [00:22<00:00, 93.90it/s] \n"
     ]
    }
   ],
   "source": [
    "node2vec = Node2Vec(g_train, dimensions=DIMENSIONS, walk_length=WALK_LENGTH, num_walks=NUM_WALKS, workers=WORKERS)\n",
    "model = node2vec.fit(window=WINDOW_SIZE, min_count=1, batch_words=4)"
   ]
  },
  {
   "cell_type": "code",
   "execution_count": 30,
   "metadata": {},
   "outputs": [],
   "source": [
    "P = 2 \n",
    "Q = 0,25\n",
    "WINDOW_SIZE = 10 \n",
    "NUM_WALKS = 10 \n",
    "WALK_LENGTH = 80 \n",
    "DIMENSIONS = 128 \n",
    "DIRECTED = False\n",
    "WORKERS = 8 \n",
    "ITER = 1 "
   ]
  },
  {
   "cell_type": "code",
   "execution_count": 31,
   "metadata": {},
   "outputs": [
    {
     "name": "stderr",
     "output_type": "stream",
     "text": [
      "Computing transition probabilities: 100%|██████████| 2113/2113 [00:22<00:00, 95.13it/s] \n"
     ]
    }
   ],
   "source": [
    "node2vec = Node2Vec(g_train, dimensions=DIMENSIONS, walk_length=WALK_LENGTH, num_walks=NUM_WALKS, workers=WORKERS)\n",
    "model = node2vec.fit(window=WINDOW_SIZE, min_count=1, batch_words=4)"
   ]
  },
  {
   "cell_type": "markdown",
   "metadata": {},
   "source": [
    "### Task 2. Link Prediction\n",
    "2.1. Perform Link Prediction through Node2Vec. Evaluate accuracy of prediction. Describe results. <br>"
   ]
  },
  {
   "cell_type": "code",
   "execution_count": 32,
   "metadata": {},
   "outputs": [],
   "source": [
    "graph = nx.Graph()"
   ]
  },
  {
   "cell_type": "code",
   "execution_count": 33,
   "metadata": {},
   "outputs": [],
   "source": [
    "def mask_test_edges(adj, test_frac=.1, val_frac=.05, prevent_disconnect=True, verbose=False):\n",
    "    # NOTE: Splits are randomized and results might slightly deviate from reported numbers in the paper.\n",
    "\n",
    "    if verbose == True:\n",
    "        print('preprocessing...')\n",
    "\n",
    "    # Remove diagonal elements\n",
    "    adj = adj - sp.dia_matrix((adj.diagonal()[np.newaxis, :], [0]), shape=adj.shape)\n",
    "    adj.eliminate_zeros()\n",
    "    # Check that diag is zero:\n",
    "    assert np.diag(adj.todense()).sum() == 0\n",
    "\n",
    "    g = nx.from_scipy_sparse_matrix(adj)\n",
    "    orig_num_cc = nx.number_connected_components(g)\n",
    "\n",
    "    adj_triu = sp.triu(adj) # upper triangular portion of adj matrix\n",
    "    adj_tuple = sparse_to_tuple(adj_triu) # (coords, values, shape), edges only 1 way\n",
    "    edges = adj_tuple[0] # all edges, listed only once (not 2 ways)\n",
    "    # edges_all = sparse_to_tuple(adj)[0] # ALL edges (includes both ways)\n",
    "    num_test = int(np.floor(edges.shape[0] * test_frac)) # controls how large the test set should be\n",
    "    num_val = int(np.floor(edges.shape[0] * val_frac)) # controls how alrge the validation set should be\n",
    "\n",
    "    # Store edges in list of ordered tuples (node1, node2) where node1 < node2\n",
    "    edge_tuples = [(min(edge[0], edge[1]), max(edge[0], edge[1])) for edge in edges]\n",
    "    all_edge_tuples = set(edge_tuples)\n",
    "    train_edges = set(edge_tuples) # initialize train_edges to have all edges\n",
    "    test_edges = set()\n",
    "    val_edges = set()\n",
    "\n",
    "    if verbose == True:\n",
    "        print('generating test/val sets...')\n",
    "\n",
    "    # Iterate over shuffled edges, add to train/val sets\n",
    "    np.random.shuffle(edge_tuples)\n",
    "    for edge in edge_tuples:\n",
    "        # print(edge)\n",
    "        node1 = edge[0]\n",
    "        node2 = edge[1]\n",
    "\n",
    "        # If removing edge would disconnect a connected component, backtrack and move on\n",
    "        g.remove_edge(node1, node2)\n",
    "        if prevent_disconnect == True:\n",
    "            if nx.number_connected_components(g) > orig_num_cc:\n",
    "                g.add_edge(node1, node2)\n",
    "                continue\n",
    "\n",
    "        # Fill test_edges first\n",
    "        if len(test_edges) < num_test:\n",
    "            test_edges.add(edge)\n",
    "            train_edges.remove(edge)\n",
    "\n",
    "        # Then, fill val_edges\n",
    "        elif len(val_edges) < num_val:\n",
    "            val_edges.add(edge)\n",
    "            train_edges.remove(edge)\n",
    "\n",
    "        # Both edge lists full --> break loop\n",
    "        elif len(test_edges) == num_test and len(val_edges) == num_val:\n",
    "            break\n",
    "\n",
    "    if (len(val_edges) < num_val or len(test_edges) < num_test):\n",
    "        print(\"WARNING: not enough removable edges to perform full train-test split!\")\n",
    "        print(\"Num. (test, val) edges requested: (\", num_test, \", \", num_val, \")\")\n",
    "        print(\"Num. (test, val) edges returned: (\", len(test_edges), \", \", len(val_edges), \")\")\n",
    "\n",
    "    if prevent_disconnect == True:\n",
    "        assert nx.number_connected_components(g) == orig_num_cc\n",
    "\n",
    "    if verbose == True:\n",
    "        print('creating false test edges...')\n",
    "\n",
    "    test_edges_false = set()\n",
    "    while len(test_edges_false) < num_test:\n",
    "        idx_i = np.random.randint(0, adj.shape[0])\n",
    "        idx_j = np.random.randint(0, adj.shape[0])\n",
    "        if idx_i == idx_j:\n",
    "            continue\n",
    "\n",
    "        false_edge = (min(idx_i, idx_j), max(idx_i, idx_j))\n",
    "\n",
    "        # Make sure false_edge not an actual edge, and not a repeat\n",
    "        if false_edge in all_edge_tuples:\n",
    "            continue\n",
    "        if false_edge in test_edges_false:\n",
    "            continue\n",
    "\n",
    "        test_edges_false.add(false_edge)\n",
    "\n",
    "    if verbose == True:\n",
    "        print('creating false val edges...')\n",
    "\n",
    "    val_edges_false = set()\n",
    "    while len(val_edges_false) < num_val:\n",
    "        idx_i = np.random.randint(0, adj.shape[0])\n",
    "        idx_j = np.random.randint(0, adj.shape[0])\n",
    "        if idx_i == idx_j:\n",
    "            continue\n",
    "\n",
    "        false_edge = (min(idx_i, idx_j), max(idx_i, idx_j))\n",
    "\n",
    "        # Make sure false_edge in not an actual edge, not in test_edges_false, not a repeat\n",
    "        if false_edge in all_edge_tuples or \\\n",
    "            false_edge in test_edges_false or \\\n",
    "            false_edge in val_edges_false:\n",
    "            continue\n",
    "            \n",
    "        val_edges_false.add(false_edge)\n",
    "\n",
    "    if verbose == True:\n",
    "        print('creating false train edges...')\n",
    "\n",
    "    train_edges_false = set()\n",
    "    while len(train_edges_false) < len(train_edges):\n",
    "        idx_i = np.random.randint(0, adj.shape[0])\n",
    "        idx_j = np.random.randint(0, adj.shape[0])\n",
    "        if idx_i == idx_j:\n",
    "            continue\n",
    "\n",
    "        false_edge = (min(idx_i, idx_j), max(idx_i, idx_j))\n",
    "\n",
    "        # Make sure false_edge in not an actual edge, not in test_edges_false, \n",
    "            # not in val_edges_false, not a repeat\n",
    "        if false_edge in all_edge_tuples or \\\n",
    "            false_edge in test_edges_false or \\\n",
    "            false_edge in val_edges_false or \\\n",
    "            false_edge in train_edges_false:\n",
    "            continue\n",
    "\n",
    "        train_edges_false.add(false_edge)\n",
    "\n",
    "    if verbose == True:\n",
    "        print('final checks for disjointness...')\n",
    "\n",
    "    # assert: false_edges are actually false (not in all_edge_tuples)\n",
    "    assert test_edges_false.isdisjoint(all_edge_tuples)\n",
    "    assert val_edges_false.isdisjoint(all_edge_tuples)\n",
    "    assert train_edges_false.isdisjoint(all_edge_tuples)\n",
    "\n",
    "    # assert: test, val, train false edges disjoint\n",
    "    assert test_edges_false.isdisjoint(val_edges_false)\n",
    "    assert test_edges_false.isdisjoint(train_edges_false)\n",
    "    assert val_edges_false.isdisjoint(train_edges_false)\n",
    "\n",
    "    # assert: test, val, train positive edges disjoint\n",
    "    assert val_edges.isdisjoint(train_edges)\n",
    "    assert test_edges.isdisjoint(train_edges)\n",
    "    assert val_edges.isdisjoint(test_edges)\n",
    "\n",
    "    if verbose == True:\n",
    "        print('creating adj_train...')\n",
    "\n",
    "    # Re-build adj matrix using remaining graph\n",
    "    adj_train = nx.adjacency_matrix(g)\n",
    "\n",
    "    # Convert edge-lists to numpy arrays\n",
    "    train_edges = np.array([list(edge_tuple) for edge_tuple in train_edges])\n",
    "    train_edges_false = np.array([list(edge_tuple) for edge_tuple in train_edges_false])\n",
    "    val_edges = np.array([list(edge_tuple) for edge_tuple in val_edges])\n",
    "    val_edges_false = np.array([list(edge_tuple) for edge_tuple in val_edges_false])\n",
    "    test_edges = np.array([list(edge_tuple) for edge_tuple in test_edges])\n",
    "    test_edges_false = np.array([list(edge_tuple) for edge_tuple in test_edges_false])\n",
    "\n",
    "    if verbose == True:\n",
    "        print('Done with train-test split!')\n",
    "        print('')\n",
    "\n",
    "    # NOTE: these edge lists only contain single direction of edge!\n",
    "    return adj_train, train_edges, train_edges_false, \\\n",
    "        val_edges, val_edges_false, test_edges, test_edges_false\n",
    "\n"
   ]
  },
  {
   "cell_type": "code",
   "execution_count": 34,
   "metadata": {},
   "outputs": [],
   "source": [
    "def sparse_to_tuple(sparse_mx):\n",
    "    if not sp.isspmatrix_coo(sparse_mx):\n",
    "        sparse_mx = sparse_mx.tocoo()\n",
    "    coords = np.vstack((sparse_mx.row, sparse_mx.col)).transpose()\n",
    "    values = sparse_mx.data\n",
    "    shape = sparse_mx.shape\n",
    "    return coords, values, shape"
   ]
  },
  {
   "cell_type": "markdown",
   "metadata": {},
   "source": [
    "# Preprocessing/Train-Test Split"
   ]
  },
  {
   "cell_type": "code",
   "execution_count": 35,
   "metadata": {},
   "outputs": [],
   "source": [
    "np.random.seed(0) # make sure train-test split is consistent between notebooks\n",
    "adj_sparse = nx.to_scipy_sparse_matrix(g)\n",
    "\n",
    "# Perform train-test split\n",
    "adj_train, train_edges, train_edges_false, val_edges, val_edges_false, \\\n",
    "    test_edges, test_edges_false = mask_test_edges(adj_sparse, test_frac=.3, val_frac=.1)\n",
    "g_train = nx.from_scipy_sparse_matrix(adj_train) # new graph object with only non-hidden edges"
   ]
  },
  {
   "cell_type": "code",
   "execution_count": 36,
   "metadata": {},
   "outputs": [
    {
     "name": "stdout",
     "output_type": "stream",
     "text": [
      "Total nodes: 2113\n",
      "Total edges: 25737\n",
      "Training edges (positive): 15443\n",
      "Training edges (negative): 15443\n",
      "Validation edges (positive): 2573\n",
      "Validation edges (negative): 2573\n",
      "Test edges (positive): 7721\n",
      "Test edges (negative): 7721\n"
     ]
    }
   ],
   "source": [
    "# Inspect train/test split\n",
    "print(\"Total nodes:\", adj_sparse.shape[0])\n",
    "print(\"Total edges:\", int(adj_sparse.nnz/2)) # adj is symmetric, so nnz (num non-zero) = 2*num_edges\n",
    "print(\"Training edges (positive):\", len(train_edges))\n",
    "print(\"Training edges (negative):\", len(train_edges_false))\n",
    "print(\"Validation edges (positive):\", len(val_edges))\n",
    "print(\"Validation edges (negative):\", len(val_edges_false))\n",
    "print(\"Test edges (positive):\", len(test_edges))\n",
    "print(\"Test edges (negative):\", len(test_edges_false))"
   ]
  },
  {
   "cell_type": "code",
   "execution_count": 37,
   "metadata": {},
   "outputs": [],
   "source": [
    "def get_roc_score(edges_pos, edges_neg, score_matrix):\n",
    "    # Store positive edge predictions, actual values\n",
    "    preds_pos = []\n",
    "    pos = []\n",
    "    for edge in edges_pos:\n",
    "        preds_pos.append(score_matrix[edge[0], edge[1]]) # predicted score\n",
    "        pos.append(adj_sparse[edge[0], edge[1]]) # actual value (1 for positive)\n",
    "        \n",
    "    # Store negative edge predictions, actual values\n",
    "    preds_neg = []\n",
    "    neg = []\n",
    "    for edge in edges_neg:\n",
    "        preds_neg.append(score_matrix[edge[0], edge[1]]) # predicted score\n",
    "        neg.append(adj_sparse[edge[0], edge[1]]) # actual value (0 for negative)\n",
    "        \n",
    "    # Calculate scores\n",
    "    preds_all = np.hstack([preds_pos, preds_neg])\n",
    "    labels_all = np.hstack([np.ones(len(preds_pos)), np.zeros(len(preds_neg))])\n",
    "    roc_score = roc_auc_score(labels_all, preds_all)\n",
    "    ap_score = average_precision_score(labels_all, preds_all)\n",
    "    return roc_score, ap_score"
   ]
  },
  {
   "cell_type": "markdown",
   "metadata": {},
   "source": [
    "# Adamic-Adar"
   ]
  },
  {
   "cell_type": "markdown",
   "metadata": {},
   "source": [
    "It predict links in a social network, according to the amount of shared links between two nodes. It is defined as the sum of the inverse logarithmic degree centrality of the neighbours shared by the two nodes."
   ]
  },
  {
   "cell_type": "code",
   "execution_count": 38,
   "metadata": {},
   "outputs": [],
   "source": [
    "# Compute Adamic-Adar indexes from g_train\n",
    "aa_matrix = np.zeros(adj_train.shape)\n",
    "for u, v, p in nx.adamic_adar_index(g_train): # (u, v) = node indices, p = Adamic-Adar index\n",
    "    aa_matrix[u][v] = p\n",
    "    aa_matrix[v][u] = p # make sure it's symmetric\n",
    "    \n",
    "# Normalize array\n",
    "aa_matrix = aa_matrix / aa_matrix.max()"
   ]
  },
  {
   "cell_type": "code",
   "execution_count": 39,
   "metadata": {},
   "outputs": [
    {
     "name": "stdout",
     "output_type": "stream",
     "text": [
      "Adamic-Adar Test ROC score:  0.9532214507030339\n",
      "Adamic-Adar Test AP score:  0.9539806749975781\n"
     ]
    }
   ],
   "source": [
    "# Calculate ROC AUC and Average Precision\n",
    "aa_roc, aa_ap = get_roc_score(test_edges, test_edges_false, aa_matrix)\n",
    "\n",
    "print('Adamic-Adar Test ROC score: ', str(aa_roc))\n",
    "print('Adamic-Adar Test AP score: ', str(aa_ap))"
   ]
  },
  {
   "cell_type": "markdown",
   "metadata": {},
   "source": [
    "# Jaccard Coefficient"
   ]
  },
  {
   "cell_type": "markdown",
   "metadata": {},
   "source": [
    "The Jaccard similarity index (sometimes called the Jaccard similarity coefficient) compares members for two sets to see which members are shared and which are distinct. It's a measure of similarity for the two sets of data, with a range from 0% to 100%. The higher the percentage, the more similar the two populations"
   ]
  },
  {
   "cell_type": "code",
   "execution_count": 40,
   "metadata": {},
   "outputs": [],
   "source": [
    "# Compute Jaccard Coefficients from g_train\n",
    "jc_matrix = np.zeros(adj_train.shape)\n",
    "for u, v, p in nx.jaccard_coefficient(g_train): # (u, v) = node indices, p = Jaccard coefficient\n",
    "    jc_matrix[u][v] = p\n",
    "    jc_matrix[v][u] = p # make sure it's symmetric\n",
    "    \n",
    "# Normalize array\n",
    "jc_matrix = jc_matrix / jc_matrix.max()"
   ]
  },
  {
   "cell_type": "code",
   "execution_count": 41,
   "metadata": {},
   "outputs": [
    {
     "name": "stdout",
     "output_type": "stream",
     "text": [
      "Jaccard Coefficient Test ROC score:  0.9440899136158666\n",
      "Jaccard Coefficient Test AP score:  0.9319001779135971\n"
     ]
    }
   ],
   "source": [
    "# Calculate ROC AUC and Average Precision\n",
    "jc_roc, jc_ap = get_roc_score(test_edges, test_edges_false, jc_matrix)\n",
    "\n",
    "print('Jaccard Coefficient Test ROC score: ', str(jc_roc))\n",
    "print('Jaccard Coefficient Test AP score: ', str(jc_ap))"
   ]
  },
  {
   "cell_type": "markdown",
   "metadata": {},
   "source": [
    "# Preferential Attachment"
   ]
  },
  {
   "cell_type": "markdown",
   "metadata": {},
   "source": [
    "The node degrees follow a power law distribution in many real world networks, also known as scale-free networks. The preferential attachment score is derived from results in the study of scale-free networks, and measures the interaction between a pair of nodes as the product of their degrees. Therefore, this metric prioritizes links between pairs of high-degree nodes."
   ]
  },
  {
   "cell_type": "code",
   "execution_count": 42,
   "metadata": {},
   "outputs": [],
   "source": [
    "# Calculate, store Adamic-Index scores in array\n",
    "pa_matrix = np.zeros(adj_train.shape)\n",
    "for u, v, p in nx.preferential_attachment(g_train): # (u, v) = node indices, p = Jaccard coefficient\n",
    "    pa_matrix[u][v] = p\n",
    "    pa_matrix[v][u] = p # make sure it's symmetric\n",
    "    \n",
    "# Normalize array\n",
    "pa_matrix = pa_matrix / pa_matrix.max()"
   ]
  },
  {
   "cell_type": "code",
   "execution_count": 43,
   "metadata": {},
   "outputs": [
    {
     "name": "stdout",
     "output_type": "stream",
     "text": [
      "Preferential Attachment Test ROC score:  0.8479984455287825\n",
      "Preferential Attachment Test AP score:  0.8673059296482258\n"
     ]
    }
   ],
   "source": [
    "# Calculate ROC AUC and Average Precision\n",
    "pa_roc, pa_ap = get_roc_score(test_edges, test_edges_false, pa_matrix)\n",
    "\n",
    "print('Preferential Attachment Test ROC score: ', str(pa_roc))\n",
    "print('Preferential Attachment Test AP score: ', str(pa_ap))"
   ]
  },
  {
   "cell_type": "markdown",
   "metadata": {},
   "source": [
    "### Task 3. Node clustering\n",
    "3.1. Perform Node classification through Node2Vec. How does it compare to the community detection from HW2 ? <br>"
   ]
  },
  {
   "cell_type": "markdown",
   "metadata": {},
   "source": [
    "# Node classification through Node2Vec compared to the community detection"
   ]
  },
  {
   "cell_type": "markdown",
   "metadata": {},
   "source": [
    "The Node2Vec algorithm continues to apply the spectral clustering method to calculate the similarity among any two node embeddings and finish the community detection in the given networks. This algorithm provides a high-quality and accuracy performance in a wide range of data sets."
   ]
  },
  {
   "cell_type": "code",
   "execution_count": 46,
   "metadata": {},
   "outputs": [],
   "source": [
    "from stellargraph.data import BiasedRandomWalk\n",
    "from stellargraph import StellarGraph\n",
    "from stellargraph import datasets\n",
    "from IPython.display import display, HTML"
   ]
  },
  {
   "cell_type": "code",
   "execution_count": 47,
   "metadata": {},
   "outputs": [
    {
     "data": {
      "text/html": [
       "The Cora dataset consists of 2708 scientific publications classified into one of seven classes. The citation network consists of 5429 links. Each publication in the dataset is described by a 0/1-valued word vector indicating the absence/presence of the corresponding word from the dictionary. The dictionary consists of 1433 unique words."
      ],
      "text/plain": [
       "<IPython.core.display.HTML object>"
      ]
     },
     "metadata": {},
     "output_type": "display_data"
    }
   ],
   "source": [
    "dataset = datasets.Cora()\n",
    "display(HTML(dataset.description))\n",
    "G, node_subjects = dataset.load(largest_connected_component_only=True)"
   ]
  },
  {
   "cell_type": "code",
   "execution_count": 48,
   "metadata": {},
   "outputs": [
    {
     "name": "stdout",
     "output_type": "stream",
     "text": [
      "StellarGraph: Undirected multigraph\n",
      " Nodes: 2485, Edges: 5209\n",
      "\n",
      " Node types:\n",
      "  paper: [2485]\n",
      "    Features: float32 vector, length 1433\n",
      "    Edge types: paper-cites->paper\n",
      "\n",
      " Edge types:\n",
      "    paper-cites->paper: [5209]\n",
      "        Weights: all 1 (default)\n",
      "        Features: none\n"
     ]
    }
   ],
   "source": [
    "print(G.info())"
   ]
  },
  {
   "cell_type": "code",
   "execution_count": 49,
   "metadata": {},
   "outputs": [
    {
     "name": "stdout",
     "output_type": "stream",
     "text": [
      "Number of random walks: 24850\n"
     ]
    }
   ],
   "source": [
    "rw = BiasedRandomWalk(G)\n",
    "\n",
    "walks = rw.run(\n",
    "    nodes=list(G.nodes()),  # root nodes\n",
    "    length=100,  # maximum length of a random walk\n",
    "    n=10,  # number of random walks per root node\n",
    "    p=0.5,  # Defines (unormalised) probability, 1/p, of returning to source node\n",
    "    q=2.0,  # Defines (unormalised) probability, 1/q, for moving away from source node\n",
    ")\n",
    "print(\"Number of random walks: {}\".format(len(walks)))"
   ]
  },
  {
   "cell_type": "code",
   "execution_count": 50,
   "metadata": {},
   "outputs": [],
   "source": [
    "from gensim.models import Word2Vec\n",
    "\n",
    "str_walks = [[str(n) for n in walk] for walk in walks]\n",
    "model = Word2Vec(str_walks, size=128, window=5, min_count=0, sg=1, workers=2, iter=1)"
   ]
  },
  {
   "cell_type": "code",
   "execution_count": 51,
   "metadata": {},
   "outputs": [
    {
     "data": {
      "text/plain": [
       "(128,)"
      ]
     },
     "execution_count": 51,
     "metadata": {},
     "output_type": "execute_result"
    }
   ],
   "source": [
    "# The embedding vectors can be retrieved from model.wv using the node ID as key.\n",
    "model.wv[\"19231\"].shape"
   ]
  },
  {
   "cell_type": "code",
   "execution_count": 52,
   "metadata": {},
   "outputs": [],
   "source": [
    "# Retrieve node embeddings and corresponding subjects\n",
    "node_ids = model.wv.index2word  # list of node IDs\n",
    "node_embeddings = (\n",
    "    model.wv.vectors\n",
    ")  # numpy.ndarray of size number of nodes times embeddings dimensionality\n",
    "node_targets = node_subjects[[int(node_id) for node_id in node_ids]]"
   ]
  },
  {
   "cell_type": "code",
   "execution_count": 53,
   "metadata": {},
   "outputs": [],
   "source": [
    "from sklearn.manifold import TSNE"
   ]
  },
  {
   "cell_type": "code",
   "execution_count": 54,
   "metadata": {},
   "outputs": [],
   "source": [
    "# Apply t-SNE transformation on node embeddings\n",
    "tsne = TSNE(n_components=2)\n",
    "node_embeddings_2d = tsne.fit_transform(node_embeddings)"
   ]
  },
  {
   "cell_type": "code",
   "execution_count": 55,
   "metadata": {},
   "outputs": [
    {
     "data": {
      "text/plain": [
       "<matplotlib.collections.PathCollection at 0x1a1e1d7c18>"
      ]
     },
     "execution_count": 55,
     "metadata": {},
     "output_type": "execute_result"
    },
    {
     "data": {
      "image/png": "[encoded data removed]",
      "text/plain": [
       "<Figure size 720x576 with 1 Axes>"
      ]
     },
     "metadata": {
      "needs_background": "light"
     },
     "output_type": "display_data"
    }
   ],
   "source": [
    "# draw the points\n",
    "alpha = 0.7\n",
    "label_map = {l: i for i, l in enumerate(np.unique(node_targets))}\n",
    "node_colours = [label_map[target] for target in node_targets]\n",
    "\n",
    "plt.figure(figsize=(10, 8))\n",
    "plt.scatter(\n",
    "    node_embeddings_2d[:, 0],\n",
    "    node_embeddings_2d[:, 1],\n",
    "    c=node_colours,\n",
    "    cmap=\"jet\",\n",
    "    alpha=alpha,\n",
    ")"
   ]
  },
  {
   "cell_type": "markdown",
   "metadata": {},
   "source": [
    "From Node classification through Node2Vec we can see 5 clusters among any two node embeddings in the given networks."
   ]
  },
  {
   "cell_type": "code",
   "execution_count": null,
   "metadata": {},
   "outputs": [],
   "source": []
  }
 ],
 "metadata": {
  "kernelspec": {
   "display_name": "Python 3",
   "language": "python",
   "name": "python3"
  },
  "language_info": {
   "codemirror_mode": {
    "name": "ipython",
    "version": 3
   },
   "file_extension": ".py",
   "mimetype": "text/x-python",
   "name": "python",
   "nbconvert_exporter": "python",
   "pygments_lexer": "ipython3",
   "version": "3.7.3"
  }
 },
 "nbformat": 4,
 "nbformat_minor": 2
}
