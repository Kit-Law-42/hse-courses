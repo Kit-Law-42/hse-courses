{
 "cells": [
  {
   "cell_type": "code",
   "execution_count": 34,
   "metadata": {},
   "outputs": [],
   "source": [
    "import matplotlib.pyplot as plt\n",
    "from sklearn.manifold import TSNE\n",
    "from sklearn.decomposition import PCA\n",
    "from sklearn.cluster import SpectralClustering, KMeans\n",
    "from sklearn.metrics import pairwise_distances\n",
    "from sklearn import metrics\n",
    "import os\n",
    "import networkx as nx\n",
    "import numpy as np\n",
    "import pandas as pd\n",
    "\n",
    "from sklearn.linear_model import LogisticRegressionCV\n",
    "from sklearn.ensemble import RandomForestClassifier\n",
    "from sklearn.model_selection import train_test_split\n",
    "from sklearn.metrics import f1_score\n",
    "\n",
    "%matplotlib inline"
   ]
  },
  {
   "cell_type": "code",
   "execution_count": 35,
   "metadata": {},
   "outputs": [],
   "source": [
    "data_dir = os.getcwd()\n",
    "cora_location = os.path.expanduser(os.path.join(data_dir, \"cora/cora.cites\"))\n",
    "g_nx = nx.read_edgelist(path=cora_location)\n",
    "\n",
    "\n",
    "cora_data_location = os.path.expanduser(os.path.join(data_dir, \"cora/cora.content\"))\n",
    "node_attr = pd.read_csv(cora_data_location, sep='\\t', header=None)\n",
    "values = { str(row.tolist()[0]): row.tolist()[-1] for _, row in node_attr.iterrows()}\n",
    "nx.set_node_attributes(g_nx, values, 'subject')\n",
    "\n",
    "feature_names = [\"w_{}\".format(ii) for ii in range(1433)]\n",
    "column_names =  feature_names + [\"subject\"]\n",
    "node_data = pd.read_table(os.path.join(data_dir, \"cora/cora.content\"), header=None, names=column_names)\n",
    "\n"
   ]
  },
  {
   "cell_type": "code",
   "execution_count": 36,
   "metadata": {},
   "outputs": [
    {
     "output_type": "stream",
     "name": "stdout",
     "text": "Largest subgraph statistics: 2485 nodes, 5069 edges\nThere are 7 unique labels on the nodes.\nThere are 2485 nodes in the network.\n"
    }
   ],
   "source": [
    "g_nx_ccs = (g_nx.subgraph(c).copy() for c in nx.connected_components(g_nx))\n",
    "g_nx = max(g_nx_ccs, key=len)\n",
    "node_ids = list(g_nx.nodes())\n",
    "print(\"Largest subgraph statistics: {} nodes, {} edges\".format(\n",
    "    g_nx.number_of_nodes(), g_nx.number_of_edges()))\n",
    "\n",
    "node_targets = [ g_nx.nodes[node_id]['subject'] for node_id in node_ids]\n",
    "\n",
    "print(f\"There are {len(np.unique(node_targets))} unique labels on the nodes.\")\n",
    "\n",
    "print(f\"There are {len(g_nx.nodes())} nodes in the network.\")\n"
   ]
  },
  {
   "cell_type": "code",
   "execution_count": 37,
   "metadata": {},
   "outputs": [],
   "source": [
    "s = set(node_data[\"subject\"])\n",
    "#build a dictionary to convert string to numbers\n",
    "convert_table = {e:idx for idx, e in enumerate(s)}\n",
    "\n",
    "def word2idx(word):\n",
    "    return convert_table[word]\n",
    "\n",
    "ground_truth =  [word2idx(i) for i in node_targets]"
   ]
  },
  {
   "cell_type": "code",
   "execution_count": 38,
   "metadata": {},
   "outputs": [],
   "source": [
    "A = nx.to_numpy_array(g_nx) "
   ]
  },
  {
   "cell_type": "code",
   "execution_count": 39,
   "metadata": {},
   "outputs": [
    {
     "output_type": "stream",
     "name": "stdout",
     "text": "[[168.   0.   0. ...   0.   0.   0.]\n [  0.   5.   0. ...   0.   0.   0.]\n [  0.   0.   6. ...   0.   0.   0.]\n ...\n [  0.   0.   0. ...   4.   0.   0.]\n [  0.   0.   0. ...   0.   4.   0.]\n [  0.   0.   0. ...   0.   0.   2.]]\n"
    }
   ],
   "source": [
    "D = np.diag(A.sum(axis=1))\n",
    "print(D)"
   ]
  },
  {
   "cell_type": "code",
   "execution_count": 40,
   "metadata": {},
   "outputs": [
    {
     "output_type": "stream",
     "name": "stdout",
     "text": "[[168.  -1.  -1. ...   0.   0.   0.]\n [ -1.   5.   0. ...   0.   0.   0.]\n [ -1.   0.   6. ...   0.   0.   0.]\n ...\n [  0.   0.   0. ...   4.  -1.  -1.]\n [  0.   0.   0. ...  -1.   4.   0.]\n [  0.   0.   0. ...  -1.   0.   2.]]\n"
    }
   ],
   "source": [
    "L = D-A\n",
    "print(L)"
   ]
  },
  {
   "cell_type": "code",
   "execution_count": 41,
   "metadata": {},
   "outputs": [],
   "source": [
    "eigenvalues, eigenvectors = np.linalg.eig(L) \n",
    "eigenvalues = np.real(eigenvalues)\n",
    "eigenvectors = np.real(eigenvectors)\n",
    "\n",
    "order = np.argsort(eigenvalues)  \n",
    "eigenvalues = eigenvalues[order]"
   ]
  },
  {
   "cell_type": "code",
   "execution_count": 42,
   "metadata": {},
   "outputs": [],
   "source": [
    "embedding_size = 32\n",
    "v_0 = eigenvectors[:, order[0]]\n",
    "v = eigenvectors[:, order[1:(embedding_size+1)]] "
   ]
  },
  {
   "cell_type": "code",
   "execution_count": 43,
   "metadata": {},
   "outputs": [
    {
     "output_type": "execute_result",
     "data": {
      "text/plain": "{'Theory': 0,\n 'Reinforcement_Learning': 1,\n 'Neural_Networks': 2,\n 'Probabilistic_Methods': 3,\n 'Case_Based': 4,\n 'Rule_Learning': 5,\n 'Genetic_Algorithms': 6}"
     },
     "metadata": {},
     "execution_count": 43
    }
   ],
   "source": [
    "convert_table"
   ]
  },
  {
   "cell_type": "code",
   "execution_count": 48,
   "metadata": {},
   "outputs": [
    {
     "output_type": "stream",
     "name": "stdout",
     "text": "0.003947727630004761\n0.16392265963104333\n0.16257545271629778\n[6, 6, 2, 6, 6, 6, 6, 6, 6, 6, 6, 6, 6, 6, 6, 2, 6, 0, 6, 6, 6, 6, 6, 6, 6, 6, 6, 6, 6, 6, 6, 6, 6, 6, 6, 6, 6, 6, 6, 6, 6, 6, 6, 6, 6, 6, 6, 6, 6, 6, 6, 6, 6, 6, 6, 1, 6, 6, 6, 6, 6, 2, 6, 6, 6, 6, 4, 1, 6, 6, 6, 6, 6, 6, 6, 2, 6, 6, 6, 6, 6, 6, 6, 0, 1, 6, 6, 6, 6, 6, 6, 6, 6, 6, 6, 6, 6, 6, 6, 6, 6, 6, 6, 6, 2, 6, 6, 6, 6, 6, 6, 6, 6, 6, 6, 6, 6, 6, 6, 6, 6, 6, 6, 6, 6, 6, 6, 6, 6, 6, 6, 6, 6, 6, 6, 6, 6, 6, 6, 6, 6, 6, 6, 6, 6, 6, 6, 6, 6, 6, 6, 6, 6, 6, 6, 6, 6, 6, 4, 6, 6, 6, 1, 6, 6, 6, 6, 6, 6, 6, 1, 1, 1, 1, 1, 1, 1, 1, 1, 1, 1, 2, 1, 1, 1, 1, 1, 1, 3, 1, 1, 1, 1, 1, 1, 1, 1, 1, 1, 1, 1, 1, 1, 1, 1, 1, 1, 1, 1, 1, 1, 1, 1, 1, 3, 3, 1, 3, 1, 1, 1, 1, 1, 1, 1, 1, 1, 1, 1, 1, 1, 5, 2, 4, 4, 2, 4, 4, 3, 3, 3, 3, 3, 3, 4, 1, 1, 1, 1, 1, 2, 4, 6, 1, 0, 2, 2, 0, 4, 6, 1, 1, 1, 1, 6, 2, 2, 2, 2, 2, 2, 2, 2, 2, 2, 2, 2, 2, 2, 2, 2, 2, 2, 2, 2, 2, 2, 3, 2, 2, 2, 2, 2, 2, 2, 2, 2, 2, 2, 2, 2, 6, 2, 2, 2, 2, 2, 2, 2, 4, 4, 4, 4, 4, 4, 4, 4, 4, 4, 4, 4, 4, 4, 4, 6, 6, 6, 6, 6, 6, 6, 1, 6, 2, 2, 0, 2, 1, 0, 0, 0, 0, 0, 4, 0, 2, 4, 0, 0, 0, 0, 0, 5, 0, 2, 5, 4, 0, 0, 6, 5, 5, 0, 2, 5, 0, 0, 5, 5, 0, 5, 5, 4, 2, 2, 2, 1, 2, 2, 2, 2, 2, 2, 0, 2, 1, 2, 2, 2, 2, 2, 2, 2, 1, 2, 2, 2, 2, 2, 2, 2, 2, 0, 2, 2, 2, 2, 2, 2, 2, 2, 1, 2, 2, 2, 2, 2, 2, 2, 2, 2, 2, 2, 1, 2, 2, 2, 2, 2, 2, 2, 2, 2, 2, 2, 2, 2, 2, 2, 2, 2, 2, 4, 4, 4, 4, 4, 4, 4, 4, 5, 4, 4, 4, 4, 4, 4, 4, 6, 6, 6, 6, 6, 3, 3, 3, 3, 0, 2, 5, 2, 6, 6, 3, 3, 4, 4, 4, 4, 4, 4, 4, 4, 4, 4, 4, 4, 4, 4, 4, 5, 5, 5, 5, 4, 4, 4, 4, 4, 4, 4, 3, 0, 0, 2, 3, 3, 3, 3, 0, 3, 0, 3, 4, 3, 0, 0, 0, 0, 0, 4, 4, 0, 0, 5, 5, 5, 5, 5, 5, 5, 5, 5, 5, 5, 5, 5, 5, 5, 5, 5, 5, 5, 0, 5, 5, 5, 0, 0, 0, 0, 0, 0, 0, 0, 0, 0, 2, 0, 0, 0, 0, 0, 0, 0, 0, 2, 0, 2, 0, 0, 0, 0, 0, 0, 2, 2, 2, 2, 3, 2, 2, 2, 2, 2, 2, 3, 2, 2, 2, 2, 2, 2, 2, 2, 2, 2, 2, 2, 2, 2, 2, 2, 2, 2, 2, 2, 2, 2, 2, 2, 2, 2, 2, 2, 2, 2, 2, 2, 2, 2, 2, 2, 2, 2, 2, 2, 2, 2, 4, 4, 4, 4, 4, 4, 2, 2, 4, 4, 4, 4, 4, 4, 4, 4, 4, 4, 4, 4, 4, 3, 3, 3, 3, 3, 3, 2, 3, 3, 3, 3, 3, 3, 3, 3, 3, 3, 3, 0, 3, 5, 0, 5, 5, 4, 0, 0, 0, 5, 5, 4, 4, 5, 5, 4, 5, 2, 2, 4, 4, 2, 4, 4, 4, 4, 0, 4, 4, 4, 4, 4, 0, 4, 4, 0, 3, 3, 3, 3, 0, 2, 2, 2, 2, 6, 2, 2, 6, 1, 2, 2, 2, 2, 2, 2, 2, 2, 2, 2, 1, 2, 2, 3, 2, 2, 2, 4, 2, 2, 2, 1, 3, 3, 2, 2, 2, 3, 1, 2, 6, 2, 2, 6, 2, 2, 2, 0, 0, 4, 4, 2, 4, 2, 5, 0, 5, 2, 0, 2, 3, 2, 0, 4, 4, 0, 0, 5, 0, 4, 0, 0, 4, 3, 0, 0, 0, 0, 3, 0, 5, 0, 4, 4, 0, 0, 4, 1, 2, 2, 0, 2, 4, 4, 4, 5, 4, 0, 3, 3, 2, 2, 2, 3, 3, 3, 2, 2, 3, 2, 2, 2, 2, 3, 2, 2, 2, 2, 1, 2, 3, 2, 2, 2, 2, 2, 2, 3, 3, 3, 3, 2, 3, 0, 3, 0, 3, 3, 0, 1, 1, 1, 2, 1, 0, 1, 1, 1, 0, 0, 5, 5, 5, 5, 5, 5, 5, 5, 0, 0, 0, 0, 2, 0, 3, 0, 0, 0, 0, 0, 0, 0, 0, 0, 4, 4, 4, 4, 4, 4, 4, 3, 3, 3, 3, 3, 0, 2, 2, 2, 2, 2, 2, 2, 2, 2, 2, 2, 4, 4, 4, 4, 0, 0, 0, 6, 0, 0, 0, 0, 2, 2, 2, 2, 2, 1, 1, 2, 1, 1, 1, 1, 6, 1, 1, 1, 1, 2, 1, 2, 1, 1, 1, 1, 4, 1, 1, 1, 2, 6, 1, 1, 1, 1, 1, 1, 1, 1, 1, 1, 1, 1, 1, 1, 1, 1, 1, 1, 0, 1, 2, 1, 1, 1, 2, 1, 1, 4, 1, 1, 1, 1, 1, 0, 0, 3, 0, 0, 0, 0, 4, 4, 4, 4, 4, 4, 4, 4, 4, 4, 4, 0, 4, 2, 4, 4, 2, 1, 1, 1, 1, 1, 0, 2, 5, 5, 5, 0, 4, 0, 0, 5, 5, 6, 4, 4, 2, 2, 2, 2, 0, 2, 2, 2, 2, 3, 3, 3, 2, 3, 3, 3, 3, 3, 3, 3, 3, 3, 3, 3, 2, 2, 2, 2, 3, 2, 2, 2, 2, 2, 3, 2, 2, 3, 3, 3, 3, 3, 5, 5, 5, 5, 0, 0, 5, 0, 0, 5, 5, 5, 5, 5, 0, 0, 1, 2, 0, 0, 2, 2, 2, 2, 2, 1, 1, 1, 1, 2, 2, 2, 2, 2, 2, 2, 2, 2, 2, 0, 0, 0, 5, 0, 5, 2, 0, 3, 5, 5, 5, 2, 0, 5, 5, 4, 0, 2, 2, 2, 2, 2, 2, 2, 5, 0, 5, 0, 4, 3, 3, 5, 4, 0, 4, 4, 6, 6, 6, 6, 1, 6, 1, 6, 6, 6, 6, 6, 6, 1, 0, 0, 0, 0, 3, 3, 3, 6, 2, 2, 2, 0, 0, 0, 3, 0, 4, 2, 4, 0, 0, 0, 0, 0, 0, 0, 0, 0, 0, 0, 4, 4, 4, 4, 4, 4, 4, 4, 4, 4, 4, 4, 2, 2, 0, 2, 2, 2, 2, 2, 2, 2, 2, 4, 2, 1, 4, 4, 0, 4, 5, 2, 2, 0, 0, 5, 0, 5, 4, 0, 0, 0, 0, 0, 0, 0, 0, 0, 0, 0, 0, 0, 0, 0, 0, 0, 0, 0, 0, 0, 0, 3, 0, 0, 0, 0, 0, 0, 0, 0, 0, 0, 0, 0, 0, 2, 2, 2, 2, 2, 2, 2, 2, 2, 2, 2, 0, 0, 0, 0, 0, 2, 1, 6, 6, 6, 6, 6, 6, 6, 6, 6, 4, 6, 2, 2, 1, 1, 1, 1, 2, 2, 1, 0, 2, 1, 3, 2, 2, 2, 2, 2, 2, 2, 2, 2, 5, 5, 1, 1, 1, 0, 0, 6, 6, 6, 6, 6, 2, 2, 3, 3, 4, 4, 4, 4, 5, 4, 4, 5, 4, 2, 0, 0, 2, 2, 2, 0, 0, 0, 0, 0, 0, 0, 6, 4, 4, 4, 4, 4, 3, 3, 3, 3, 3, 3, 3, 3, 3, 3, 2, 2, 2, 2, 2, 2, 2, 2, 2, 0, 2, 2, 2, 2, 2, 2, 3, 3, 3, 3, 3, 3, 3, 3, 3, 3, 3, 3, 3, 3, 3, 1, 3, 1, 1, 3, 3, 2, 6, 1, 6, 6, 4, 1, 2, 2, 2, 2, 2, 5, 3, 3, 3, 3, 3, 3, 3, 3, 3, 3, 3, 3, 3, 3, 0, 3, 3, 0, 3, 3, 3, 4, 1, 1, 1, 1, 6, 6, 6, 0, 0, 0, 0, 0, 2, 2, 2, 2, 6, 2, 2, 2, 2, 2, 2, 2, 0, 4, 4, 4, 4, 4, 4, 4, 4, 4, 4, 4, 4, 4, 4, 4, 4, 4, 4, 4, 0, 4, 4, 4, 4, 4, 2, 2, 0, 2, 0, 0, 0, 5, 5, 3, 3, 3, 3, 3, 3, 0, 6, 6, 6, 6, 6, 6, 6, 6, 6, 4, 4, 4, 0, 0, 4, 4, 0, 2, 2, 2, 4, 4, 4, 4, 0, 4, 4, 3, 3, 3, 3, 3, 3, 3, 3, 0, 3, 3, 2, 5, 0, 0, 3, 0, 3, 2, 2, 2, 3, 3, 3, 1, 0, 2, 2, 2, 2, 2, 2, 2, 2, 2, 0, 2, 2, 3, 3, 2, 2, 2, 2, 3, 2, 2, 6, 2, 2, 3, 0, 4, 2, 2, 2, 2, 0, 0, 0, 0, 0, 0, 0, 2, 6, 2, 2, 2, 2, 5, 2, 2, 2, 2, 1, 1, 2, 2, 0, 0, 1, 3, 1, 4, 4, 1, 2, 6, 6, 1, 1, 1, 1, 1, 1, 1, 1, 1, 1, 1, 0, 2, 1, 1, 0, 0, 0, 6, 6, 3, 3, 3, 4, 2, 2, 2, 2, 2, 2, 2, 3, 2, 4, 2, 0, 0, 2, 2, 2, 2, 2, 0, 2, 2, 2, 2, 2, 2, 3, 3, 3, 3, 3, 3, 3, 3, 3, 3, 3, 2, 2, 3, 0, 3, 2, 2, 2, 2, 2, 6, 2, 0, 0, 0, 2, 3, 3, 4, 0, 0, 2, 2, 2, 2, 2, 2, 2, 6, 6, 2, 2, 2, 2, 2, 2, 2, 2, 2, 2, 2, 2, 2, 6, 6, 2, 2, 2, 4, 4, 3, 3, 3, 3, 6, 2, 2, 2, 1, 1, 0, 3, 3, 3, 2, 3, 3, 0, 0, 3, 3, 3, 3, 3, 3, 3, 4, 0, 0, 3, 6, 6, 6, 6, 6, 6, 6, 6, 6, 3, 3, 3, 3, 3, 3, 4, 5, 5, 5, 5, 5, 5, 5, 5, 5, 2, 2, 3, 3, 3, 3, 3, 3, 3, 3, 3, 3, 2, 1, 2, 0, 3, 2, 2, 4, 4, 0, 6, 6, 6, 2, 2, 2, 0, 0, 6, 2, 2, 2, 5, 5, 6, 2, 2, 6, 3, 3, 0, 2, 0, 0, 2, 2, 1, 2, 6, 6, 5, 0, 0, 5, 0, 0, 0, 0, 2, 2, 2, 4, 4, 2, 1, 1, 6, 6, 6, 6, 2, 2, 3, 2, 2, 2, 2, 3, 3, 3, 3, 2, 2, 3, 0, 6, 6, 6, 6, 6, 6, 6, 6, 6, 6, 6, 6, 6, 6, 6, 6, 6, 6, 6, 0, 4, 4, 6, 4, 4, 1, 6, 6, 0, 2, 4, 6, 6, 6, 2, 2, 6, 6, 6, 0, 6, 2, 2, 6, 6, 5, 5, 5, 6, 2, 6, 6, 6, 6, 2, 4, 3, 2, 2, 5, 4, 5, 4, 0, 3, 3, 3, 3, 3, 3, 3, 3, 0, 6, 6, 5, 5, 0, 2, 0, 0, 0, 0, 2, 2, 6, 6, 1, 2, 0, 3, 3, 3, 3, 4, 4, 2, 2, 2, 2, 4, 1, 6, 6, 2, 3, 2, 2, 2, 1, 5, 3, 3, 3, 3, 3, 4, 4, 2, 3, 3, 2, 4, 4, 4, 2, 2, 2, 1, 1, 5, 5, 2, 2, 0, 0, 3, 3, 3, 3, 2, 6, 2, 2, 2, 3, 3, 3, 2, 2, 4, 4, 6, 6, 6, 6, 6, 2, 2, 0, 6, 0, 2, 2, 6, 2, 0, 1, 2, 3, 4, 4, 3, 2, 0, 0, 3, 3, 3, 0, 2, 2, 2, 2, 2, 0, 2, 6, 6, 6, 4, 1, 1, 1, 4, 4, 6, 6, 6, 2, 2, 4, 4, 0, 6, 2, 2, 6, 6, 4, 4, 3, 3, 3, 2, 2, 3, 2, 6, 6, 3, 3, 3, 3, 3, 6, 4, 4, 4, 0, 6, 4, 4, 2, 2, 1, 2, 0, 6, 2, 2, 2, 2, 2, 3, 3, 3, 3, 3, 3, 3, 3, 2, 2, 2, 0, 0, 4, 4, 2, 2, 2, 2, 0, 2, 2, 1, 6, 6, 6, 6, 3, 3, 3, 2, 2, 4, 0, 5, 5, 0, 3, 3, 2, 2, 0, 2, 2, 6, 6, 2, 4, 3, 6, 2, 6, 6, 6, 1, 2, 2, 6, 6, 2, 0, 6, 3, 3, 3, 3, 3, 3, 3, 3, 2, 0, 5, 5, 3, 2, 2, 2, 5, 5, 2, 2, 2, 2, 2, 2, 2, 2, 0, 4, 0, 1, 2, 4, 2, 0, 0, 6, 2, 2, 0, 4, 6, 6, 6, 2, 2, 2, 2, 2, 1, 6, 6, 3, 3, 3, 3, 3, 3, 2, 2, 2, 2, 2, 2, 2, 2, 2, 1, 6, 4, 2, 2, 3, 3, 3, 2, 2, 2, 2, 2, 2, 2, 2, 6, 6, 6, 2, 5, 0, 0, 1, 2, 4, 6, 2, 2, 6, 2, 2, 2, 2, 2, 2, 2, 2, 0, 2, 2, 1, 6, 6, 4, 3, 2, 2, 2, 4, 2, 6, 6, 6, 6, 5, 2, 2, 2, 2, 2, 0, 2, 2, 2, 2, 6, 6, 2, 6, 6, 3, 6, 6, 6, 6, 3, 5, 1, 2, 2, 4, 3, 3, 0, 2, 6, 4, 2, 3, 2, 0, 2, 3, 3, 5, 6, 2, 6, 6, 6, 6, 6, 6, 6, 3, 5, 4, 4, 3, 3, 3, 2, 3, 3, 3, 3, 2, 2, 3, 3, 3, 5, 2, 0, 0, 6, 6, 6, 6, 6, 2, 6, 6, 6, 6, 6, 6, 6, 0, 2, 6, 6, 6, 6, 6, 6, 6, 6, 6, 6, 6, 6, 6, 6, 2, 2, 3, 2, 2, 3, 3, 3, 3, 3, 3, 3, 3, 3, 3, 3, 3, 3, 3, 3, 3, 3, 3, 3, 3, 3, 3, 3, 3, 3, 3, 3, 2, 2, 3, 3, 3, 3, 3, 3, 3, 3, 3, 3, 3, 6, 6, 6, 6, 6, 6, 4, 2, 2, 2, 2, 2, 2, 3, 3, 2, 2, 2, 2, 2, 2, 2, 2, 0, 0, 0, 0, 0, 2, 2, 2, 2, 2, 2, 2, 2, 2, 2, 2]\n[0 0 0 ... 0 0 0]\n"
    }
   ],
   "source": [
    "n = 7 #number of clusters\n",
    "#Spectral Clustering method\n",
    "model = SpectralClustering(n_clusters = n, n_init=100,assign_labels='discretize')\n",
    "#model.fit(vecs[:,1])\n",
    "labels = model.fit_predict(v[:,1:8])\n",
    "\n",
    "#labels = [abs(i-1) for i in labels]\n",
    "print(metrics.adjusted_rand_score(ground_truth, labels))\n",
    "print(metrics.adjusted_mutual_info_score(ground_truth, labels))\n",
    "print(metrics.accuracy_score(ground_truth, labels))\n",
    "print(ground_truth)\n",
    "print(labels)"
   ]
  },
  {
   "cell_type": "code",
   "execution_count": 24,
   "metadata": {},
   "outputs": [
    {
     "output_type": "execute_result",
     "data": {
      "text/plain": "array([[ 0.00211898, -0.00599277,  0.00367151, ..., -0.00094008,\n        -0.00019546, -0.00015991],\n       [ 0.002144  , -0.00611701,  0.00381872, ...,  0.00051456,\n         0.00056262, -0.00069991],\n       [ 0.00183635, -0.00473534,  0.00298016, ...,  0.00390489,\n         0.0020503 , -0.00024456],\n       ...,\n       [ 0.00133535, -0.00346527,  0.00254527, ..., -0.0030409 ,\n        -0.00621298,  0.00129151],\n       [ 0.00138206, -0.00344062,  0.00257468, ..., -0.00381997,\n        -0.00629437,  0.00179128],\n       [ 0.00117545, -0.00345737,  0.0023799 , ..., -0.00019461,\n        -0.00491115, -0.00043305]])"
     },
     "metadata": {},
     "execution_count": 24
    }
   ],
   "source": []
  }
 ],
 "metadata": {
  "language_info": {
   "codemirror_mode": {
    "name": "ipython",
    "version": 3
   },
   "file_extension": ".py",
   "mimetype": "text/x-python",
   "name": "python",
   "nbconvert_exporter": "python",
   "pygments_lexer": "ipython3",
   "version": "3.6.6-final"
  },
  "orig_nbformat": 2,
  "kernelspec": {
   "name": "python36664bitalexlvirtualenvb9f0b0a3af2a4e06a89ee778b9503914",
   "display_name": "Python 3.6.6 64-bit ('alexl': virtualenv)"
  }
 },
 "nbformat": 4,
 "nbformat_minor": 2
}