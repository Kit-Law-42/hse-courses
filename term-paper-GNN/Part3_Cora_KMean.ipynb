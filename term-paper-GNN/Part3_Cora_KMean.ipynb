{
 "cells": [
  {
   "cell_type": "code",
   "execution_count": 47,
   "metadata": {},
   "outputs": [],
   "source": [
    "import matplotlib.pyplot as plt\n",
    "from sklearn.manifold import TSNE\n",
    "from sklearn.decomposition import PCA\n",
    "from sklearn.cluster import SpectralClustering, KMeans\n",
    "from sklearn.metrics import pairwise_distances\n",
    "from sklearn import metrics\n",
    "import os\n",
    "import networkx as nx\n",
    "import numpy as np\n",
    "import pandas as pd\n",
    "\n",
    "from sklearn.linear_model import LogisticRegressionCV\n",
    "from sklearn.ensemble import RandomForestClassifier\n",
    "from sklearn.model_selection import train_test_split\n",
    "from sklearn.metrics import f1_score\n",
    "\n",
    "%matplotlib inline"
   ]
  },
  {
   "cell_type": "code",
   "execution_count": 48,
   "metadata": {},
   "outputs": [],
   "source": [
    "data_dir = os.getcwd()\n",
    "cora_location = os.path.expanduser(os.path.join(data_dir, \"cora/cora.cites\"))\n",
    "g_nx = nx.read_edgelist(path=cora_location)\n",
    "\n",
    "\n",
    "cora_data_location = os.path.expanduser(os.path.join(data_dir, \"cora/cora.content\"))\n",
    "node_attr = pd.read_csv(cora_data_location, sep='\\t', header=None)\n",
    "values = { str(row.tolist()[0]): row.tolist()[-1] for _, row in node_attr.iterrows()}\n",
    "nx.set_node_attributes(g_nx, values, 'subject')\n",
    "\n",
    "feature_names = [\"w_{}\".format(ii) for ii in range(1433)]\n",
    "column_names =  feature_names + [\"subject\"]\n",
    "node_data = pd.read_table(os.path.join(data_dir, \"cora/cora.content\"), header=None, names=column_names)\n",
    "\n"
   ]
  },
  {
   "cell_type": "code",
   "execution_count": 49,
   "metadata": {},
   "outputs": [
    {
     "output_type": "stream",
     "name": "stdout",
     "text": "Largest subgraph statistics: 2485 nodes, 5069 edges\nThere are 7 unique labels on the nodes.\nThere are 2485 nodes in the network.\n"
    }
   ],
   "source": [
    "g_nx_ccs = (g_nx.subgraph(c).copy() for c in nx.connected_components(g_nx))\n",
    "g_nx = max(g_nx_ccs, key=len)\n",
    "node_ids = list(g_nx.nodes())\n",
    "print(\"Largest subgraph statistics: {} nodes, {} edges\".format(\n",
    "    g_nx.number_of_nodes(), g_nx.number_of_edges()))\n",
    "\n",
    "node_targets = [ g_nx.nodes[node_id]['subject'] for node_id in node_ids]\n",
    "\n",
    "print(f\"There are {len(np.unique(node_targets))} unique labels on the nodes.\")\n",
    "\n",
    "print(f\"There are {len(g_nx.nodes())} nodes in the network.\")\n"
   ]
  },
  {
   "cell_type": "code",
   "execution_count": 50,
   "metadata": {
    "tags": [
     "outputPrepend"
    ]
   },
   "outputs": [],
   "source": [
    "\n",
    "node_ids = [int(i) for i in node_ids] "
   ]
  },
  {
   "cell_type": "code",
   "execution_count": 62,
   "metadata": {},
   "outputs": [
    {
     "output_type": "stream",
     "name": "stdout",
     "text": "There are (2485, 1433) dimensions in the network.\n"
    }
   ],
   "source": [
    "#node_data.loc[node_ids]\n",
    "\n",
    "KMean_matrix = node_data.loc[node_ids]\n",
    "KMean_matrix = KMean_matrix.iloc[:, 0:1433]\n",
    "print(f\"There are {KMean_matrix.shape} dimensions in the network.\")"
   ]
  },
  {
   "cell_type": "code",
   "execution_count": 63,
   "metadata": {},
   "outputs": [],
   "source": [
    "s = set(node_data[\"subject\"])\n",
    "#build a dictionary to convert string to numbers\n",
    "convert_table = {e:idx for idx, e in enumerate(s)}\n",
    "\n",
    "def word2idx(word):\n",
    "    return convert_table[word]\n",
    "\n",
    "ground_truth =  [word2idx(i) for i in node_targets]"
   ]
  },
  {
   "cell_type": "code",
   "execution_count": 83,
   "metadata": {},
   "outputs": [
    {
     "output_type": "stream",
     "name": "stdout",
     "text": "0.05729178335580698\n0.16614571477465204\n0.22937625754527163\n"
    }
   ],
   "source": [
    "n = 7 #number of clusters\n",
    "#Spectral Clustering method\n",
    "model = KMeans(n_clusters = n, n_init=100)\n",
    "#model.fit(vecs[:,1])\n",
    "labels = model.fit_predict(KMean_matrix.iloc[:, 0:500])\n",
    "\n",
    "#print(ground_truth)\n",
    "#print(labels)\n",
    "print(metrics.adjusted_rand_score(ground_truth, labels))\n",
    "print(metrics.adjusted_mutual_info_score(ground_truth, labels))\n",
    "print(metrics.accuracy_score(ground_truth, labels))\n"
   ]
  },
  {
   "cell_type": "code",
   "execution_count": null,
   "metadata": {},
   "outputs": [],
   "source": []
  }
 ],
 "metadata": {
  "language_info": {
   "codemirror_mode": {
    "name": "ipython",
    "version": 3
   },
   "file_extension": ".py",
   "mimetype": "text/x-python",
   "name": "python",
   "nbconvert_exporter": "python",
   "pygments_lexer": "ipython3",
   "version": "3.6.6-final"
  },
  "orig_nbformat": 2,
  "kernelspec": {
   "name": "python36664bitalexlvirtualenvb9f0b0a3af2a4e06a89ee778b9503914",
   "display_name": "Python 3.6.6 64-bit ('alexl': virtualenv)"
  }
 },
 "nbformat": 4,
 "nbformat_minor": 2
}