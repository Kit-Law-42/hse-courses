{
 "cells": [
  {
   "cell_type": "code",
   "execution_count": 12,
   "metadata": {},
   "outputs": [],
   "source": [
    "import networkx as nx\n",
    "import itertools\n",
    "from networkx.algorithms import community\n",
    "import numpy as np\n",
    "import pandas as pd\n",
    "import os \n",
    "\n",
    "data_dir = os.getcwd()\n",
    "G = nx.Graph()\n",
    "\n",
    "edgelist = pd.read_csv(os.path.join(data_dir, \"cora/cora.cites\"), sep='\\t', header=None, names=[\"target\", \"source\"])\n",
    "edgelist[\"label\"] = \"cites\"\n",
    "\n",
    "\n",
    "for index, row in edgelist.iterrows():\n",
    "    G.add_edge(row['target'], row['source'])\n",
    "\n",
    "# import features and node prediction.\n",
    "feature_names = [\"w_{}\".format(ii) for ii in range(1433)]\n",
    "column_names =  feature_names + [\"subject\"]\n",
    "node_data = pd.read_csv(os.path.join(data_dir, \"cora/cora.content\"), sep='\\t', header=None, names=column_names)\n",
    "\n",
    "s = set(node_data[\"subject\"])\n",
    "#build a dictionary to convert string to numbers\n",
    "convert_table = {e:idx for idx, e in enumerate(s)}\n",
    "\n",
    "def word2idx(word):\n",
    "    return convert_table[word]\n",
    "\n",
    "ground_truth =  node_data['subject'].map(word2idx)"
   ]
  },
  {
   "cell_type": "code",
   "execution_count": 16,
   "metadata": {},
   "outputs": [
    {
     "output_type": "execute_result",
     "data": {
      "text/plain": "pandas.core.series.Series"
     },
     "metadata": {},
     "execution_count": 16
    }
   ],
   "source": []
  },
  {
   "cell_type": "code",
   "execution_count": 17,
   "metadata": {},
   "outputs": [],
   "source": [
    "k = 7\n",
    "comp = community.girvan_newman(G)\n",
    "for communities in itertools.islice(comp, k):\n",
    "    y_group = tuple(sorted(c) for c in communities)\n",
    "\n",
    "print(y_group)"
   ]
  },
  {
   "cell_type": "code",
   "execution_count": null,
   "metadata": {},
   "outputs": [],
   "source": [
    "partition = {}\n",
    "for idx, c in enumerate(communities):\n",
    "    for item in (c):\n",
    "        partition[item] = idx"
   ]
  },
  {
   "cell_type": "code",
   "execution_count": null,
   "metadata": {},
   "outputs": [],
   "source": [
    "import networkx as nx\n",
    "import matplotlib.pyplot as plt\n",
    "def get_node_color(input):\n",
    "    if input==1:\n",
    "        return \"red\"\n",
    "    elif input==2:\n",
    "        return \"green\"\n",
    "    elif input==3:\n",
    "        return \"blue\"\n",
    "    elif input ==4:\n",
    "        return \"yellow\"\n",
    "\n",
    "#drawing\n",
    "size = float(len(ground_truth))\n",
    "print(size)\n",
    "pos = nx.spring_layout(zkc)\n",
    "count = 0.\n",
    "for com in set(partition.values()) :\n",
    "    count = count + 1.\n",
    "    list_nodes = [nodes for nodes in partition.keys()\n",
    "                                if partition[nodes] == com]\n",
    "    nx.draw_networkx_nodes(zkc, pos, list_nodes, node_size = 100,\n",
    "                                node_color = get_node_color(count / size))\n",
    "\n",
    "\n",
    "nx.draw_networkx_edges(zkc, pos, alpha=0.5)\n",
    "nx.draw_networkx_labels(zkc, pos)\n",
    "plt.title('Node prediction: Girvan-Newman')\n",
    "plt.show()"
   ]
  }
 ],
 "metadata": {
  "language_info": {
   "codemirror_mode": {
    "name": "ipython",
    "version": 3
   },
   "file_extension": ".py",
   "mimetype": "text/x-python",
   "name": "python",
   "nbconvert_exporter": "python",
   "pygments_lexer": "ipython3",
   "version": "3.6.6-final"
  },
  "orig_nbformat": 2,
  "kernelspec": {
   "name": "python36664bitalexlvirtualenvb9f0b0a3af2a4e06a89ee778b9503914",
   "display_name": "Python 3.6.6 64-bit ('alexl': virtualenv)"
  }
 },
 "nbformat": 4,
 "nbformat_minor": 2
}