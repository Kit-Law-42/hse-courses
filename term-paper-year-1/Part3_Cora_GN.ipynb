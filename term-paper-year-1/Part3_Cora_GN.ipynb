{
 "cells": [
  {
   "cell_type": "code",
   "execution_count": 12,
   "metadata": {},
   "outputs": [],
   "source": [
    "import networkx as nx\n",
    "import itertools\n",
    "from networkx.algorithms import community\n",
    "import numpy as np\n",
    "import pandas as pd\n",
    "import os \n",
    "\n",
    "G = nx.Graph()\n",
    "\n",
    "data_dir = os.getcwd()\n",
    "cora_location = os.path.expanduser(os.path.join(data_dir, \"cora/cora.cites\"))\n",
    "g_nx = nx.read_edgelist(path=cora_location)\n",
    "\n",
    "\n",
    "cora_data_location = os.path.expanduser(os.path.join(data_dir, \"cora/cora.content\"))\n",
    "node_attr = pd.read_csv(cora_data_location, sep='\\t', header=None)\n",
    "values = { str(row.tolist()[0]): row.tolist()[-1] for _, row in node_attr.iterrows()}\n",
    "nx.set_node_attributes(g_nx, values, 'subject')\n",
    "\n",
    "feature_names = [\"w_{}\".format(ii) for ii in range(1433)]\n",
    "column_names =  feature_names + [\"subject\"]\n",
    "node_data = pd.read_table(os.path.join(data_dir, \"cora/cora.content\"), header=None, names=column_names)\n",
    "\n",
    "\n",
    "g_nx_ccs = (g_nx.subgraph(c).copy() for c in nx.connected_components(g_nx))\n",
    "g_nx = max(g_nx_ccs, key=len)\n",
    "node_ids = list(g_nx.nodes())\n",
    "print(\"Largest subgraph statistics: {} nodes, {} edges\".format(\n",
    "    g_nx.number_of_nodes(), g_nx.number_of_edges()))\n",
    "\n",
    "node_targets = [ g_nx.nodes[node_id]['subject'] for node_id in node_ids]\n",
    "\n",
    "print(f\"There are {len(np.unique(node_targets))} unique labels on the nodes.\")\n",
    "\n",
    "print(f\"There are {len(g_nx.nodes())} nodes in the network.\")\n"
   ]
  },
  {
   "cell_type": "code",
   "execution_count": 16,
   "metadata": {},
   "outputs": [
    {
     "output_type": "execute_result",
     "data": {
      "text/plain": "pandas.core.series.Series"
     },
     "metadata": {},
     "execution_count": 16
    }
   ],
   "source": [
    "s = set(node_data[\"subject\"])\n",
    "#build a dictionary to convert string to numbers\n",
    "convert_table = {e:idx for idx, e in enumerate(s)}\n",
    "\n",
    "def word2idx(word):\n",
    "    return convert_table[word]\n",
    "\n",
    "ground_truth =  [word2idx(i) for i in node_targets]"
   ]
  },
  {
   "cell_type": "code",
   "execution_count": 17,
   "metadata": {},
   "outputs": [],
   "source": [
    "cluster = 7\n",
    "comp = community.girvan_newman(g_nx)\n",
    "y_result = ()\n",
    "limited = itertools.takewhile(lambda c: len(c) <= cluster, comp)\n",
    "for communities in limited:\n",
    "    print(tuple(sorted(c) for c in communities))\n",
    "#for communities in itertools.islice(comp, cluster):\n",
    "#  print(tuple(sorted(c) for c in communities)) \n",
    "    \n"
   ]
  },
  {
   "cell_type": "code",
   "execution_count": null,
   "metadata": {},
   "outputs": [],
   "source": [
    "y_result = tuple(sorted(c) for c in tuple_set)  "
   ]
  },
  {
   "cell_type": "code",
   "execution_count": null,
   "metadata": {},
   "outputs": [],
   "source": [
    "partition = {}\n",
    "for idx, c in enumerate(y_result):\n",
    "    for item in (c):\n",
    "        partition[item] = idx"
   ]
  },
  {
   "cell_type": "code",
   "execution_count": null,
   "metadata": {},
   "outputs": [],
   "source": [
    "from sklearn import metrics\n",
    "import collections\n",
    "od = collections.OrderedDict(sorted(partition.items()))\n",
    "partition_array = np.array(list(od.values()))\n",
    "print(metrics.adjusted_rand_score(ground_truth, partition_array))\n",
    "print(metrics.adjusted_mutual_info_score(ground_truth, partition_array))\n",
    "print(metrics.accuracy_score(ground_truth, partition_array))\n",
    "print(ground_truth)\n",
    "print(partition_array)"
   ]
  }
 ],
 "metadata": {
  "language_info": {
   "codemirror_mode": {
    "name": "ipython",
    "version": 3
   },
   "file_extension": ".py",
   "mimetype": "text/x-python",
   "name": "python",
   "nbconvert_exporter": "python",
   "pygments_lexer": "ipython3",
   "version": "3.6.6-final"
  },
  "orig_nbformat": 2,
  "kernelspec": {
   "name": "python36664bitalexlvirtualenvb9f0b0a3af2a4e06a89ee778b9503914",
   "display_name": "Python 3.6.6 64-bit ('alexl': virtualenv)"
  }
 },
 "nbformat": 4,
 "nbformat_minor": 2
}